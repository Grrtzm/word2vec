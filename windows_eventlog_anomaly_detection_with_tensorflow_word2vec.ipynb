{
 "cells": [
  {
   "cell_type": "markdown",
   "id": "d27cd973",
   "metadata": {
    "id": "6385805b"
   },
   "source": [
    "<table style=\"border:1px solid black;border-collapse:collapse;\" align=\"left\">\n",
    "  <td style=\"border:1px solid red;\">\n",
    "    <a target=\"_blank\" href=\"https://colab.research.google.com/github/Grrtzm/word2vec/blob/main/windows_eventlog_anomaly_detection_with_tensorflow_word2vec.ipynb\">Run this notebook in Google Colab</a>\n",
    "  </td>\n",
    "  <td style=\"border:1px solid red;\">\n",
    "    <a target=\"_blank\" href=\"https://github.com/Grrtzm/word2vec/blob/main/windows_eventlog_anomaly_detection_with_tensorflow_word2vec.ipynb\">View source on GitHub</a>\n",
    "  </td>\n",
    "  <td style=\"border:1px solid red;\">\n",
    "    <a target=\"_blank\" href=\"https://www.tensorflow.org/tutorials/text/word2vec\">View original Word2Vec tutorial on TensorFlow.org</a>\n",
    "  </td>\n",
    "  <td style=\"border:1px solid red;\">\n",
    "    <a href=\"https://storage.googleapis.com/tensorflow_docs/docs/site/en/tutorials/text/word2vec.ipynb\">Download original Tensorflow Word2Vec tutorial notebook</a>\n",
    "  </td>\n",
    "</table>"
   ]
  },
  {
   "cell_type": "markdown",
   "id": "b6511796",
   "metadata": {
    "id": "3aca803c"
   },
   "source": [
    "# Word2Vec on Windows Eventlogs\n",
    "This notebook is part of a project that uses Word2Vec for anomaly detection in Windows 10 event logs.<br>\n",
    "It uses a dataset which consists of all events derived from the System event log from my own PC.<br>\n",
    "The data was read using Powershell and Get-WinEvent. You can find the Powershell script and the python script for parsing in my github repository.<br>\n",
    "This version uses the Tensorflow implementation of Word2Vec, <a target=\"_blank\" href=\"https://colab.research.google.com/github/Grrtzm/word2vec/blob/main/windows_eventlog_anomaly_detection_with_gensim_word2vec.ipynb\">this version uses a Gensim implementation of Word2Vec</a>."
   ]
  },
  {
   "cell_type": "markdown",
   "id": "e89f37b2",
   "metadata": {
    "id": "f648a3e3"
   },
   "source": [
    "## Setup"
   ]
  },
  {
   "cell_type": "code",
   "execution_count": 24,
   "id": "43c630dd",
   "metadata": {
    "colab": {
     "base_uri": "https://localhost:8080/"
    },
    "executionInfo": {
     "elapsed": 8588,
     "status": "ok",
     "timestamp": 1640964945471,
     "user": {
      "displayName": "",
      "photoUrl": "",
      "userId": ""
     },
     "user_tz": -60
    },
    "id": "MfT_HiedFLOx",
    "outputId": "2b1a5df0-d0f0-4a2f-b8b6-61e71da8f364"
   },
   "outputs": [
    {
     "name": "stdout",
     "output_type": "stream",
     "text": [
      "2.5.0\n",
      "2.5.0\n"
     ]
    }
   ],
   "source": [
    "import tensorflow as tf\n",
    "print(tf.__version__)\n",
    "!pip install -q tensorflow==2.5.0\n",
    "if tf.__version__!='2.5.0': print(\"Tensorflow 2.5.0 was installed. Please restart the runtime and re-run the cells.\")"
   ]
  },
  {
   "cell_type": "code",
   "execution_count": 2,
   "id": "9a10adb9",
   "metadata": {
    "colab": {
     "base_uri": "https://localhost:8080/",
     "height": 35
    },
    "executionInfo": {
     "elapsed": 1366,
     "status": "ok",
     "timestamp": 1640964946829,
     "user": {
      "displayName": "",
      "photoUrl": "",
      "userId": ""
     },
     "user_tz": -60
    },
    "id": "ca3cf1b4",
    "outputId": "78063f59-1998-42a2-b6ae-ba80d256b317"
   },
   "outputs": [],
   "source": [
    "from os.path import exists as file_exists\n",
    "if file_exists('System-Events-custom.csv') == False:\n",
    "    # !pip install gdown      # uncomment if gdown is missing\n",
    "    import gdown\n",
    "    url = 'https://drive.google.com/uc?id=1Kt1FsUwVVTRkpxt7urykgOgDbeOpYRVn'\n",
    "    output = 'System-Events-custom.csv'\n",
    "    gdown.download(url, output, quiet=True)"
   ]
  },
  {
   "cell_type": "code",
   "execution_count": 3,
   "id": "63dda462",
   "metadata": {
    "colab": {
     "base_uri": "https://localhost:8080/",
     "height": 206
    },
    "executionInfo": {
     "elapsed": 344,
     "status": "ok",
     "timestamp": 1640964947169,
     "user": {
      "displayName": "",
      "photoUrl": "",
      "userId": ""
     },
     "user_tz": -60
    },
    "id": "7f90c752",
    "outputId": "96df5c0f-b508-4ae5-9f18-45629fb43968"
   },
   "outputs": [
    {
     "data": {
      "text/html": [
       "<div>\n",
       "<style scoped>\n",
       "    .dataframe tbody tr th:only-of-type {\n",
       "        vertical-align: middle;\n",
       "    }\n",
       "\n",
       "    .dataframe tbody tr th {\n",
       "        vertical-align: top;\n",
       "    }\n",
       "\n",
       "    .dataframe thead th {\n",
       "        text-align: right;\n",
       "    }\n",
       "</style>\n",
       "<table border=\"1\" class=\"dataframe\">\n",
       "  <thead>\n",
       "    <tr style=\"text-align: right;\">\n",
       "      <th></th>\n",
       "      <th>TimeCreated</th>\n",
       "      <th>EventRecordID</th>\n",
       "      <th>EventID</th>\n",
       "      <th>Level</th>\n",
       "      <th>Provider</th>\n",
       "      <th>Message</th>\n",
       "    </tr>\n",
       "  </thead>\n",
       "  <tbody>\n",
       "    <tr>\n",
       "      <th>0</th>\n",
       "      <td>2021-12-02 20:05:22.768441+00:00</td>\n",
       "      <td>37593</td>\n",
       "      <td>System_1014</td>\n",
       "      <td>Warning</td>\n",
       "      <td>Microsoft-Windows-DNS-Client</td>\n",
       "      <td>Name resolution for the name config.teams.micr...</td>\n",
       "    </tr>\n",
       "    <tr>\n",
       "      <th>1</th>\n",
       "      <td>2021-12-02 20:05:22.255612+00:00</td>\n",
       "      <td>37592</td>\n",
       "      <td>System_32</td>\n",
       "      <td>Information</td>\n",
       "      <td>e1dexpress</td>\n",
       "      <td>NaN</td>\n",
       "    </tr>\n",
       "    <tr>\n",
       "      <th>2</th>\n",
       "      <td>2021-12-02 20:05:19.153883+00:00</td>\n",
       "      <td>37591</td>\n",
       "      <td>System_6062</td>\n",
       "      <td>Warning</td>\n",
       "      <td>Netwtw08</td>\n",
       "      <td>6062 - Lso was triggered</td>\n",
       "    </tr>\n",
       "    <tr>\n",
       "      <th>3</th>\n",
       "      <td>2021-12-02 20:05:18.362357+00:00</td>\n",
       "      <td>37590</td>\n",
       "      <td>System_27</td>\n",
       "      <td>Warning</td>\n",
       "      <td>e1dexpress</td>\n",
       "      <td>NaN</td>\n",
       "    </tr>\n",
       "    <tr>\n",
       "      <th>4</th>\n",
       "      <td>2021-12-02 20:05:18.278408+00:00</td>\n",
       "      <td>37589</td>\n",
       "      <td>System_32</td>\n",
       "      <td>Information</td>\n",
       "      <td>e1dexpress</td>\n",
       "      <td>NaN</td>\n",
       "    </tr>\n",
       "  </tbody>\n",
       "</table>\n",
       "</div>"
      ],
      "text/plain": [
       "                       TimeCreated  ...                                            Message\n",
       "0 2021-12-02 20:05:22.768441+00:00  ...  Name resolution for the name config.teams.micr...\n",
       "1 2021-12-02 20:05:22.255612+00:00  ...                                                NaN\n",
       "2 2021-12-02 20:05:19.153883+00:00  ...                           6062 - Lso was triggered\n",
       "3 2021-12-02 20:05:18.362357+00:00  ...                                                NaN\n",
       "4 2021-12-02 20:05:18.278408+00:00  ...                                                NaN\n",
       "\n",
       "[5 rows x 6 columns]"
      ]
     },
     "execution_count": 3,
     "metadata": {},
     "output_type": "execute_result"
    }
   ],
   "source": [
    "import numpy as np\n",
    "import pandas as pd\n",
    "import tensorflow as tf\n",
    "import io\n",
    "import re\n",
    "import string\n",
    "import tqdm\n",
    "from tensorflow.keras import Model\n",
    "from tensorflow.keras.layers import Dot, Embedding, Flatten\n",
    "from tensorflow.keras.layers.experimental.preprocessing import TextVectorization\n",
    "\n",
    "from time import time  # To time our operations\n",
    "# from collections import defaultdict  # For word frequency\n",
    "from datetime import datetime # Voor DateTime -> datum bewerkingen\n",
    "\n",
    "SEED = 42\n",
    "AUTOTUNE = tf.data.AUTOTUNE\n",
    "\n",
    "# Set the number of negative samples per positive context.\n",
    "# Key point: num_ns (number of negative samples per positive context word) \n",
    "# between [5, 20] is shown to work best for smaller datasets, while num_ns between [2,5] suffices for larger datasets.\n",
    "num_ns = 2 # was 5\n",
    "window_size = 5\n",
    "embedding_dim = 20 #  20 seems to be sufficient, 128 is the default value from the tutorial   # Dimension of the dense embedding.\n",
    "vocab_size = 20000 # inital size of the vocabulary. We will resize it later before defining the model.\n",
    "sequence_length = 40 # Number of words in a sentence.\n",
    "epochs = 3000 # Number of training epochs for Word2Vec\n",
    "use_trained_model = False\n",
    "\n",
    "df = pd.read_csv('System-Events-custom.csv', parse_dates=[\"TimeCreated\"]) \n",
    "df.head()"
   ]
  },
  {
   "cell_type": "markdown",
   "id": "7bfded0f",
   "metadata": {
    "id": "7eb3954b"
   },
   "source": [
    "## Create Event \"word\" from multiple columns\n",
    "This creates a new column containing the words Word2Vec will be trained on."
   ]
  },
  {
   "cell_type": "code",
   "execution_count": 4,
   "id": "18be18aa",
   "metadata": {
    "colab": {
     "base_uri": "https://localhost:8080/",
     "height": 300
    },
    "executionInfo": {
     "elapsed": 232,
     "status": "ok",
     "timestamp": 1640964947399,
     "user": {
      "displayName": "",
      "photoUrl": "",
      "userId": ""
     },
     "user_tz": -60
    },
    "id": "2d158910",
    "outputId": "cb919b26-1303-42d1-dc99-53f386e540f4"
   },
   "outputs": [
    {
     "data": {
      "text/html": [
       "<div>\n",
       "<style scoped>\n",
       "    .dataframe tbody tr th:only-of-type {\n",
       "        vertical-align: middle;\n",
       "    }\n",
       "\n",
       "    .dataframe tbody tr th {\n",
       "        vertical-align: top;\n",
       "    }\n",
       "\n",
       "    .dataframe thead th {\n",
       "        text-align: right;\n",
       "    }\n",
       "</style>\n",
       "<table border=\"1\" class=\"dataframe\">\n",
       "  <thead>\n",
       "    <tr style=\"text-align: right;\">\n",
       "      <th></th>\n",
       "      <th>TimeCreated</th>\n",
       "      <th>EventRecordID</th>\n",
       "      <th>Message</th>\n",
       "      <th>Event</th>\n",
       "    </tr>\n",
       "  </thead>\n",
       "  <tbody>\n",
       "    <tr>\n",
       "      <th>0</th>\n",
       "      <td>2021-12-02 20:05:22.768441+00:00</td>\n",
       "      <td>37593</td>\n",
       "      <td>Name resolution for the name config.teams.micr...</td>\n",
       "      <td>system1014warningmicrosoftwindowsdnsclient</td>\n",
       "    </tr>\n",
       "    <tr>\n",
       "      <th>1</th>\n",
       "      <td>2021-12-02 20:05:22.255612+00:00</td>\n",
       "      <td>37592</td>\n",
       "      <td>NaN</td>\n",
       "      <td>system32informatione1dexpress</td>\n",
       "    </tr>\n",
       "    <tr>\n",
       "      <th>2</th>\n",
       "      <td>2021-12-02 20:05:19.153883+00:00</td>\n",
       "      <td>37591</td>\n",
       "      <td>6062 - Lso was triggered</td>\n",
       "      <td>system6062warningnetwtw08</td>\n",
       "    </tr>\n",
       "    <tr>\n",
       "      <th>3</th>\n",
       "      <td>2021-12-02 20:05:18.362357+00:00</td>\n",
       "      <td>37590</td>\n",
       "      <td>NaN</td>\n",
       "      <td>system27warninge1dexpress</td>\n",
       "    </tr>\n",
       "    <tr>\n",
       "      <th>4</th>\n",
       "      <td>2021-12-02 20:05:18.278408+00:00</td>\n",
       "      <td>37589</td>\n",
       "      <td>NaN</td>\n",
       "      <td>system32informatione1dexpress</td>\n",
       "    </tr>\n",
       "    <tr>\n",
       "      <th>5</th>\n",
       "      <td>2021-12-02 20:05:17.638712+00:00</td>\n",
       "      <td>37588</td>\n",
       "      <td>The system has returned from a low power state...</td>\n",
       "      <td>system1informationmicrosoftwindowspowertrouble...</td>\n",
       "    </tr>\n",
       "    <tr>\n",
       "      <th>6</th>\n",
       "      <td>2021-12-02 20:05:17.544184+00:00</td>\n",
       "      <td>37587</td>\n",
       "      <td>7021 - Connection telemetry fields and analysi...</td>\n",
       "      <td>system7021informationnetwtw08</td>\n",
       "    </tr>\n",
       "    <tr>\n",
       "      <th>7</th>\n",
       "      <td>2021-12-02 20:05:15.997321+00:00</td>\n",
       "      <td>37586</td>\n",
       "      <td>Windows cannot store Bluetooth authentication ...</td>\n",
       "      <td>system18informationbthusb</td>\n",
       "    </tr>\n",
       "  </tbody>\n",
       "</table>\n",
       "</div>"
      ],
      "text/plain": [
       "                       TimeCreated  ...                                              Event\n",
       "0 2021-12-02 20:05:22.768441+00:00  ...         system1014warningmicrosoftwindowsdnsclient\n",
       "1 2021-12-02 20:05:22.255612+00:00  ...                      system32informatione1dexpress\n",
       "2 2021-12-02 20:05:19.153883+00:00  ...                          system6062warningnetwtw08\n",
       "3 2021-12-02 20:05:18.362357+00:00  ...                          system27warninge1dexpress\n",
       "4 2021-12-02 20:05:18.278408+00:00  ...                      system32informatione1dexpress\n",
       "5 2021-12-02 20:05:17.638712+00:00  ...  system1informationmicrosoftwindowspowertrouble...\n",
       "6 2021-12-02 20:05:17.544184+00:00  ...                      system7021informationnetwtw08\n",
       "7 2021-12-02 20:05:15.997321+00:00  ...                          system18informationbthusb\n",
       "\n",
       "[8 rows x 4 columns]"
      ]
     },
     "execution_count": 4,
     "metadata": {},
     "output_type": "execute_result"
    }
   ],
   "source": [
    "import string\n",
    "punct = '!\"#$%&\\'()*+,-./:;<=>?@[\\\\]^_`{}~'   # `|` is not present here\n",
    "transtab = str.maketrans(dict.fromkeys(punct, ''))\n",
    "\n",
    "# Define a function to remove spaces\n",
    "# https://iqcode.com/code/python/pandas-series-remove-punctuation\n",
    "# and https://stackoverflow.com/questions/50444346/fast-punctuation-removal-with-pandas\n",
    "def remove_spaces(text):\n",
    "    for punctuation in string.punctuation:\n",
    "        text = text.replace(' ', '')\n",
    "    return text\n",
    "\n",
    "# Create a new column. Concatenate the columns, remove unwanted characters and convert to lowercase\n",
    "df['Event'] = df['EventID'].map(str) + df['Level'].map(str) + df['Provider'].apply(remove_spaces).map(str)\n",
    "df['Event'] = '|'.join(df['Event'].tolist()).translate(transtab).split('|') # remove all other unwanted characters\n",
    "df['Event'] = df['Event'].str.lower()\n",
    "\n",
    "# Delete the redundant columns\n",
    "df = df.drop(['EventID','Level','Provider'], axis=1)\n",
    "\n",
    "# Show a preview\n",
    "df.head(8)"
   ]
  },
  {
   "cell_type": "code",
   "execution_count": 5,
   "id": "b6693c7a",
   "metadata": {
    "colab": {
     "base_uri": "https://localhost:8080/"
    },
    "executionInfo": {
     "elapsed": 258,
     "status": "ok",
     "timestamp": 1640964947650,
     "user": {
      "displayName": "",
      "photoUrl": "",
      "userId": ""
     },
     "user_tz": -60
    },
    "id": "121bc32b",
    "outputId": "8067cee0-7ffd-44d4-9a70-3541fdf2bb5f"
   },
   "outputs": [
    {
     "name": "stdout",
     "output_type": "stream",
     "text": [
      "Number of lines/events in the dataset: 37593\n",
      "\n"
     ]
    }
   ],
   "source": [
    "num_rows = len(df.axes[0])\n",
    "print(f\"Number of lines/events in the dataset: {num_rows}\\n\")"
   ]
  },
  {
   "cell_type": "markdown",
   "id": "445e4d72",
   "metadata": {
    "id": "c1ea9477"
   },
   "source": [
    "## Create csv file corpus"
   ]
  },
  {
   "cell_type": "markdown",
   "id": "69b59b0c",
   "metadata": {
    "id": "649f9682"
   },
   "source": [
    "Create the text dataset \"eventlist\", a list containing \"eventrow\" lists. An \"eventrow\" list contains all events for that day."
   ]
  },
  {
   "cell_type": "code",
   "execution_count": 6,
   "id": "c4f9d8cb",
   "metadata": {
    "colab": {
     "base_uri": "https://localhost:8080/"
    },
    "executionInfo": {
     "elapsed": 5659,
     "status": "ok",
     "timestamp": 1640964953306,
     "user": {
      "displayName": "",
      "photoUrl": "",
      "userId": ""
     },
     "user_tz": -60
    },
    "id": "d45164a4",
    "outputId": "aad19c32-0414-4461-dc96-8f719f169daf"
   },
   "outputs": [
    {
     "name": "stdout",
     "output_type": "stream",
     "text": [
      "Number of lines = 263, shortest line = 2 words, longest line = 1011 words\n",
      "\n"
     ]
    }
   ],
   "source": [
    "minlength = 1e6\n",
    "maxlength = 0\n",
    "eventlist = []\n",
    "eventrow = []\n",
    "previous_date = None # datetime.now().date()\n",
    "for idx, row in df.iterrows():\n",
    "    date = row['TimeCreated'].date()\n",
    "    eventrow.append(row['Event'])\n",
    "    if date != previous_date:\n",
    "        length = len(eventrow) + 1\n",
    "        if length > maxlength: maxlength = length\n",
    "        if length < minlength: minlength = length\n",
    "        eventrow = []\n",
    "        eventlist.append(eventrow)\n",
    "        previous_date = date\n",
    "        \n",
    "print(f\"Number of lines = {len(eventlist)}, shortest line = {minlength} words, longest line = {maxlength} words\\n\")\n",
    "\n",
    "# Ugly, but the easiest way. Save the list to a csv file and read that as a text file.\n",
    "# Save the dataset as a csv file using the numpy module\n",
    "events = np.array(eventlist, dtype=object)\n",
    "np.savetxt('eventlist.csv', events, delimiter=',', fmt ='% s')"
   ]
  },
  {
   "cell_type": "code",
   "execution_count": 7,
   "id": "3e19a471",
   "metadata": {
    "colab": {
     "base_uri": "https://localhost:8080/"
    },
    "executionInfo": {
     "elapsed": 6,
     "status": "ok",
     "timestamp": 1640964953306,
     "user": {
      "displayName": "",
      "photoUrl": "",
      "userId": ""
     },
     "user_tz": -60
    },
    "id": "1be67f16",
    "outputId": "bfbc186d-d618-4cd7-b590-94b13b64f30c"
   },
   "outputs": [
    {
     "name": "stdout",
     "output_type": "stream",
     "text": [
      "`sequence_length` is changed now from 40 to 1011\n"
     ]
    }
   ],
   "source": [
    "print(f\"`sequence_length` is changed now from {sequence_length} to {maxlength}\")\n",
    "sequence_length = maxlength"
   ]
  },
  {
   "cell_type": "markdown",
   "id": "c2bf841e",
   "metadata": {
    "id": "935af767"
   },
   "source": [
    "### Vectorize sentences from the corpus"
   ]
  },
  {
   "cell_type": "code",
   "execution_count": 8,
   "id": "e1b76192",
   "metadata": {
    "colab": {
     "base_uri": "https://localhost:8080/"
    },
    "executionInfo": {
     "elapsed": 1264,
     "status": "ok",
     "timestamp": 1640964954566,
     "user": {
      "displayName": "",
      "photoUrl": "",
      "userId": ""
     },
     "user_tz": -60
    },
    "id": "8be1487a",
    "outputId": "da424f71-0816-4e4f-fec9-c47ca2adf2c0"
   },
   "outputs": [
    {
     "name": "stdout",
     "output_type": "stream",
     "text": [
      "File containing log events: eventlist.csv\n",
      "\n",
      "Number of words in vocabulary (limit is 20000): 192\n",
      "First 10 sequences:\n",
      "\n",
      "[32 11 47 ...  0  0  0]\n",
      "[5 3 3 ... 0 0 0]\n",
      "[ 5 14 26 ...  0  0  0]\n",
      "[14 26 42 ...  0  0  0]\n",
      "[ 5  9 41 ...  0  0  0]\n",
      "[ 5 14 26 ...  0  0  0]\n",
      "[14 26  2 ...  0  0  0]\n",
      "[14 26 13 ...  0  0  0]\n",
      "[ 5 14 26 ...  0  0  0]\n",
      "[ 5 47 14 ...  0  0  0]\n",
      "[ 5 14 26 ...  0  0  0]\n"
     ]
    }
   ],
   "source": [
    "path_to_file = \"eventlist.csv\"\n",
    "\n",
    "print(f\"File containing log events: {path_to_file}\\n\")\n",
    "\n",
    "# Use the non empty lines to construct a tf.data.TextLineDataset object for next steps.\n",
    "text_ds = tf.data.TextLineDataset(path_to_file).filter(lambda x: tf.cast(tf.strings.length(x), bool))\n",
    "\n",
    "'''\n",
    "# Uncomment this block to see how the data (tensors) looks like.\n",
    "for line in text_ds.take(10):\n",
    "    print(line)\n",
    "print(f\"Those were the tensors\\n\")\n",
    "\n",
    "print(text_ds)\n",
    "print()\n",
    "'''\n",
    "\n",
    "# Now, create a custom standardization function to lowercase the text and remove punctuation.\n",
    "def custom_standardization(input_data):\n",
    "    lowercase = tf.strings.lower(input_data)\n",
    "    return tf.strings.regex_replace(lowercase,\n",
    "    '[%s]' % re.escape(string.punctuation), '')\n",
    "\n",
    "# Use the text vectorization layer to normalize, split, and map strings to\n",
    "# integers. Set output_sequence_length length to pad all samples to same length.\n",
    "vectorize_layer = TextVectorization(\n",
    "    standardize=custom_standardization,\n",
    "    max_tokens=vocab_size, # None\n",
    "    output_mode='int',\n",
    "    output_sequence_length=sequence_length)\n",
    "\n",
    "# Call adapt on the text dataset to create vocabulary.\n",
    "vectorize_layer.adapt(text_ds.batch(1024))\n",
    "\n",
    "# Save the created vocabulary for reference.\n",
    "inverse_vocab = vectorize_layer.get_vocabulary()\n",
    "print(f\"Number of words in vocabulary (limit is {vocab_size}): {len(inverse_vocab)-1}\")\n",
    "\n",
    "# Vectorize the data in text_ds.\n",
    "text_vector_ds = text_ds.batch(1024).prefetch(AUTOTUNE).map(vectorize_layer).unbatch()\n",
    "\n",
    "# Obtain number of sequences from the dataset\n",
    "sequences = list(text_vector_ds.as_numpy_iterator())\n",
    "\n",
    "print(f\"First 10 sequences:\\n\")\n",
    "idx = 0\n",
    "for seq in sequences:\n",
    "    print(seq)\n",
    "    idx = idx + 1\n",
    "    if idx > 10: break"
   ]
  },
  {
   "cell_type": "markdown",
   "id": "86f1527b",
   "metadata": {
    "id": "00f20f46"
   },
   "source": [
    "## Show the vocabulary"
   ]
  },
  {
   "cell_type": "code",
   "execution_count": 9,
   "id": "a12cff53",
   "metadata": {
    "colab": {
     "base_uri": "https://localhost:8080/"
    },
    "executionInfo": {
     "elapsed": 234,
     "status": "ok",
     "timestamp": 1640964954799,
     "user": {
      "displayName": "",
      "photoUrl": "",
      "userId": ""
     },
     "user_tz": -60
    },
    "id": "54c241c2",
    "outputId": "e7ecd1b2-fdf7-491e-a2fb-2599ea11d0de"
   },
   "outputs": [
    {
     "name": "stdout",
     "output_type": "stream",
     "text": [
      "Number of words in vocabulary (limit is 20000): 192\n",
      "\n",
      "Index 0:\tWeight:0\t\n",
      "Index 1:\tWeight:0\t[UNK]\n",
      "Index 2:\tWeight:2\tsystem7040informationservicecontrolmanager\n",
      "Index 3:\tWeight:3\tsystem16informationmicrosoftwindowskernelgeneral\n",
      "Index 4:\tWeight:104\tsystem10016warningmicrosoftwindowsdistributedcom\n",
      "Index 5:\tWeight:5\tsystem7021informationnetwtw08\n",
      "Index 6:\tWeight:39\tsystem55informationmicrosoftwindowskernelprocessorpower\n",
      "Index 7:\tWeight:54\tsystem6informationmicrosoftwindowsfiltermanager\n",
      "Index 8:\tWeight:4\tsystem1informationgoogledrivefs3525\n",
      "Index 9:\tWeight:52\tsystem1informationmicrosoftwindowskernelgeneral\n",
      "Index 10:\tWeight:21\tsystem7003informationnetwtw08\n",
      "Index 11:\tWeight:20\tsystem6062warningnetwtw08\n",
      "Index 12:\tWeight:72\tsystem18informationbthusb\n",
      "Index 13:\tWeight:8\tsystem1014warningmicrosoftwindowsdnsclient\n",
      "Index 14:\tWeight:6\tsystem42informationmicrosoftwindowskernelpower\n",
      "Index 15:\tWeight:51\tsystem1informationmicrosoftwindowspowertroubleshooter\n",
      "Index 16:\tWeight:7\tsystem107informationmicrosoftwindowskernelpower\n",
      "Index 17:\tWeight:9\tsystem44informationmicrosoftwindowswindowsupdateclient\n",
      "Index 18:\tWeight:10\tsystem43informationmicrosoftwindowswindowsupdateclient\n",
      "Index 19:\tWeight:64\tsystem7025informationnetwtw08\n",
      "Index 20:\tWeight:45\tsystem19informationmicrosoftwindowswindowsupdateclient\n",
      "Index 21:\tWeight:11\tsystem32informationmicrosoftwindowskernelboot\n",
      "Index 22:\tWeight:28\tsystem30informationmicrosoftwindowskernelboot\n",
      "Index 23:\tWeight:12\tsystem27informationmicrosoftwindowskernelboot\n",
      "Index 24:\tWeight:13\tsystem25informationmicrosoftwindowskernelboot\n",
      "Index 25:\tWeight:164\tsystem18informationmicrosoftwindowskernelboot\n",
      "Index 26:\tWeight:19\tsystem187informationmicrosoftwindowskernelpower\n",
      "Index 27:\tWeight:14\tsystem225warningmicrosoftwindowskernelpnp\n",
      "Index 28:\tWeight:15\tsystem24informationmicrosoftwindowskernelgeneral\n",
      "Index 29:\tWeight:16\tsystem98informationmicrosoftwindowsntfs\n",
      "Index 30:\tWeight:17\tsystem219warningmicrosoftwindowskernelpnp\n",
      "Index 31:\tWeight:43\tsystem10118informationmicrosoftwindowsdriverframeworksusermode\n",
      "Index 32:\tWeight:187\tsystem32informatione1dexpress\n",
      "Index 33:\tWeight:18\tsystem7045informationservicecontrolmanager\n",
      "Index 34:\tWeight:62\tsystem51warningdisk\n",
      "Index 35:\tWeight:22\tsystem158informationmicrosoftwindowstimeservice\n",
      "Index 36:\tWeight:23\tsystem6013informationeventlog\n",
      "Index 37:\tWeight:149\tsystem10010errormicrosoftwindowsdistributedcom\n",
      "Index 38:\tWeight:24\tsystem12informationmicrosoftwindowsusermodepowerservice\n",
      "Index 39:\tWeight:98\tsystem32informatione1i65x64\n",
      "Index 40:\tWeight:65\tsystem51057informationmicrosoftwindowsdhcpv6client\n",
      "Index 41:\tWeight:34\tsystem37informationmicrosoftwindowstimeservice\n",
      "Index 42:\tWeight:25\tsystem267informationwin32k\n",
      "Index 43:\tWeight:174\tsystem105informationmicrosoftwindowskernelpower\n",
      "Index 44:\tWeight:26\tsystem1001informationhpdskflt\n",
      "Index 45:\tWeight:27\tsystem15informationmicrosoftwindowskernelgeneral\n",
      "Index 46:\tWeight:66\tsystem35informationmicrosoftwindowstimeservice\n",
      "Index 47:\tWeight:50\tsystem27warninge1dexpress\n",
      "Index 48:\tWeight:29\tsystem521informationmicrosoftwindowskernelpower\n",
      "Index 49:\tWeight:36\tsystem4207errortcpip\n",
      "Index 50:\tWeight:30\tsystem12errorvboxnetlwf\n",
      "Index 51:\tWeight:31\tsystem27warninge1i65x64\n",
      "Index 52:\tWeight:32\tsystem11informationmicrosoftwindowskernelgeneral\n",
      "Index 53:\tWeight:33\tsystem131informationmicrosoftwindowskernelpower\n",
      "Index 54:\tWeight:35\tsystem130informationmicrosoftwindowskernelpower\n",
      "Index 55:\tWeight:44\tsystem20003informationmicrosoftwindowsuserpnp\n",
      "Index 56:\tWeight:42\tsystem3errormicrosoftwindowsfiltermanager\n",
      "Index 57:\tWeight:37\tsystem7036informationnetwtw08\n",
      "Index 58:\tWeight:38\tsystem7010informationnetwtw08\n",
      "Index 59:\tWeight:40\tsystem7005informationnetwtw08\n",
      "Index 60:\tWeight:41\tsystem7017informationnetwtw08\n",
      "Index 61:\tWeight:46\tsystem1informationmicrosoftwindowsfiltermanager\n",
      "Index 62:\tWeight:47\tsystem10001informationmicrosoftwindowswlanautoconfig\n",
      "Index 63:\tWeight:163\tsystem7001informationmicrosoftwindowswinlogon\n",
      "Index 64:\tWeight:48\tsystem2informationmeix64\n",
      "Index 65:\tWeight:141\tsystem7026informationservicecontrolmanager\n",
      "Index 66:\tWeight:49\tsystem6009informationeventlog\n",
      "Index 67:\tWeight:118\tsystem6005informationeventlog\n",
      "Index 68:\tWeight:58\tsystem51046informationmicrosoftwindowsdhcpv6client\n",
      "Index 69:\tWeight:53\tsystem50103informationmicrosoftwindowsdhcpclient\n",
      "Index 70:\tWeight:55\tsystem50036informationmicrosoftwindowsdhcpclient\n",
      "Index 71:\tWeight:56\tsystem4000informationmicrosoftwindowswlanautoconfig\n",
      "Index 72:\tWeight:76\tsystem238informationmicrosoftwindowskernelboot\n",
      "Index 73:\tWeight:57\tsystem20informationmicrosoftwindowskernelgeneral\n",
      "Index 74:\tWeight:59\tsystem20informationmicrosoftwindowskernelboot\n",
      "Index 75:\tWeight:60\tsystem18informationtpm\n",
      "Index 76:\tWeight:128\tsystem172informationmicrosoftwindowskernelpower\n",
      "Index 77:\tWeight:61\tsystem16informationmicrosoftwindowshal\n",
      "Index 78:\tWeight:63\tsystem16977informationmicrosoftwindowsdirectoryservicessam\n",
      "Index 79:\tWeight:67\tsystem16962informationmicrosoftwindowsdirectoryservicessam\n",
      "Index 80:\tWeight:68\tsystem153informationmicrosoftwindowskernelboot\n",
      "Index 81:\tWeight:69\tsystem14informationmicrosoftwindowswininit\n",
      "Index 82:\tWeight:70\tsystem12informationmicrosoftwindowskernelgeneral\n",
      "Index 83:\tWeight:71\tsystem1282informationmicrosoftwindowstpmwmi\n",
      "Index 84:\tWeight:73\tsystem1025informationmicrosoftwindowstpmwmi\n",
      "Index 85:\tWeight:74\tsystem10002warningmicrosoftwindowswlanautoconfig\n",
      "Index 86:\tWeight:75\tsystem7002informationmicrosoftwindowswinlogon\n",
      "Index 87:\tWeight:77\tsystem134warningmicrosoftwindowstimeservice\n",
      "Index 88:\tWeight:78\tsystem1074informationuser32\n",
      "Index 89:\tWeight:117\tsystem6006informationeventlog\n",
      "Index 90:\tWeight:79\tsystem51047informationmicrosoftwindowsdhcpv6client\n",
      "Index 91:\tWeight:80\tsystem50106informationmicrosoftwindowsdhcpclient\n",
      "Index 92:\tWeight:81\tsystem50105informationmicrosoftwindowsdhcpclient\n",
      "Index 93:\tWeight:82\tsystem50104informationmicrosoftwindowsdhcpclient\n",
      "Index 94:\tWeight:83\tsystem50037informationmicrosoftwindowsdhcpclient\n",
      "Index 95:\tWeight:151\tsystem4001informationmicrosoftwindowswlanautoconfig\n",
      "Index 96:\tWeight:84\tsystem13informationmicrosoftwindowskernelgeneral\n",
      "Index 97:\tWeight:85\tsystem109informationmicrosoftwindowskernelpower\n",
      "Index 98:\tWeight:86\tsystem36informationvmnetadapter\n",
      "Index 99:\tWeight:87\tsystem34nanvmx86\n",
      "Index 100:\tWeight:88\tsystem1informationvmnetuserif\n",
      "Index 101:\tWeight:170\tsystem10informationvmnetbridge\n",
      "Index 102:\tWeight:93\tsystem15005errormicrosoftwindowshttpevent\n",
      "Index 103:\tWeight:89\tsystem24576informationmicrosoftwindowswpdclassinstaller\n",
      "Index 104:\tWeight:177\tsystem10100informationmicrosoftwindowsdriverframeworksusermode\n",
      "Index 105:\tWeight:90\tsystem10000informationmicrosoftwindowsdriverframeworksusermode\n",
      "Index 106:\tWeight:91\tsystem10002informationmicrosoftwindowsdriverframeworksusermode\n",
      "Index 107:\tWeight:92\tsystem33informationvolsnap\n",
      "Index 108:\tWeight:94\tsystem24577informationmicrosoftwindowswpdclassinstaller\n",
      "Index 109:\tWeight:95\tsystem26informationapplicationpopup\n",
      "Index 110:\tWeight:96\tsystem24579informationmicrosoftwindowswpdclassinstaller\n",
      "Index 111:\tWeight:97\tsystem16983informationmicrosoftwindowsdirectoryservicessam\n",
      "Index 112:\tWeight:99\tsystem55errorntfs\n",
      "Index 113:\tWeight:100\tsystem140warningmicrosoftwindowsntfs\n",
      "Index 114:\tWeight:101\tsystem50warningntfs\n",
      "Index 115:\tWeight:102\tsystem16393warningmicrosoftwindowsbitsclient\n",
      "Index 116:\tWeight:103\tsystem10317errormicrosoftwindowsndis\n",
      "Index 117:\tWeight:105\tsystem15008informationmicrosoftwindowshttpevent\n",
      "Index 118:\tWeight:106\tsystem15007informationmicrosoftwindowshttpevent\n",
      "Index 119:\tWeight:107\tsystem6008erroreventlog\n",
      "Index 120:\tWeight:108\tsystem41criticalmicrosoftwindowskernelpower\n",
      "Index 121:\tWeight:109\tsystem10400warningmicrosoftwindowsndis\n",
      "Index 122:\tWeight:110\tsystem8000informationnetwtw08\n",
      "Index 123:\tWeight:111\tsystem98errormicrosoftwindowsntfs\n",
      "Index 124:\tWeight:112\tsystem7012informationnetwtw08\n",
      "Index 125:\tWeight:113\tsystem7034errorservicecontrolmanager\n",
      "Index 126:\tWeight:183\tsystem7011errorservicecontrolmanager\n",
      "Index 127:\tWeight:114\tsystem4003warningmicrosoftwindowswlanautoconfig\n",
      "Index 128:\tWeight:115\tsystem7043errorservicecontrolmanager\n",
      "Index 129:\tWeight:116\tsystem7011informationnetwtw08\n",
      "Index 130:\tWeight:119\tsystem20errormicrosoftwindowswindowsupdateclient\n",
      "Index 131:\tWeight:120\tsystem153warningdisk\n",
      "Index 132:\tWeight:121\tsystem125informationmicrosoftwindowskernelpower\n",
      "Index 133:\tWeight:122\tsystem10005errormicrosoftwindowsdistributedcom\n",
      "Index 134:\tWeight:123\tsystem1warningvmnetdhcp\n",
      "Index 135:\tWeight:124\tsystem7000errorservicecontrolmanager\n",
      "Index 136:\tWeight:125\tsystem4100informationmicrosoftwindowsdiagnosticsnetworking\n",
      "Index 137:\tWeight:126\tsystem25089informationmicrosoftwindowswpdclassinstaller\n",
      "Index 138:\tWeight:127\tsystem24578informationmicrosoftwindowswpdclassinstaller\n",
      "Index 139:\tWeight:129\tsystem129warninguaspstor\n",
      "Index 140:\tWeight:130\tsystem11errordisk\n",
      "Index 141:\tWeight:131\tsystem7023errorservicecontrolmanager\n",
      "Index 142:\tWeight:132\tsystem7009errorservicecontrolmanager\n",
      "Index 143:\tWeight:133\tsystem4informationvirtualdiskservice\n",
      "Index 144:\tWeight:134\tsystem3informationvirtualdiskservice\n",
      "Index 145:\tWeight:135\tsystem36errorvolsnap\n",
      "Index 146:\tWeight:178\tsystem36871errorschannel\n",
      "Index 147:\tWeight:136\tsystem161errorvolmgr\n",
      "Index 148:\tWeight:137\tsystem1502informationmicrosoftwindowsgrouppolicy\n",
      "Index 149:\tWeight:138\tsystem1001errormicrosoftwindowswersystemerrorreporting\n",
      "Index 150:\tWeight:139\tsystem4311errornetbt\n",
      "Index 151:\tWeight:140\tsystem263warningwin32k\n",
      "Index 152:\tWeight:142\tsystem14warningbthusb\n",
      "Index 153:\tWeight:143\tsystem1073warninguser32\n",
      "Index 154:\tWeight:155\tsystem610errormicrosoftwindowssmartcardserver\n",
      "Index 155:\tWeight:144\tsystem4227warningtcpip\n",
      "Index 156:\tWeight:145\tsystem4101warningdisplay\n",
      "Index 157:\tWeight:146\tsystem24665informationmicrosoftwindowsbitlockerdriver\n",
      "Index 158:\tWeight:147\tsystem22informationmicrosoftwindowsusermodepowerservice\n",
      "Index 159:\tWeight:148\tsystem1errorvdsbasicprovider\n",
      "Index 160:\tWeight:150\tsystem158warningdisk\n",
      "Index 161:\tWeight:152\tsystem130warningntfs\n",
      "Index 162:\tWeight:153\tsystem8informationbthusb\n",
      "Index 163:\tWeight:154\tsystem7031errorservicecontrolmanager\n",
      "Index 164:\tWeight:156\tsystem7030errorservicecontrolmanager\n",
      "Index 165:\tWeight:157\tsystem5errorvdsbasicprovider\n",
      "Index 166:\tWeight:158\tsystem524informationmicrosoftwindowskernelpower\n",
      "Index 167:\tWeight:159\tsystem4000informationmicrosoftwindowsdiagnosticsnetworking\n",
      "Index 168:\tWeight:160\tsystem26informationmicrosoftwindowskernelboot\n",
      "Index 169:\tWeight:161\tsystem24666informationmicrosoftwindowsbitlockerdriver\n",
      "Index 170:\tWeight:162\tsystem22informationmicrosoftwindowskernelgeneral\n",
      "Index 171:\tWeight:165\tsystem2004warningmicrosoftwindowsresourceexhaustiondetector\n",
      "Index 172:\tWeight:180\tsystem1503informationmicrosoftwindowsgrouppolicy\n",
      "Index 173:\tWeight:166\tsystem1056informationmicrosoftwindowsterminalservicesremoteconnectionmanager\n",
      "Index 174:\tWeight:167\tsystem10001informationmicrosoftwindowsdriverframeworksusermode\n",
      "Index 175:\tWeight:168\tsystem59informationmicrosoftwindowskernelpower\n",
      "Index 176:\tWeight:169\tsystem519informationmicrosoftwindowstpmwmi\n",
      "Index 177:\tWeight:171\tsystem5005errornetwtw08\n",
      "Index 178:\tWeight:172\tsystem5005errordlcdcncm\n",
      "Index 179:\tWeight:173\tsystem5002errornetwtw08\n",
      "Index 180:\tWeight:175\tsystem4warningmeix64\n",
      "Index 181:\tWeight:176\tsystem4307errornetbt\n",
      "Index 182:\tWeight:179\tsystem24667informationmicrosoftwindowsbitlockerdriver\n",
      "Index 183:\tWeight:181\tsystem24664informationmicrosoftwindowsbitlockerdriver\n",
      "Index 184:\tWeight:182\tsystem24660informationmicrosoftwindowsbitlockerdriver\n",
      "Index 185:\tWeight:184\tsystem24620errormicrosoftwindowsbitlockerdriver\n",
      "Index 186:\tWeight:185\tsystem2005informationmicrosoftwindowssetupplatform\n",
      "Index 187:\tWeight:186\tsystem2004informationmicrosoftwindowssetup\n",
      "Index 188:\tWeight:188\tsystem1warningmeix64\n",
      "Index 189:\tWeight:189\tsystem17informationtpm\n",
      "Index 190:\tWeight:190\tsystem1501informationmicrosoftwindowsgrouppolicy\n",
      "Index 191:\tWeight:191\tsystem137errorntfs\n",
      "Index 192:\tWeight:192\tsystem136warningntfs\n"
     ]
    }
   ],
   "source": [
    "vocab_len = len(inverse_vocab)\n",
    "print(f\"Number of words in vocabulary (limit is {vocab_size}): {vocab_len - 1}\\n\")\n",
    "v=0\n",
    "for i in range(vocab_len):\n",
    "    if i>0: \n",
    "        # I needed to shift the weight index in order to match the values from u with the inverse_vocab\n",
    "        # v = vectorize_layer.get_weights()[0][i-2]\n",
    "        v = vectorize_layer.get_weights()[1][i-2]  # in Tensorflow 2.5.0\n",
    "    w = inverse_vocab[i]\n",
    "    print(f\"Index {i}:\\tWeight:{v}\\t{w}\")\n",
    "    #if i > 5: break # only show the first 5"
   ]
  },
  {
   "cell_type": "markdown",
   "id": "6dcfc0fe",
   "metadata": {
    "id": "750d99c7"
   },
   "source": [
    "### Helper function to generate training data\n",
    "Generates skip-gram pairs with negative sampling for a list of sequences (int-encoded sentences) \n",
    "based on window size, number of negative samples and vocabulary size."
   ]
  },
  {
   "cell_type": "code",
   "execution_count": 10,
   "id": "4b1d2eba",
   "metadata": {
    "executionInfo": {
     "elapsed": 2,
     "status": "ok",
     "timestamp": 1640964954800,
     "user": {
      "displayName": "",
      "photoUrl": "",
      "userId": ""
     },
     "user_tz": -60
    },
    "id": "e67148bf"
   },
   "outputs": [],
   "source": [
    "def generate_training_data(sequences, window_size, num_ns, vocab_size, seed):\n",
    "    # Elements of each training example are appended to these lists.\n",
    "    targets, contexts, labels = [], [], []\n",
    "\n",
    "    # Build the sampling table for vocab_size tokens.\n",
    "    sampling_table = tf.keras.preprocessing.sequence.make_sampling_table(vocab_size)\n",
    "\n",
    "    # Iterate over all sequences (sentences) in dataset.\n",
    "    for sequence in tqdm.tqdm(sequences):\n",
    "        # Generate positive skip-gram pairs for a sequence (sentence).\n",
    "        positive_skip_grams, _ = tf.keras.preprocessing.sequence.skipgrams(\n",
    "              sequence,\n",
    "              vocabulary_size=vocab_size,\n",
    "              sampling_table=sampling_table,\n",
    "              window_size=window_size,\n",
    "              negative_samples=0)\n",
    "\n",
    "        # Iterate over each positive skip-gram pair to produce training examples\n",
    "        # with positive context word and negative samples.\n",
    "        for target_word, context_word in positive_skip_grams:\n",
    "            context_class = tf.expand_dims(\n",
    "                tf.constant([context_word], dtype=\"int64\"), 1)\n",
    "            negative_sampling_candidates, _, _ = tf.random.log_uniform_candidate_sampler(\n",
    "                true_classes=context_class,\n",
    "                num_true=1,\n",
    "                num_sampled=num_ns,\n",
    "                unique=True,\n",
    "                range_max=vocab_size,\n",
    "                seed=SEED,\n",
    "                name=\"negative_sampling\")\n",
    "\n",
    "            # Build context and label vectors (for one target word)\n",
    "            negative_sampling_candidates = tf.expand_dims(\n",
    "                negative_sampling_candidates, 1)\n",
    "\n",
    "            context = tf.concat([context_class, negative_sampling_candidates], 0)\n",
    "            label = tf.constant([1] + [0]*num_ns, dtype=\"int64\")\n",
    "\n",
    "            # Append each element from the training example to global lists.\n",
    "            targets.append(target_word)\n",
    "            contexts.append(context)\n",
    "            labels.append(label)\n",
    "\n",
    "    return targets, contexts, labels"
   ]
  },
  {
   "cell_type": "markdown",
   "id": "694e0fe1",
   "metadata": {
    "id": "4b744819"
   },
   "source": [
    "### Generate training examples from sequences\n",
    "`sequences` is now a list of int encoded sentences."
   ]
  },
  {
   "cell_type": "code",
   "execution_count": 11,
   "id": "890f0253",
   "metadata": {
    "colab": {
     "base_uri": "https://localhost:8080/"
    },
    "executionInfo": {
     "elapsed": 5804,
     "status": "ok",
     "timestamp": 1640964960602,
     "user": {
      "displayName": "",
      "photoUrl": "",
      "userId": ""
     },
     "user_tz": -60
    },
    "id": "ea921625",
    "outputId": "e0db1c32-6f36-459d-85b9-86955cb8139b"
   },
   "outputs": [
    {
     "name": "stdout",
     "output_type": "stream",
     "text": [
      "Genererate training examples from sequences, using: window_size=5, num_ns=2, vocab_size=193, seed=42\n"
     ]
    },
    {
     "name": "stderr",
     "output_type": "stream",
     "text": [
      "100%|██████████| 263/263 [00:03<00:00, 87.36it/s] \n"
     ]
    },
    {
     "name": "stdout",
     "output_type": "stream",
     "text": [
      "Number of training examples; targets:9430, contexts:9430, labels:9430\n"
     ]
    }
   ],
   "source": [
    "print(f\"Genererate training examples from sequences, using: window_size={window_size}, num_ns={num_ns}, vocab_size={vocab_len}, seed={SEED}\")\n",
    "import time\n",
    "time.sleep(1) # Nodig om tekst op de juiste plaats terecht te laten komen (i.v.m. multi-threading)\n",
    "targets, contexts, labels = generate_training_data(\n",
    "    # sequences=sequences,\n",
    "    sequences=sequences,\n",
    "    window_size=window_size,\n",
    "    num_ns=num_ns,\n",
    "    vocab_size=vocab_len,\n",
    "    seed=SEED)\n",
    "time.sleep(1) # Nodig om tekst op de juiste plaats terecht te laten komen (i.v.m. multi-threading)\n",
    "print(f\"Number of training examples; targets:{len(targets)}, contexts:{len(contexts)}, labels:{len(labels)}\")\n",
    "\n",
    "# Configure the dataset for performance\n",
    "BATCH_SIZE = len(targets)\n",
    "BUFFER_SIZE = 10000\n",
    "dataset = tf.data.Dataset.from_tensor_slices(((targets, contexts), labels))\n",
    "dataset = dataset.shuffle(BUFFER_SIZE).batch(BATCH_SIZE, drop_remainder=True)\n",
    "\n",
    "# Add cache() and prefetch() to improve performance.\n",
    "dataset = dataset.cache().prefetch(buffer_size=AUTOTUNE)"
   ]
  },
  {
   "cell_type": "markdown",
   "id": "383b00e6",
   "metadata": {
    "id": "e820d491"
   },
   "source": [
    "### Model and Training"
   ]
  },
  {
   "cell_type": "code",
   "execution_count": 12,
   "id": "d5839bfa",
   "metadata": {
    "colab": {
     "base_uri": "https://localhost:8080/"
    },
    "executionInfo": {
     "elapsed": 73780,
     "status": "ok",
     "timestamp": 1640965034365,
     "user": {
      "displayName": "",
      "photoUrl": "",
      "userId": ""
     },
     "user_tz": -60
    },
    "id": "c9add7d6",
    "outputId": "5da29a91-71d3-4810-b9cc-65b40ed3c3af"
   },
   "outputs": [
    {
     "name": "stdout",
     "output_type": "stream",
     "text": [
      "Training Word2Vec...\n",
      "\n",
      "Reached 90% accuracy in 535 epochs. Ended training...\n"
     ]
    }
   ],
   "source": [
    "class trainingCallback(tf.keras.callbacks.Callback):\n",
    "    def on_epoch_end(self, epoch, logs={}):\n",
    "        if(logs.get('accuracy')>0.9):\n",
    "            print(f\"\\nReached 90% accuracy in {epoch+1} epochs. Ended training...\")\n",
    "            self.model.stop_training = True\n",
    "\n",
    "class Word2Vec(Model):\n",
    "    def __init__(self, vocab_size, embedding_dim):\n",
    "        super(Word2Vec, self).__init__()\n",
    "        self.target_embedding = Embedding(vocab_size,\n",
    "                                      embedding_dim,\n",
    "                                      input_length=1,\n",
    "                                      name=\"w2v_embedding\")\n",
    "        self.context_embedding = Embedding(vocab_size,\n",
    "                                       embedding_dim,\n",
    "                                       input_length=num_ns+1)\n",
    "        self.dots = Dot(axes=(3, 2))\n",
    "        self.flatten = Flatten()\n",
    "\n",
    "    def call(self, pair):\n",
    "        target, context = pair\n",
    "        word_emb = self.target_embedding(target)\n",
    "        context_emb = self.context_embedding(context)\n",
    "        dots = self.dots([context_emb, word_emb])\n",
    "        \n",
    "        return self.flatten(dots)\n",
    "\n",
    "if use_trained_model == False:\n",
    "    # Define loss function and compile model\n",
    "    model = Word2Vec(vocab_len, embedding_dim)\n",
    "    model.compile(optimizer='adam',\n",
    "                     loss=tf.keras.losses.CategoricalCrossentropy(from_logits=True),\n",
    "                     metrics=['accuracy'])\n",
    "\n",
    "    # Train the model with dataset prepared above for some number of epochs.\n",
    "    print(\"Training Word2Vec...\")\n",
    "    history = model.fit(dataset, epochs=epochs, verbose=0, callbacks=[trainingCallback()]) # verbose=0 means no output, verbose=1 shows logging"
   ]
  },
  {
   "cell_type": "markdown",
   "id": "b4ba415e",
   "metadata": {},
   "source": [
    "## Save trained model"
   ]
  },
  {
   "cell_type": "code",
   "execution_count": 13,
   "id": "0276bf39",
   "metadata": {},
   "outputs": [
    {
     "name": "stdout",
     "output_type": "stream",
     "text": [
      "INFO:tensorflow:Assets written to: tensorflow_word2vec_model\\assets\n"
     ]
    }
   ],
   "source": [
    "if use_trained_model == False:\n",
    "    model.save('tensorflow_word2vec_model')"
   ]
  },
  {
   "cell_type": "markdown",
   "id": "f70ef032",
   "metadata": {
    "id": "03b38499"
   },
   "source": [
    "### Show some training plots"
   ]
  },
  {
   "cell_type": "code",
   "execution_count": 14,
   "id": "6dfc9793",
   "metadata": {
    "colab": {
     "base_uri": "https://localhost:8080/",
     "height": 608
    },
    "executionInfo": {
     "elapsed": 466,
     "status": "ok",
     "timestamp": 1640965034820,
     "user": {
      "displayName": "",
      "photoUrl": "",
      "userId": ""
     },
     "user_tz": -60
    },
    "id": "9457711c",
    "outputId": "9a89001a-f7ec-4eb8-d25e-ae24db43cc5c"
   },
   "outputs": [
    {
     "data": {
      "image/png": "[encoded data removed]",
      "text/plain": [
       "<Figure size 432x288 with 1 Axes>"
      ]
     },
     "metadata": {},
     "output_type": "display_data"
    }
   ],
   "source": [
    "if use_trained_model == False:\n",
    "\n",
    "    import matplotlib.image  as mpimg\n",
    "    import matplotlib.pyplot as plt\n",
    "\n",
    "    acc=history.history['accuracy']\n",
    "    loss=history.history['loss']\n",
    "\n",
    "    epochs=range(len(acc)) # Get number of epochs\n",
    "\n",
    "    plt.title(\"Tensorflow Word2Vec Training loss and accuracy\")\n",
    "    plt.xlabel(\"Epochs\")\n",
    "    plt.ylabel(\"Magnitude\")\n",
    "    plt.plot(epochs, acc, color='r', label='Accuracy')\n",
    "    plt.plot(epochs, loss, color='b', label='Loss')\n",
    "    plt.legend()\n",
    "    plt.savefig(\"tensorflow_word2vec_training_loss_accuracy.png\", format=\"png\")\n",
    "    plt.show()"
   ]
  },
  {
   "cell_type": "markdown",
   "id": "67b859d4",
   "metadata": {},
   "source": [
    "## Load trained model (optional)"
   ]
  },
  {
   "cell_type": "code",
   "execution_count": 15,
   "id": "33a0c9fa",
   "metadata": {},
   "outputs": [],
   "source": [
    "model = tf.keras.models.load_model('tensorflow_word2vec_model')"
   ]
  },
  {
   "cell_type": "code",
   "execution_count": 16,
   "id": "d31c987c",
   "metadata": {
    "colab": {
     "base_uri": "https://localhost:8080/"
    },
    "executionInfo": {
     "elapsed": 15,
     "status": "ok",
     "timestamp": 1640965034365,
     "user": {
      "displayName": "",
      "photoUrl": "",
      "userId": ""
     },
     "user_tz": -60
    },
    "id": "31bb131a",
    "outputId": "8f39a518-ceea-48a2-878a-8e7fc3cd8cfd"
   },
   "outputs": [
    {
     "name": "stdout",
     "output_type": "stream",
     "text": [
      "Model: \"word2_vec\"\n",
      "_________________________________________________________________\n",
      "Layer (type)                 Output Shape              Param #   \n",
      "=================================================================\n",
      "w2v_embedding (Embedding)    multiple                  3860      \n",
      "_________________________________________________________________\n",
      "embedding (Embedding)        multiple                  3860      \n",
      "_________________________________________________________________\n",
      "dot (Dot)                    multiple                  0         \n",
      "_________________________________________________________________\n",
      "flatten (Flatten)            multiple                  0         \n",
      "=================================================================\n",
      "Total params: 7,720\n",
      "Trainable params: 7,720\n",
      "Non-trainable params: 0\n",
      "_________________________________________________________________\n"
     ]
    }
   ],
   "source": [
    "model.summary()"
   ]
  },
  {
   "cell_type": "markdown",
   "id": "a710bbcf",
   "metadata": {
    "id": "8639396a"
   },
   "source": [
    "### Embedding lookup and analysis\n",
    "Generate the vectors.tsv and metadata.tsv to analyze the obtained embeddings in the Embedding Projector."
   ]
  },
  {
   "cell_type": "code",
   "execution_count": 17,
   "id": "23289eaa",
   "metadata": {
    "executionInfo": {
     "elapsed": 14,
     "status": "ok",
     "timestamp": 1640965034821,
     "user": {
      "displayName": "",
      "photoUrl": "",
      "userId": ""
     },
     "user_tz": -60
    },
    "id": "db3e0461"
   },
   "outputs": [],
   "source": [
    "weights = model.get_layer('w2v_embedding').get_weights()[0]\n",
    "vocab = vectorize_layer.get_vocabulary()\n",
    "\n",
    "# Create and save the vectors and metadata file\n",
    "out_v = io.open('vectors.tsv', 'w', encoding='utf-8')\n",
    "out_m = io.open('metadata.tsv', 'w', encoding='utf-8')\n",
    "\n",
    "for index, word in enumerate(vocab):\n",
    "    if index < 1:\n",
    "        continue  # skip 0, it's padding\n",
    "    vec = weights[index]\n",
    "    out_v.write('\\t'.join([str(x) for x in vec]) + \"\\n\")\n",
    "    out_m.write(word + \"\\n\")\n",
    "out_v.close()\n",
    "out_m.close()"
   ]
  },
  {
   "cell_type": "markdown",
   "id": "eed259f2",
   "metadata": {
    "id": "7fa5d904"
   },
   "source": [
    "Run the cell below to download the `vectors.tsv` and `metadata.tsv` to analyze the obtained embeddings in the [Embedding Projector](https://projector.tensorflow.org/)."
   ]
  },
  {
   "cell_type": "code",
   "execution_count": 18,
   "id": "221f33eb",
   "metadata": {
    "colab": {
     "base_uri": "https://localhost:8080/",
     "height": 17
    },
    "executionInfo": {
     "elapsed": 323,
     "status": "ok",
     "timestamp": 1640965035132,
     "user": {
      "displayName": "",
      "photoUrl": "",
      "userId": ""
     },
     "user_tz": -60
    },
    "id": "ad0499f2",
    "outputId": "fd128b86-3ba8-4f1e-8e36-454043795a25"
   },
   "outputs": [],
   "source": [
    "try:\n",
    "    from google.colab import files\n",
    "    files.download('vectors.tsv')\n",
    "    files.download('metadata.tsv')\n",
    "except Exception:\n",
    "    pass"
   ]
  },
  {
   "cell_type": "markdown",
   "id": "ea5d5bca",
   "metadata": {
    "id": "76dd1965"
   },
   "source": [
    "## Calculate `cosine_similarity` for each event\n",
    "And add these as a a column to the dataset."
   ]
  },
  {
   "cell_type": "code",
   "execution_count": 19,
   "id": "a54fdea9",
   "metadata": {
    "executionInfo": {
     "elapsed": 5068,
     "status": "ok",
     "timestamp": 1640965040198,
     "user": {
      "displayName": "",
      "photoUrl": "",
      "userId": ""
     },
     "user_tz": -60
    },
    "id": "6dd5707a"
   },
   "outputs": [],
   "source": [
    "from numpy import dot\n",
    "from numpy.linalg import norm\n",
    "\n",
    "def vocab_lookup(eventstr):\n",
    "    for index, word in enumerate(vocab):\n",
    "        if index < 1:\n",
    "            continue  # skip 0, it's padding\n",
    "        if word == eventstr:\n",
    "            vec = weights[index]\n",
    "            break\n",
    "    return vec\n",
    "\n",
    "num_events = len(df.axes[0])\n",
    "# add empty columns\n",
    "cos_sim = []\n",
    "for idx, row in df.iterrows():\n",
    "    current_event = row['Event']\n",
    "    ce = vocab_lookup(current_event)\n",
    "    if idx == 0:\n",
    "        cos_sim.append(float(1))\n",
    "        previous_event = current_event\n",
    "        pe = ce\n",
    "    if idx > 0:\n",
    "        if idx < num_events + 1:\n",
    "            cs = dot(pe, ce)/(norm(pe)*norm(ce)) # https://www.statology.org/cosine-similarity-python/\n",
    "            cos_sim.append(cs)\n",
    "            previous_event = current_event\n",
    "            pe = ce\n",
    "\n",
    "df['cos_sim'] = cos_sim\n",
    "\n",
    "# Change order of columns by name, so we can display it orderly\n",
    "df = df[['TimeCreated', 'EventRecordID', 'Event', 'cos_sim', 'Message']]\n",
    "df.head()\n",
    "\n",
    "# saving the dataframe\n",
    "df.to_csv('System-Events-similarity-Tensorflow.csv')"
   ]
  },
  {
   "cell_type": "markdown",
   "id": "811d06e7",
   "metadata": {
    "id": "c05bbe39"
   },
   "source": [
    "## Plot all anomalies\n",
    "The lower the line spikes, the more unique it is."
   ]
  },
  {
   "cell_type": "code",
   "execution_count": 20,
   "id": "f5a31bd8",
   "metadata": {
    "colab": {
     "base_uri": "https://localhost:8080/",
     "height": 275
    },
    "executionInfo": {
     "elapsed": 14259,
     "status": "ok",
     "timestamp": 1640965054448,
     "user": {
      "displayName": "",
      "photoUrl": "",
      "userId": ""
     },
     "user_tz": -60
    },
    "id": "69a4e36d",
    "outputId": "3507b34e-3a89-41c7-d634-1f8ac6c96bef"
   },
   "outputs": [
    {
     "data": {
      "image/png": "[encoded data removed]",
      "text/plain": [
       "<Figure size 3600x360 with 1 Axes>"
      ]
     },
     "metadata": {},
     "output_type": "display_data"
    }
   ],
   "source": [
    "import matplotlib.pyplot as plt\n",
    "import matplotlib.dates as mdates\n",
    "\n",
    "fig, ax = plt.subplots(1, figsize=(50, 5))\n",
    "x = df['TimeCreated']\n",
    "y = df['cos_sim']\n",
    "line, = ax.plot(x, y)\n",
    "# Major ticks every month, minor ticks every day,\n",
    "ax.xaxis.set_major_locator(mdates.MonthLocator())\n",
    "ax.xaxis.set_minor_locator(mdates.DayLocator())\n",
    "ax.grid(True, which='both', axis='both')\n",
    "# Text in the x axis will be displayed in 'YYYY-mm-dd' format.\n",
    "ax.xaxis.set_major_formatter(mdates.DateFormatter('%Y-%b-%d'))\n",
    "ax.xaxis.set_minor_formatter(mdates.DateFormatter('%d'))\n",
    "# Rotates and right-aligns the x labels so they don't crowd each other.\n",
    "for label in ax.get_xticklabels(which='major'):\n",
    "    label.set(rotation=90, horizontalalignment='right')\n",
    "for label in ax.get_xticklabels(which='minor'):\n",
    "    label.set(rotation=90, horizontalalignment='right')\n",
    "plt.xlabel(\"Date\")\n",
    "plt.ylabel(\"Cosine Similarity\")\n",
    "plt.savefig(\"cos_sim_tensorflow.png\", format=\"png\")\n",
    "plt.show()"
   ]
  },
  {
   "cell_type": "markdown",
   "id": "4a885035",
   "metadata": {
    "id": "667be2bf"
   },
   "source": [
    "## Show Top 10 of all 'anomalies'"
   ]
  },
  {
   "cell_type": "code",
   "execution_count": 21,
   "id": "3baa1bf5",
   "metadata": {
    "colab": {
     "base_uri": "https://localhost:8080/",
     "height": 615
    },
    "executionInfo": {
     "elapsed": 22,
     "status": "ok",
     "timestamp": 1640965054449,
     "user": {
      "displayName": "",
      "photoUrl": "",
      "userId": ""
     },
     "user_tz": -60
    },
    "id": "d4b61394",
    "outputId": "38107519-e1ed-4d78-f509-f5455924497c"
   },
   "outputs": [
    {
     "name": "stdout",
     "output_type": "stream",
     "text": [
      "Top 10 of all 'anomalies':\n",
      "\n"
     ]
    },
    {
     "data": {
      "text/html": [
       "<div>\n",
       "<style scoped>\n",
       "    .dataframe tbody tr th:only-of-type {\n",
       "        vertical-align: middle;\n",
       "    }\n",
       "\n",
       "    .dataframe tbody tr th {\n",
       "        vertical-align: top;\n",
       "    }\n",
       "\n",
       "    .dataframe thead th {\n",
       "        text-align: right;\n",
       "    }\n",
       "</style>\n",
       "<table border=\"1\" class=\"dataframe\">\n",
       "  <thead>\n",
       "    <tr style=\"text-align: right;\">\n",
       "      <th></th>\n",
       "      <th>TimeCreated</th>\n",
       "      <th>EventRecordID</th>\n",
       "      <th>Event</th>\n",
       "      <th>cos_sim</th>\n",
       "      <th>Message</th>\n",
       "    </tr>\n",
       "  </thead>\n",
       "  <tbody>\n",
       "    <tr>\n",
       "      <th>18115</th>\n",
       "      <td>2021-07-30 14:11:52.331790+00:00</td>\n",
       "      <td>19478</td>\n",
       "      <td>system25089informationmicrosoftwindowswpdclassinstaller</td>\n",
       "      <td>-0.709631</td>\n",
       "      <td>It was not possible to access the device () after installing drivers. Error code 0x80070651.</td>\n",
       "    </tr>\n",
       "    <tr>\n",
       "      <th>18256</th>\n",
       "      <td>2021-07-30 13:56:28.675820+00:00</td>\n",
       "      <td>19337</td>\n",
       "      <td>system1errorvdsbasicprovider</td>\n",
       "      <td>-0.655348</td>\n",
       "      <td>Unexpected failure. Error code: 1B1@01010013</td>\n",
       "    </tr>\n",
       "    <tr>\n",
       "      <th>18257</th>\n",
       "      <td>2021-07-30 13:56:28.649465+00:00</td>\n",
       "      <td>19336</td>\n",
       "      <td>system24576informationmicrosoftwindowswpdclassinstaller</td>\n",
       "      <td>-0.606276</td>\n",
       "      <td>Drivers were successfully installed for device WPD Device.</td>\n",
       "    </tr>\n",
       "    <tr>\n",
       "      <th>4865</th>\n",
       "      <td>2021-11-06 19:00:18.772490+00:00</td>\n",
       "      <td>32728</td>\n",
       "      <td>system1014warningmicrosoftwindowsdnsclient</td>\n",
       "      <td>-0.537558</td>\n",
       "      <td>Name resolution for the name login.microsoftonline.com timed out after none of the configured DNS servers responded.</td>\n",
       "    </tr>\n",
       "    <tr>\n",
       "      <th>19303</th>\n",
       "      <td>2021-07-14 17:58:04.448663+00:00</td>\n",
       "      <td>18290</td>\n",
       "      <td>system7011errorservicecontrolmanager</td>\n",
       "      <td>-0.528655</td>\n",
       "      <td>A timeout (30000 milliseconds) was reached while waiting for a transaction response from the HotKeyServiceUWP service.</td>\n",
       "    </tr>\n",
       "    <tr>\n",
       "      <th>10762</th>\n",
       "      <td>2021-09-21 08:55:10.777876+00:00</td>\n",
       "      <td>26831</td>\n",
       "      <td>system42informationmicrosoftwindowskernelpower</td>\n",
       "      <td>-0.476465</td>\n",
       "      <td>The system is entering sleep.\\r\\n\\r\\nSleep Reason: Button or Lid</td>\n",
       "    </tr>\n",
       "    <tr>\n",
       "      <th>7112</th>\n",
       "      <td>2021-10-23 14:05:18.081917+00:00</td>\n",
       "      <td>30481</td>\n",
       "      <td>system22informationmicrosoftwindowsusermodepowerservice</td>\n",
       "      <td>-0.469785</td>\n",
       "      <td>Reapply power settings upon completion of the provisioning engine's turn 5</td>\n",
       "    </tr>\n",
       "    <tr>\n",
       "      <th>37138</th>\n",
       "      <td>2021-03-12 21:34:44.826292+00:00</td>\n",
       "      <td>455</td>\n",
       "      <td>system16informationmicrosoftwindowskernelgeneral</td>\n",
       "      <td>-0.469785</td>\n",
       "      <td>The access history in hive \\??\\C:\\ProgramData\\Microsoft\\Provisioning\\Microsoft-Desktop-Provisioning-Sequence.dat was cleared updating 0 keys and creating 0 modified pages.</td>\n",
       "    </tr>\n",
       "    <tr>\n",
       "      <th>5480</th>\n",
       "      <td>2021-11-03 08:32:53.688724+00:00</td>\n",
       "      <td>32113</td>\n",
       "      <td>system1informationgoogledrivefs3525</td>\n",
       "      <td>-0.458704</td>\n",
       "      <td>Activating keepalive handle from process 25080.</td>\n",
       "    </tr>\n",
       "    <tr>\n",
       "      <th>34344</th>\n",
       "      <td>2021-04-05 16:35:15.415432+00:00</td>\n",
       "      <td>3249</td>\n",
       "      <td>system16informationmicrosoftwindowskernelgeneral</td>\n",
       "      <td>-0.450631</td>\n",
       "      <td>The access history in hive \\??\\C:\\Users\\gneij\\AppData\\Local\\Microsoft\\VisualStudio\\16.0_e1ea95f5\\privateregistry.bin was cleared updating 8742 keys and creating 1182 modified pages.</td>\n",
       "    </tr>\n",
       "  </tbody>\n",
       "</table>\n",
       "</div>"
      ],
      "text/plain": [
       "                           TimeCreated  EventRecordID                                                    Event   cos_sim  \\\n",
       "18115 2021-07-30 14:11:52.331790+00:00          19478  system25089informationmicrosoftwindowswpdclassinstaller -0.709631   \n",
       "18256 2021-07-30 13:56:28.675820+00:00          19337                             system1errorvdsbasicprovider -0.655348   \n",
       "18257 2021-07-30 13:56:28.649465+00:00          19336  system24576informationmicrosoftwindowswpdclassinstaller -0.606276   \n",
       "4865  2021-11-06 19:00:18.772490+00:00          32728               system1014warningmicrosoftwindowsdnsclient -0.537558   \n",
       "19303 2021-07-14 17:58:04.448663+00:00          18290                     system7011errorservicecontrolmanager -0.528655   \n",
       "10762 2021-09-21 08:55:10.777876+00:00          26831           system42informationmicrosoftwindowskernelpower -0.476465   \n",
       "7112  2021-10-23 14:05:18.081917+00:00          30481  system22informationmicrosoftwindowsusermodepowerservice -0.469785   \n",
       "37138 2021-03-12 21:34:44.826292+00:00            455         system16informationmicrosoftwindowskernelgeneral -0.469785   \n",
       "5480  2021-11-03 08:32:53.688724+00:00          32113                      system1informationgoogledrivefs3525 -0.458704   \n",
       "34344 2021-04-05 16:35:15.415432+00:00           3249         system16informationmicrosoftwindowskernelgeneral -0.450631   \n",
       "\n",
       "                                                                                                                                                                                     Message  \n",
       "18115                                                                                           It was not possible to access the device () after installing drivers. Error code 0x80070651.  \n",
       "18256                                                                                                                                           Unexpected failure. Error code: 1B1@01010013  \n",
       "18257                                                                                                                             Drivers were successfully installed for device WPD Device.  \n",
       "4865                                                                    Name resolution for the name login.microsoftonline.com timed out after none of the configured DNS servers responded.  \n",
       "19303                                                                 A timeout (30000 milliseconds) was reached while waiting for a transaction response from the HotKeyServiceUWP service.  \n",
       "10762                                                                                                                       The system is entering sleep.\\r\\n\\r\\nSleep Reason: Button or Lid  \n",
       "7112                                                                                                              Reapply power settings upon completion of the provisioning engine's turn 5  \n",
       "37138            The access history in hive \\??\\C:\\ProgramData\\Microsoft\\Provisioning\\Microsoft-Desktop-Provisioning-Sequence.dat was cleared updating 0 keys and creating 0 modified pages.  \n",
       "5480                                                                                                                                         Activating keepalive handle from process 25080.  \n",
       "34344  The access history in hive \\??\\C:\\Users\\gneij\\AppData\\Local\\Microsoft\\VisualStudio\\16.0_e1ea95f5\\privateregistry.bin was cleared updating 8742 keys and creating 1182 modified pages.  "
      ]
     },
     "execution_count": 21,
     "metadata": {},
     "output_type": "execute_result"
    }
   ],
   "source": [
    "# Pandas display settings\n",
    "pd.set_option('display.max_columns', None) # Set it to None to display all columns in the dataframe\n",
    "pd.set_option('display.width',200)\n",
    "pd.set_option('display.max_colwidth', None)\n",
    "\n",
    "print(\"Top 10 of all 'anomalies':\\n\")\n",
    "df.nsmallest(n=10, columns=['cos_sim'])"
   ]
  },
  {
   "cell_type": "markdown",
   "id": "9909c03d",
   "metadata": {
    "id": "4236320e"
   },
   "source": [
    "As you can see above, those anomalies are not always not what you expected. We are not interested in 'Information' events. \n",
    "<br> Now lets take a look at some more interesting events.\n",
    "## Show Top 10 of 'critical' anomalies"
   ]
  },
  {
   "cell_type": "code",
   "execution_count": 22,
   "id": "f03471a8",
   "metadata": {
    "colab": {
     "base_uri": "https://localhost:8080/",
     "height": 397
    },
    "executionInfo": {
     "elapsed": 19,
     "status": "ok",
     "timestamp": 1640965054449,
     "user": {
      "displayName": "",
      "photoUrl": "",
      "userId": ""
     },
     "user_tz": -60
    },
    "id": "34bea19c",
    "outputId": "fa8734f4-901a-4073-feba-9a8409c5a4bd"
   },
   "outputs": [
    {
     "name": "stdout",
     "output_type": "stream",
     "text": [
      "Top 10 of 'critical' anomalies from a total of 14 'critical' events:\n",
      "\n"
     ]
    },
    {
     "data": {
      "text/html": [
       "<div>\n",
       "<style scoped>\n",
       "    .dataframe tbody tr th:only-of-type {\n",
       "        vertical-align: middle;\n",
       "    }\n",
       "\n",
       "    .dataframe tbody tr th {\n",
       "        vertical-align: top;\n",
       "    }\n",
       "\n",
       "    .dataframe thead th {\n",
       "        text-align: right;\n",
       "    }\n",
       "</style>\n",
       "<table border=\"1\" class=\"dataframe\">\n",
       "  <thead>\n",
       "    <tr style=\"text-align: right;\">\n",
       "      <th></th>\n",
       "      <th>TimeCreated</th>\n",
       "      <th>EventRecordID</th>\n",
       "      <th>Event</th>\n",
       "      <th>cos_sim</th>\n",
       "      <th>Message</th>\n",
       "    </tr>\n",
       "  </thead>\n",
       "  <tbody>\n",
       "    <tr>\n",
       "      <th>570</th>\n",
       "      <td>2021-11-30 11:19:04.976339+00:00</td>\n",
       "      <td>37023</td>\n",
       "      <td>system41criticalmicrosoftwindowskernelpower</td>\n",
       "      <td>-0.365172</td>\n",
       "      <td>The system has rebooted without cleanly shutting down first. This error could be caused if the system stopped responding, crashed, or lost power unexpectedly.</td>\n",
       "    </tr>\n",
       "    <tr>\n",
       "      <th>9440</th>\n",
       "      <td>2021-10-01 18:28:17.428702+00:00</td>\n",
       "      <td>28153</td>\n",
       "      <td>system41criticalmicrosoftwindowskernelpower</td>\n",
       "      <td>-0.365172</td>\n",
       "      <td>The system has rebooted without cleanly shutting down first. This error could be caused if the system stopped responding, crashed, or lost power unexpectedly.</td>\n",
       "    </tr>\n",
       "    <tr>\n",
       "      <th>14500</th>\n",
       "      <td>2021-08-31 15:15:12.123075+00:00</td>\n",
       "      <td>23093</td>\n",
       "      <td>system41criticalmicrosoftwindowskernelpower</td>\n",
       "      <td>-0.365172</td>\n",
       "      <td>The system has rebooted without cleanly shutting down first. This error could be caused if the system stopped responding, crashed, or lost power unexpectedly.</td>\n",
       "    </tr>\n",
       "    <tr>\n",
       "      <th>26725</th>\n",
       "      <td>2021-05-28 16:46:49.554694+00:00</td>\n",
       "      <td>10868</td>\n",
       "      <td>system41criticalmicrosoftwindowskernelpower</td>\n",
       "      <td>-0.365172</td>\n",
       "      <td>The system has rebooted without cleanly shutting down first. This error could be caused if the system stopped responding, crashed, or lost power unexpectedly.</td>\n",
       "    </tr>\n",
       "    <tr>\n",
       "      <th>27941</th>\n",
       "      <td>2021-05-23 18:34:47.785323+00:00</td>\n",
       "      <td>9652</td>\n",
       "      <td>system41criticalmicrosoftwindowskernelpower</td>\n",
       "      <td>-0.365172</td>\n",
       "      <td>The system has rebooted without cleanly shutting down first. This error could be caused if the system stopped responding, crashed, or lost power unexpectedly.</td>\n",
       "    </tr>\n",
       "    <tr>\n",
       "      <th>30925</th>\n",
       "      <td>2021-04-26 13:11:40.205236+00:00</td>\n",
       "      <td>6668</td>\n",
       "      <td>system41criticalmicrosoftwindowskernelpower</td>\n",
       "      <td>-0.365172</td>\n",
       "      <td>The system has rebooted without cleanly shutting down first. This error could be caused if the system stopped responding, crashed, or lost power unexpectedly.</td>\n",
       "    </tr>\n",
       "    <tr>\n",
       "      <th>31140</th>\n",
       "      <td>2021-04-25 12:11:55.396258+00:00</td>\n",
       "      <td>6453</td>\n",
       "      <td>system41criticalmicrosoftwindowskernelpower</td>\n",
       "      <td>-0.365172</td>\n",
       "      <td>The system has rebooted without cleanly shutting down first. This error could be caused if the system stopped responding, crashed, or lost power unexpectedly.</td>\n",
       "    </tr>\n",
       "    <tr>\n",
       "      <th>31401</th>\n",
       "      <td>2021-04-23 06:53:59.632369+00:00</td>\n",
       "      <td>6192</td>\n",
       "      <td>system41criticalmicrosoftwindowskernelpower</td>\n",
       "      <td>-0.365172</td>\n",
       "      <td>The system has rebooted without cleanly shutting down first. This error could be caused if the system stopped responding, crashed, or lost power unexpectedly.</td>\n",
       "    </tr>\n",
       "    <tr>\n",
       "      <th>31674</th>\n",
       "      <td>2021-04-21 07:02:53.221205+00:00</td>\n",
       "      <td>5919</td>\n",
       "      <td>system41criticalmicrosoftwindowskernelpower</td>\n",
       "      <td>-0.365172</td>\n",
       "      <td>The system has rebooted without cleanly shutting down first. This error could be caused if the system stopped responding, crashed, or lost power unexpectedly.</td>\n",
       "    </tr>\n",
       "    <tr>\n",
       "      <th>31759</th>\n",
       "      <td>2021-04-21 07:00:39.765228+00:00</td>\n",
       "      <td>5834</td>\n",
       "      <td>system41criticalmicrosoftwindowskernelpower</td>\n",
       "      <td>-0.365172</td>\n",
       "      <td>The system has rebooted without cleanly shutting down first. This error could be caused if the system stopped responding, crashed, or lost power unexpectedly.</td>\n",
       "    </tr>\n",
       "  </tbody>\n",
       "</table>\n",
       "</div>"
      ],
      "text/plain": [
       "                           TimeCreated  EventRecordID                                        Event   cos_sim  \\\n",
       "570   2021-11-30 11:19:04.976339+00:00          37023  system41criticalmicrosoftwindowskernelpower -0.365172   \n",
       "9440  2021-10-01 18:28:17.428702+00:00          28153  system41criticalmicrosoftwindowskernelpower -0.365172   \n",
       "14500 2021-08-31 15:15:12.123075+00:00          23093  system41criticalmicrosoftwindowskernelpower -0.365172   \n",
       "26725 2021-05-28 16:46:49.554694+00:00          10868  system41criticalmicrosoftwindowskernelpower -0.365172   \n",
       "27941 2021-05-23 18:34:47.785323+00:00           9652  system41criticalmicrosoftwindowskernelpower -0.365172   \n",
       "30925 2021-04-26 13:11:40.205236+00:00           6668  system41criticalmicrosoftwindowskernelpower -0.365172   \n",
       "31140 2021-04-25 12:11:55.396258+00:00           6453  system41criticalmicrosoftwindowskernelpower -0.365172   \n",
       "31401 2021-04-23 06:53:59.632369+00:00           6192  system41criticalmicrosoftwindowskernelpower -0.365172   \n",
       "31674 2021-04-21 07:02:53.221205+00:00           5919  system41criticalmicrosoftwindowskernelpower -0.365172   \n",
       "31759 2021-04-21 07:00:39.765228+00:00           5834  system41criticalmicrosoftwindowskernelpower -0.365172   \n",
       "\n",
       "                                                                                                                                                              Message  \n",
       "570    The system has rebooted without cleanly shutting down first. This error could be caused if the system stopped responding, crashed, or lost power unexpectedly.  \n",
       "9440   The system has rebooted without cleanly shutting down first. This error could be caused if the system stopped responding, crashed, or lost power unexpectedly.  \n",
       "14500  The system has rebooted without cleanly shutting down first. This error could be caused if the system stopped responding, crashed, or lost power unexpectedly.  \n",
       "26725  The system has rebooted without cleanly shutting down first. This error could be caused if the system stopped responding, crashed, or lost power unexpectedly.  \n",
       "27941  The system has rebooted without cleanly shutting down first. This error could be caused if the system stopped responding, crashed, or lost power unexpectedly.  \n",
       "30925  The system has rebooted without cleanly shutting down first. This error could be caused if the system stopped responding, crashed, or lost power unexpectedly.  \n",
       "31140  The system has rebooted without cleanly shutting down first. This error could be caused if the system stopped responding, crashed, or lost power unexpectedly.  \n",
       "31401  The system has rebooted without cleanly shutting down first. This error could be caused if the system stopped responding, crashed, or lost power unexpectedly.  \n",
       "31674  The system has rebooted without cleanly shutting down first. This error could be caused if the system stopped responding, crashed, or lost power unexpectedly.  \n",
       "31759  The system has rebooted without cleanly shutting down first. This error could be caused if the system stopped responding, crashed, or lost power unexpectedly.  "
      ]
     },
     "execution_count": 22,
     "metadata": {},
     "output_type": "execute_result"
    }
   ],
   "source": [
    "dfcritical = df[df['Event'].str.contains('critical')]\n",
    "print(f\"Top 10 of 'critical' anomalies from a total of {len(dfcritical)} 'critical' events:\\n\")\n",
    "dfcritical.nsmallest(n=10, columns=['cos_sim'])"
   ]
  },
  {
   "cell_type": "markdown",
   "id": "969bf01e",
   "metadata": {
    "id": "d89cc450"
   },
   "source": [
    "## Show Top 10 of 'error' anomalies"
   ]
  },
  {
   "cell_type": "code",
   "execution_count": 23,
   "id": "4a06911f",
   "metadata": {
    "colab": {
     "base_uri": "https://localhost:8080/",
     "height": 397
    },
    "executionInfo": {
     "elapsed": 18,
     "status": "ok",
     "timestamp": 1640965054450,
     "user": {
      "displayName": "",
      "photoUrl": "",
      "userId": ""
     },
     "user_tz": -60
    },
    "id": "0ac930a3",
    "outputId": "3710c057-de7c-4422-c8b9-736aa1f85510"
   },
   "outputs": [
    {
     "name": "stdout",
     "output_type": "stream",
     "text": [
      "Top 10 of 'error' anomalies from a total of 1054 'error' events:\n",
      "\n"
     ]
    },
    {
     "data": {
      "text/html": [
       "<div>\n",
       "<style scoped>\n",
       "    .dataframe tbody tr th:only-of-type {\n",
       "        vertical-align: middle;\n",
       "    }\n",
       "\n",
       "    .dataframe tbody tr th {\n",
       "        vertical-align: top;\n",
       "    }\n",
       "\n",
       "    .dataframe thead th {\n",
       "        text-align: right;\n",
       "    }\n",
       "</style>\n",
       "<table border=\"1\" class=\"dataframe\">\n",
       "  <thead>\n",
       "    <tr style=\"text-align: right;\">\n",
       "      <th></th>\n",
       "      <th>TimeCreated</th>\n",
       "      <th>EventRecordID</th>\n",
       "      <th>Event</th>\n",
       "      <th>cos_sim</th>\n",
       "      <th>Message</th>\n",
       "    </tr>\n",
       "  </thead>\n",
       "  <tbody>\n",
       "    <tr>\n",
       "      <th>18256</th>\n",
       "      <td>2021-07-30 13:56:28.675820+00:00</td>\n",
       "      <td>19337</td>\n",
       "      <td>system1errorvdsbasicprovider</td>\n",
       "      <td>-0.655348</td>\n",
       "      <td>Unexpected failure. Error code: 1B1@01010013</td>\n",
       "    </tr>\n",
       "    <tr>\n",
       "      <th>19303</th>\n",
       "      <td>2021-07-14 17:58:04.448663+00:00</td>\n",
       "      <td>18290</td>\n",
       "      <td>system7011errorservicecontrolmanager</td>\n",
       "      <td>-0.528655</td>\n",
       "      <td>A timeout (30000 milliseconds) was reached while waiting for a transaction response from the HotKeyServiceUWP service.</td>\n",
       "    </tr>\n",
       "    <tr>\n",
       "      <th>18150</th>\n",
       "      <td>2021-07-30 13:57:20.645450+00:00</td>\n",
       "      <td>19443</td>\n",
       "      <td>system1errorvdsbasicprovider</td>\n",
       "      <td>-0.445540</td>\n",
       "      <td>Unexpected failure. Error code: 1B1@01010013</td>\n",
       "    </tr>\n",
       "    <tr>\n",
       "      <th>9981</th>\n",
       "      <td>2021-09-26 19:04:31.556275+00:00</td>\n",
       "      <td>27612</td>\n",
       "      <td>system36errorvolsnap</td>\n",
       "      <td>-0.325302</td>\n",
       "      <td>The shadow copies of volume C: were aborted because the shadow copy storage could not grow due to a user imposed limit.</td>\n",
       "    </tr>\n",
       "    <tr>\n",
       "      <th>23081</th>\n",
       "      <td>2021-06-20 15:01:15.538443+00:00</td>\n",
       "      <td>14512</td>\n",
       "      <td>system36errorvolsnap</td>\n",
       "      <td>-0.325302</td>\n",
       "      <td>The shadow copies of volume C: were aborted because the shadow copy storage could not grow due to a user imposed limit.</td>\n",
       "    </tr>\n",
       "    <tr>\n",
       "      <th>5795</th>\n",
       "      <td>2021-10-31 20:30:20.146579+00:00</td>\n",
       "      <td>31798</td>\n",
       "      <td>system3errormicrosoftwindowsfiltermanager</td>\n",
       "      <td>-0.300074</td>\n",
       "      <td>Filter Manager failed to attach to volume '\\Device\\HarddiskVolume12'.  This volume will be unavailable for filtering until a reboot.  The final status was 0xC03A001C.</td>\n",
       "    </tr>\n",
       "    <tr>\n",
       "      <th>3758</th>\n",
       "      <td>2021-11-15 10:47:16.355053+00:00</td>\n",
       "      <td>33835</td>\n",
       "      <td>system7011errorservicecontrolmanager</td>\n",
       "      <td>-0.291177</td>\n",
       "      <td>A timeout (30000 milliseconds) was reached while waiting for a transaction response from the HotKeyServiceUWP service.</td>\n",
       "    </tr>\n",
       "    <tr>\n",
       "      <th>4864</th>\n",
       "      <td>2021-11-06 19:00:27.855518+00:00</td>\n",
       "      <td>32729</td>\n",
       "      <td>system7011errorservicecontrolmanager</td>\n",
       "      <td>-0.291177</td>\n",
       "      <td>A timeout (30000 milliseconds) was reached while waiting for a transaction response from the HotKeyServiceUWP service.</td>\n",
       "    </tr>\n",
       "    <tr>\n",
       "      <th>582</th>\n",
       "      <td>2021-11-30 11:19:19.259901+00:00</td>\n",
       "      <td>37011</td>\n",
       "      <td>system6008erroreventlog</td>\n",
       "      <td>-0.280620</td>\n",
       "      <td>The previous system shutdown at 10:58:18 on ‎30/‎11/‎2021 was unexpected.</td>\n",
       "    </tr>\n",
       "    <tr>\n",
       "      <th>9453</th>\n",
       "      <td>2021-10-01 18:28:27.628938+00:00</td>\n",
       "      <td>28140</td>\n",
       "      <td>system6008erroreventlog</td>\n",
       "      <td>-0.280620</td>\n",
       "      <td>The previous system shutdown at 19:52:19 on ‎01/‎10/‎2021 was unexpected.</td>\n",
       "    </tr>\n",
       "  </tbody>\n",
       "</table>\n",
       "</div>"
      ],
      "text/plain": [
       "                           TimeCreated  EventRecordID                                      Event   cos_sim  \\\n",
       "18256 2021-07-30 13:56:28.675820+00:00          19337               system1errorvdsbasicprovider -0.655348   \n",
       "19303 2021-07-14 17:58:04.448663+00:00          18290       system7011errorservicecontrolmanager -0.528655   \n",
       "18150 2021-07-30 13:57:20.645450+00:00          19443               system1errorvdsbasicprovider -0.445540   \n",
       "9981  2021-09-26 19:04:31.556275+00:00          27612                       system36errorvolsnap -0.325302   \n",
       "23081 2021-06-20 15:01:15.538443+00:00          14512                       system36errorvolsnap -0.325302   \n",
       "5795  2021-10-31 20:30:20.146579+00:00          31798  system3errormicrosoftwindowsfiltermanager -0.300074   \n",
       "3758  2021-11-15 10:47:16.355053+00:00          33835       system7011errorservicecontrolmanager -0.291177   \n",
       "4864  2021-11-06 19:00:27.855518+00:00          32729       system7011errorservicecontrolmanager -0.291177   \n",
       "582   2021-11-30 11:19:19.259901+00:00          37011                    system6008erroreventlog -0.280620   \n",
       "9453  2021-10-01 18:28:27.628938+00:00          28140                    system6008erroreventlog -0.280620   \n",
       "\n",
       "                                                                                                                                                                      Message  \n",
       "18256                                                                                                                            Unexpected failure. Error code: 1B1@01010013  \n",
       "19303                                                  A timeout (30000 milliseconds) was reached while waiting for a transaction response from the HotKeyServiceUWP service.  \n",
       "18150                                                                                                                            Unexpected failure. Error code: 1B1@01010013  \n",
       "9981                                                  The shadow copies of volume C: were aborted because the shadow copy storage could not grow due to a user imposed limit.  \n",
       "23081                                                 The shadow copies of volume C: were aborted because the shadow copy storage could not grow due to a user imposed limit.  \n",
       "5795   Filter Manager failed to attach to volume '\\Device\\HarddiskVolume12'.  This volume will be unavailable for filtering until a reboot.  The final status was 0xC03A001C.  \n",
       "3758                                                   A timeout (30000 milliseconds) was reached while waiting for a transaction response from the HotKeyServiceUWP service.  \n",
       "4864                                                   A timeout (30000 milliseconds) was reached while waiting for a transaction response from the HotKeyServiceUWP service.  \n",
       "582                                                                                                 The previous system shutdown at 10:58:18 on ‎30/‎11/‎2021 was unexpected.  \n",
       "9453                                                                                                The previous system shutdown at 19:52:19 on ‎01/‎10/‎2021 was unexpected.  "
      ]
     },
     "execution_count": 23,
     "metadata": {},
     "output_type": "execute_result"
    }
   ],
   "source": [
    "dferror = df[df['Event'].str.contains('error')]\n",
    "print(f\"Top 10 of 'error' anomalies from a total of {len(dferror)} 'error' events:\\n\")\n",
    "dferror.nsmallest(n=10, columns=['cos_sim'])"
   ]
  },
  {
   "cell_type": "code",
   "execution_count": null,
   "id": "a2105cae",
   "metadata": {
    "executionInfo": {
     "elapsed": 16,
     "status": "ok",
     "timestamp": 1640965054450,
     "user": {
      "displayName": "",
      "photoUrl": "",
      "userId": ""
     },
     "user_tz": -60
    },
    "id": "13053882"
   },
   "outputs": [],
   "source": []
  }
 ],
 "metadata": {
  "colab": {
   "name": "Kopie van windows_eventlog_anomaly_detection_with_tensorflow_word2vec.ipynb",
   "provenance": [
    {
     "file_id": "https://github.com/Grrtzm/word2vec/blob/main/windows_eventlog_anomaly_detection_with_tensorflow_word2vec.ipynb",
     "timestamp": 1640981109479
    }
   ]
  },
  "kernelspec": {
   "display_name": "Python 3 (Spyder)",
   "language": "python3",
   "name": "python3"
  },
  "language_info": {
   "codemirror_mode": {
    "name": "ipython",
    "version": 3
   },
   "file_extension": ".py",
   "mimetype": "text/x-python",
   "name": "python",
   "nbconvert_exporter": "python",
   "pygments_lexer": "ipython3",
   "version": "3.8.12"
  }
 },
 "nbformat": 4,
 "nbformat_minor": 5
}
