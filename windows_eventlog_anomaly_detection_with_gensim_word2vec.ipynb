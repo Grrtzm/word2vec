{
 "cells": [
  {
   "cell_type": "markdown",
   "id": "d22002ac",
   "metadata": {
    "id": "0449dcb0"
   },
   "source": [
    "<table style=\"border:1px solid black;border-collapse:collapse;\" align=\"left\">\n",
    "  <td style=\"border:1px solid red;\">\n",
    "    <a target=\"_blank\" href=\"https://colab.research.google.com/github/Grrtzm/word2vec/blob/main/windows_eventlog_anomaly_detection_with_gensim_word2vec.ipynb\">Run this notebook in Google Colab</a>\n",
    "  </td>\n",
    "  <td style=\"border:1px solid red;\">\n",
    "    <a target=\"_blank\" href=\"https://github.com/Grrtzm/word2vec/blob/main/windows_eventlog_anomaly_detection_with_gensim_word2vec.ipynb\">View source on GitHub</a>\n",
    "  </td>\n",
    "  <td style=\"border:1px solid red;\">\n",
    "    <a target=\"_blank\" href=\"https://towardsdatascience.com/a-beginners-guide-to-word-embedding-with-gensim-word2vec-model-5970fa56cc92\">View Zhi Li's Gensim Word2Vec tutorial on `Towards Data Science`</a>\n",
    "  </td>\n",
    "  <td style=\"border:1px solid red;\">\n",
    "    <a href=\"https://github.com/zhlli1/Genism-word2vec/blob/master/Genism%20Word2Vec%20Tutorial.ipynb\">Download Zhi Li's Gensim Word2Vec tutorial notebook from Github</a>\n",
    "  </td>\n",
    "</table>"
   ]
  },
  {
   "cell_type": "markdown",
   "id": "c88baf82",
   "metadata": {
    "id": "a933ca72"
   },
   "source": [
    "# Word2Vec on Windows Eventlogs\n",
    "This notebook is part of a project that uses Word2Vec for anomaly detection in Windows 10 event logs.<br>\n",
    "It uses a dataset which consists of all events derived from the System event log from my own PC.<br>\n",
    "The data was read using Powershell and Get-WinEvent. You can find the Powershell script and the python script for parsing in my github repository.<br>\n",
    "This version uses the Gensim implementation of Word2Vec, <a target=\"_blank\" href=\"https://colab.research.google.com/github/Grrtzm/word2vec/blob/main/windows_eventlog_anomaly_detection_with_tensorflow_word2vec.ipynb\">this version uses a Tensorflow implementation of Word2Vec</a>."
   ]
  },
  {
   "cell_type": "markdown",
   "id": "1a768aed",
   "metadata": {
    "id": "f7b6c32e"
   },
   "source": [
    "## Setup"
   ]
  },
  {
   "cell_type": "code",
   "execution_count": 1,
   "id": "86614c53",
   "metadata": {
    "colab": {
     "base_uri": "https://localhost:8080/"
    },
    "executionInfo": {
     "elapsed": 13482,
     "status": "ok",
     "timestamp": 1641128199863,
     "user": {
      "displayName": "Gert den Neijsel",
      "photoUrl": "https://lh3.googleusercontent.com/a-/AOh14Ghe-WXTht56mulzKKQawtMtRp0WsAC72twEb2ymDbc=s64",
      "userId": "10111611199700103859"
     },
     "user_tz": -60
    },
    "id": "f1213819",
    "outputId": "b8da3e6c-1c07-470b-b8b9-8d6a55c6d8bd"
   },
   "outputs": [],
   "source": [
    "# We need Gensim version >= 4.0.0 (Dec 30, 2021: v4.1.2), Colab normally uses version 3.6.0 which is not compatible\n",
    "!pip install -q --upgrade gensim\n",
    "import gensim"
   ]
  },
  {
   "cell_type": "code",
   "execution_count": 2,
   "id": "9724eefa",
   "metadata": {
    "colab": {
     "base_uri": "https://localhost:8080/",
     "height": 35
    },
    "executionInfo": {
     "elapsed": 1245,
     "status": "ok",
     "timestamp": 1641128201097,
     "user": {
      "displayName": "Gert den Neijsel",
      "photoUrl": "https://lh3.googleusercontent.com/a-/AOh14Ghe-WXTht56mulzKKQawtMtRp0WsAC72twEb2ymDbc=s64",
      "userId": "10111611199700103859"
     },
     "user_tz": -60
    },
    "id": "94b16262",
    "outputId": "90fff6dc-ab13-4349-905b-cc06bb7cfd0a"
   },
   "outputs": [],
   "source": [
    "from os.path import exists as file_exists\n",
    "if file_exists('System-Events-custom.csv') == False:\n",
    "    # !pip install gdown      # uncomment if gdown is missing\n",
    "    import gdown\n",
    "    url = 'https://drive.google.com/uc?id=1Kt1FsUwVVTRkpxt7urykgOgDbeOpYRVn'\n",
    "    output = 'System-Events-custom.csv'\n",
    "    gdown.download(url, output, quiet=True)"
   ]
  },
  {
   "cell_type": "code",
   "execution_count": 3,
   "id": "7d04e738",
   "metadata": {
    "colab": {
     "base_uri": "https://localhost:8080/",
     "height": 206
    },
    "executionInfo": {
     "elapsed": 215,
     "status": "ok",
     "timestamp": 1641128201307,
     "user": {
      "displayName": "Gert den Neijsel",
      "photoUrl": "https://lh3.googleusercontent.com/a-/AOh14Ghe-WXTht56mulzKKQawtMtRp0WsAC72twEb2ymDbc=s64",
      "userId": "10111611199700103859"
     },
     "user_tz": -60
    },
    "id": "6e351034",
    "outputId": "6d883bd7-600e-4fca-d024-1e3437e652c0"
   },
   "outputs": [
    {
     "data": {
      "text/html": [
       "<div>\n",
       "<style scoped>\n",
       "    .dataframe tbody tr th:only-of-type {\n",
       "        vertical-align: middle;\n",
       "    }\n",
       "\n",
       "    .dataframe tbody tr th {\n",
       "        vertical-align: top;\n",
       "    }\n",
       "\n",
       "    .dataframe thead th {\n",
       "        text-align: right;\n",
       "    }\n",
       "</style>\n",
       "<table border=\"1\" class=\"dataframe\">\n",
       "  <thead>\n",
       "    <tr style=\"text-align: right;\">\n",
       "      <th></th>\n",
       "      <th>TimeCreated</th>\n",
       "      <th>EventRecordID</th>\n",
       "      <th>EventID</th>\n",
       "      <th>Level</th>\n",
       "      <th>Provider</th>\n",
       "      <th>Message</th>\n",
       "    </tr>\n",
       "  </thead>\n",
       "  <tbody>\n",
       "    <tr>\n",
       "      <th>0</th>\n",
       "      <td>2021-12-02 20:05:22.768441+00:00</td>\n",
       "      <td>37593</td>\n",
       "      <td>System_1014</td>\n",
       "      <td>Warning</td>\n",
       "      <td>Microsoft-Windows-DNS-Client</td>\n",
       "      <td>Name resolution for the name config.teams.micr...</td>\n",
       "    </tr>\n",
       "    <tr>\n",
       "      <th>1</th>\n",
       "      <td>2021-12-02 20:05:22.255612+00:00</td>\n",
       "      <td>37592</td>\n",
       "      <td>System_32</td>\n",
       "      <td>Information</td>\n",
       "      <td>e1dexpress</td>\n",
       "      <td>NaN</td>\n",
       "    </tr>\n",
       "    <tr>\n",
       "      <th>2</th>\n",
       "      <td>2021-12-02 20:05:19.153883+00:00</td>\n",
       "      <td>37591</td>\n",
       "      <td>System_6062</td>\n",
       "      <td>Warning</td>\n",
       "      <td>Netwtw08</td>\n",
       "      <td>6062 - Lso was triggered</td>\n",
       "    </tr>\n",
       "    <tr>\n",
       "      <th>3</th>\n",
       "      <td>2021-12-02 20:05:18.362357+00:00</td>\n",
       "      <td>37590</td>\n",
       "      <td>System_27</td>\n",
       "      <td>Warning</td>\n",
       "      <td>e1dexpress</td>\n",
       "      <td>NaN</td>\n",
       "    </tr>\n",
       "    <tr>\n",
       "      <th>4</th>\n",
       "      <td>2021-12-02 20:05:18.278408+00:00</td>\n",
       "      <td>37589</td>\n",
       "      <td>System_32</td>\n",
       "      <td>Information</td>\n",
       "      <td>e1dexpress</td>\n",
       "      <td>NaN</td>\n",
       "    </tr>\n",
       "  </tbody>\n",
       "</table>\n",
       "</div>"
      ],
      "text/plain": [
       "                       TimeCreated  ...                                            Message\n",
       "0 2021-12-02 20:05:22.768441+00:00  ...  Name resolution for the name config.teams.micr...\n",
       "1 2021-12-02 20:05:22.255612+00:00  ...                                                NaN\n",
       "2 2021-12-02 20:05:19.153883+00:00  ...                           6062 - Lso was triggered\n",
       "3 2021-12-02 20:05:18.362357+00:00  ...                                                NaN\n",
       "4 2021-12-02 20:05:18.278408+00:00  ...                                                NaN\n",
       "\n",
       "[5 rows x 6 columns]"
      ]
     },
     "execution_count": 3,
     "metadata": {},
     "output_type": "execute_result"
    }
   ],
   "source": [
    "import pandas as pd\n",
    "import string\n",
    "from datetime import datetime # For DateTime -> date operations\n",
    "from gensim.models import Word2Vec\n",
    "from gensim.models import KeyedVectors\n",
    "\n",
    "# Word2Vec hyperparameters:\n",
    "# num_ns: Set the number of negative samples per positive context.\n",
    "# num_ns: between [5, 20] is shown to work best for smaller datasets, while num_ns between [2,5] suffices for larger datasets.\n",
    "num_ns = 2 # was 5\n",
    "window_size = 5\n",
    "embedding_dim = 20 #  20 seems to be sufficient, 128 is the default value from the tutorial   # Dimension of the dense embedding.\n",
    "vocab_size = 20000 # inital size of the vocabulary. We will resize it later before defining the model.\n",
    "sequence_length = 40 # Number of words in a sentence.\n",
    "epochs = 600 # Number of training epochs for Word2Vec, 60 is sufficient, more than 600 doesn't improve quality\n",
    "SEED = 42\n",
    "use_trained_model = False\n",
    "\n",
    "df = pd.read_csv('System-Events-custom.csv', parse_dates=[\"TimeCreated\"]) \n",
    "df.head()"
   ]
  },
  {
   "cell_type": "markdown",
   "id": "610924ab",
   "metadata": {
    "id": "b717a0b2"
   },
   "source": [
    "## Create Event \"word\" from multiple columns\n",
    "This creates a new column containing the words Word2Vec will be trained on."
   ]
  },
  {
   "cell_type": "code",
   "execution_count": 4,
   "id": "f9dff0a7",
   "metadata": {
    "colab": {
     "base_uri": "https://localhost:8080/",
     "height": 300
    },
    "executionInfo": {
     "elapsed": 577,
     "status": "ok",
     "timestamp": 1641128201882,
     "user": {
      "displayName": "Gert den Neijsel",
      "photoUrl": "https://lh3.googleusercontent.com/a-/AOh14Ghe-WXTht56mulzKKQawtMtRp0WsAC72twEb2ymDbc=s64",
      "userId": "10111611199700103859"
     },
     "user_tz": -60
    },
    "id": "2ad11d5a",
    "outputId": "7a07d034-b1ff-4ec4-b2c2-a5b74d313673"
   },
   "outputs": [
    {
     "data": {
      "text/html": [
       "<div>\n",
       "<style scoped>\n",
       "    .dataframe tbody tr th:only-of-type {\n",
       "        vertical-align: middle;\n",
       "    }\n",
       "\n",
       "    .dataframe tbody tr th {\n",
       "        vertical-align: top;\n",
       "    }\n",
       "\n",
       "    .dataframe thead th {\n",
       "        text-align: right;\n",
       "    }\n",
       "</style>\n",
       "<table border=\"1\" class=\"dataframe\">\n",
       "  <thead>\n",
       "    <tr style=\"text-align: right;\">\n",
       "      <th></th>\n",
       "      <th>TimeCreated</th>\n",
       "      <th>EventRecordID</th>\n",
       "      <th>Event</th>\n",
       "      <th>Message</th>\n",
       "    </tr>\n",
       "  </thead>\n",
       "  <tbody>\n",
       "    <tr>\n",
       "      <th>0</th>\n",
       "      <td>2021-12-02 20:05:22.768441+00:00</td>\n",
       "      <td>37593</td>\n",
       "      <td>system1014warningmicrosoftwindowsdnsclient</td>\n",
       "      <td>Name resolution for the name config.teams.micr...</td>\n",
       "    </tr>\n",
       "    <tr>\n",
       "      <th>1</th>\n",
       "      <td>2021-12-02 20:05:22.255612+00:00</td>\n",
       "      <td>37592</td>\n",
       "      <td>system32informatione1dexpress</td>\n",
       "      <td>NaN</td>\n",
       "    </tr>\n",
       "    <tr>\n",
       "      <th>2</th>\n",
       "      <td>2021-12-02 20:05:19.153883+00:00</td>\n",
       "      <td>37591</td>\n",
       "      <td>system6062warningnetwtw08</td>\n",
       "      <td>6062 - Lso was triggered</td>\n",
       "    </tr>\n",
       "    <tr>\n",
       "      <th>3</th>\n",
       "      <td>2021-12-02 20:05:18.362357+00:00</td>\n",
       "      <td>37590</td>\n",
       "      <td>system27warninge1dexpress</td>\n",
       "      <td>NaN</td>\n",
       "    </tr>\n",
       "    <tr>\n",
       "      <th>4</th>\n",
       "      <td>2021-12-02 20:05:18.278408+00:00</td>\n",
       "      <td>37589</td>\n",
       "      <td>system32informatione1dexpress</td>\n",
       "      <td>NaN</td>\n",
       "    </tr>\n",
       "    <tr>\n",
       "      <th>5</th>\n",
       "      <td>2021-12-02 20:05:17.638712+00:00</td>\n",
       "      <td>37588</td>\n",
       "      <td>system1informationmicrosoftwindowspowertrouble...</td>\n",
       "      <td>The system has returned from a low power state...</td>\n",
       "    </tr>\n",
       "    <tr>\n",
       "      <th>6</th>\n",
       "      <td>2021-12-02 20:05:17.544184+00:00</td>\n",
       "      <td>37587</td>\n",
       "      <td>system7021informationnetwtw08</td>\n",
       "      <td>7021 - Connection telemetry fields and analysi...</td>\n",
       "    </tr>\n",
       "    <tr>\n",
       "      <th>7</th>\n",
       "      <td>2021-12-02 20:05:15.997321+00:00</td>\n",
       "      <td>37586</td>\n",
       "      <td>system18informationbthusb</td>\n",
       "      <td>Windows cannot store Bluetooth authentication ...</td>\n",
       "    </tr>\n",
       "  </tbody>\n",
       "</table>\n",
       "</div>"
      ],
      "text/plain": [
       "                       TimeCreated  ...                                            Message\n",
       "0 2021-12-02 20:05:22.768441+00:00  ...  Name resolution for the name config.teams.micr...\n",
       "1 2021-12-02 20:05:22.255612+00:00  ...                                                NaN\n",
       "2 2021-12-02 20:05:19.153883+00:00  ...                           6062 - Lso was triggered\n",
       "3 2021-12-02 20:05:18.362357+00:00  ...                                                NaN\n",
       "4 2021-12-02 20:05:18.278408+00:00  ...                                                NaN\n",
       "5 2021-12-02 20:05:17.638712+00:00  ...  The system has returned from a low power state...\n",
       "6 2021-12-02 20:05:17.544184+00:00  ...  7021 - Connection telemetry fields and analysi...\n",
       "7 2021-12-02 20:05:15.997321+00:00  ...  Windows cannot store Bluetooth authentication ...\n",
       "\n",
       "[8 rows x 4 columns]"
      ]
     },
     "execution_count": 4,
     "metadata": {},
     "output_type": "execute_result"
    }
   ],
   "source": [
    "import string\n",
    "punct = '!\"#$%&\\'()*+,-./:;<=>?@[\\\\]^_`{}~'   # `|` is not present here\n",
    "transtab = str.maketrans(dict.fromkeys(punct, ''))\n",
    "\n",
    "# Define a function to remove spaces\n",
    "# Source: https://iqcode.com/code/python/pandas-series-remove-punctuation\n",
    "# and https://stackoverflow.com/questions/50444346/fast-punctuation-removal-with-pandas\n",
    "def remove_spaces(text):\n",
    "    for punctuation in string.punctuation:\n",
    "        text = text.replace(' ', '')\n",
    "    return text\n",
    "\n",
    "# Create a new column. Concatenate the columns, remove unwanted characters and convert to lowercase\n",
    "df['Event'] = df['EventID'].map(str) + df['Level'].map(str) + df['Provider'].apply(remove_spaces).map(str)\n",
    "df['Event'] = '|'.join(df['Event'].tolist()).translate(transtab).split('|') # remove all other unwanted characters\n",
    "df['Event'] = df['Event'].str.lower()\n",
    "\n",
    "# Delete the redundant columns\n",
    "df = df.drop(['EventID','Level','Provider'], axis=1)\n",
    "\n",
    "# Change order of columns by name, so we can display it orderly\n",
    "df = df[['TimeCreated', 'EventRecordID', 'Event', 'Message']]\n",
    "\n",
    "# Show a preview\n",
    "df.head(8)"
   ]
  },
  {
   "cell_type": "code",
   "execution_count": 5,
   "id": "fdd0896d",
   "metadata": {
    "colab": {
     "base_uri": "https://localhost:8080/"
    },
    "executionInfo": {
     "elapsed": 7,
     "status": "ok",
     "timestamp": 1641128201883,
     "user": {
      "displayName": "Gert den Neijsel",
      "photoUrl": "https://lh3.googleusercontent.com/a-/AOh14Ghe-WXTht56mulzKKQawtMtRp0WsAC72twEb2ymDbc=s64",
      "userId": "10111611199700103859"
     },
     "user_tz": -60
    },
    "id": "260201fa",
    "outputId": "59bdd01a-84ba-477c-da77-763b0087c32b"
   },
   "outputs": [
    {
     "name": "stdout",
     "output_type": "stream",
     "text": [
      "Number of lines/events in the dataset: 37593\n",
      "\n"
     ]
    }
   ],
   "source": [
    "num_rows = len(df.axes[0])\n",
    "print(f\"Number of lines/events in the dataset: {num_rows}\\n\")"
   ]
  },
  {
   "cell_type": "markdown",
   "id": "bed2c7a2",
   "metadata": {
    "id": "0c6391b8"
   },
   "source": [
    "## Create corpus from dataset"
   ]
  },
  {
   "cell_type": "markdown",
   "id": "3f019ecc",
   "metadata": {
    "id": "34579e18"
   },
   "source": [
    "Create the text dataset \"eventlist\", a list containing \"eventrow\" lists. An \"eventrow\" list contains all events for that day."
   ]
  },
  {
   "cell_type": "code",
   "execution_count": 6,
   "id": "67687983",
   "metadata": {
    "colab": {
     "base_uri": "https://localhost:8080/"
    },
    "executionInfo": {
     "elapsed": 6130,
     "status": "ok",
     "timestamp": 1641128208009,
     "user": {
      "displayName": "Gert den Neijsel",
      "photoUrl": "https://lh3.googleusercontent.com/a-/AOh14Ghe-WXTht56mulzKKQawtMtRp0WsAC72twEb2ymDbc=s64",
      "userId": "10111611199700103859"
     },
     "user_tz": -60
    },
    "id": "24316aaa",
    "outputId": "e04b701c-e225-4fb5-da56-000df742fc0b"
   },
   "outputs": [
    {
     "name": "stdout",
     "output_type": "stream",
     "text": [
      "Number of lines = 263, shortest line = 2 words, longest line = 1011 words\n",
      "\n"
     ]
    }
   ],
   "source": [
    "minlength = 1e6\n",
    "maxlength = 0\n",
    "eventlist = []\n",
    "eventrow = []\n",
    "previous_date = None # datetime.now().date()\n",
    "for idx, row in df.iterrows():\n",
    "    date = row['TimeCreated'].date()\n",
    "    eventrow.append(row['Event'])\n",
    "    if date != previous_date:\n",
    "        length = len(eventrow) + 1\n",
    "        if length > maxlength: maxlength = length\n",
    "        if length < minlength: minlength = length\n",
    "        eventrow = []\n",
    "        eventlist.append(eventrow)\n",
    "        previous_date = date\n",
    "        \n",
    "print(f\"Number of lines = {len(eventlist)}, shortest line = {minlength} words, longest line = {maxlength} words\\n\")"
   ]
  },
  {
   "cell_type": "markdown",
   "id": "ea38d5d2",
   "metadata": {
    "id": "33b5a438"
   },
   "source": [
    "## Train the Gensim word2vec model with our own custom corpus"
   ]
  },
  {
   "cell_type": "markdown",
   "id": "772e95c5",
   "metadata": {
    "id": "09ef42f8"
   },
   "source": [
    "Reference: https://radimrehurek.com/gensim/models/word2vec.html and https://github.com/RaRe-Technologies/gensim/wiki/Migrating-from-Gensim-3.x-to-4<br>\n",
    "Gensim v4.0 was released on 31-3-2021\n",
    "\n",
    "Let's try to understand a few of the hyperparameter of this model.\n",
    "1. vector_size: The number of dimensions of the embeddings and the default is 100.\n",
    "2. window: The maximum distance between a target word and words around the target word. The default window is 5.\n",
    "3. min_count: The minimum count of words to consider when training the model; words with occurrence less than this count will be ignored. The default for min_count is 5.\n",
    "   <br>Because we are looking for anomalies, we even want to see words that occur only once, so we set `min_count = 0`\n",
    "4. workers: The number of partitions during training and the default workers is 3. \n",
    "5. sg: The training algorithm, either CBOW(0) or skip gram (1). The default training algorithm is CBOW. \n",
    "6. epochs: number of training cycles\n",
    "7. hs: 0, 1   1=hierarchical softmax\n",
    "8. negative: If set to 0, no negative sampling is used (usually between 5-20)\n",
    "9. seed: Seed for the random number generator. "
   ]
  },
  {
   "cell_type": "code",
   "execution_count": 7,
   "id": "15dcdc5f",
   "metadata": {
    "colab": {
     "base_uri": "https://localhost:8080/"
    },
    "executionInfo": {
     "elapsed": 17302,
     "status": "ok",
     "timestamp": 1641128225296,
     "user": {
      "displayName": "Gert den Neijsel",
      "photoUrl": "https://lh3.googleusercontent.com/a-/AOh14Ghe-WXTht56mulzKKQawtMtRp0WsAC72twEb2ymDbc=s64",
      "userId": "10111611199700103859"
     },
     "user_tz": -60
    },
    "id": "cf756b38",
    "outputId": "f4fe0d0a-5950-484e-936c-42591242dc6b"
   },
   "outputs": [
    {
     "name": "stdout",
     "output_type": "stream",
     "text": [
      "epoch: 0, loss: 27926.3515625\n",
      "epoch: 500, loss: 9990.0\n"
     ]
    }
   ],
   "source": [
    "from gensim.test.utils import common_texts, get_tmpfile\n",
    "from gensim.models.callbacks import CallbackAny2Vec\n",
    "\n",
    "losses = []\n",
    "\n",
    "class callback(CallbackAny2Vec):\n",
    "    '''Callback to print loss after each epoch.'''\n",
    "\n",
    "    def __init__(self):\n",
    "        self.epoch = 0\n",
    "        self.loss_previous_step = 0\n",
    "\n",
    "    def on_epoch_end(self, model):\n",
    "        epoch_loss = model.get_latest_training_loss()\n",
    "        if self.epoch == 0:\n",
    "            loss_now = epoch_loss\n",
    "        else:\n",
    "            loss_now = epoch_loss - self.loss_previous_step\n",
    "            \n",
    "        if ((self.epoch / 250) % 2 == 0): print(f\"epoch: {self.epoch}, loss: {loss_now}\")\n",
    "        self.loss_previous_step = epoch_loss\n",
    "        losses.append(loss_now)\n",
    "        self.epoch += 1\n",
    "\n",
    "# If you would like to test yourself, you can choose either skip-gram or CBOW model. CBOW gave me the best results.\n",
    "\n",
    "# Skip-gram:\n",
    "# model = Word2Vec(sentences=eventlist, min_count=0, vector_size=embedding_dim, workers=8, window=window_size, sg=1, epochs=epochs, seed=SEED, hs=0, negative=num_ns, shrink_windows=True, compute_loss=True, callbacks=[callback()])\n",
    "\n",
    "# CBOW:\n",
    "# model = Word2Vec(sentences=eventlist, min_count=0, vector_size=embedding_dim, workers=8, window=window_size, sg=0, epochs=epochs, seed=SEED, hs=1, negative=0, shrink_windows=True, compute_loss=True, callbacks=[callback()])\n",
    "\n",
    "if use_trained_model == False:\n",
    "    # CBOW model; sg=0, Set min_count=0 to allow 'words' (events) that only occur once. These parameters gave the best and most consistent results:\n",
    "    model = Word2Vec(sentences=eventlist, min_count=0, vector_size=embedding_dim, workers=1, window=window_size, sg=0, epochs=epochs, hs=0, negative=num_ns, compute_loss=True, callbacks=[callback()])\n",
    "    # The model can be stored/loaded via its save() and load() methods (fast and optimized), or stored/loaded in a format compatible with the original word2vec implementation via save_word2vec_format() and load_word2vec_format().\n",
    "    model.save('word2vec.model')\n",
    "else:\n",
    "    model = Word2Vec.load('word2vec.model')"
   ]
  },
  {
   "cell_type": "markdown",
   "id": "d10604b7",
   "metadata": {
    "id": "7a2efa35"
   },
   "source": [
    "### Show training plot"
   ]
  },
  {
   "cell_type": "code",
   "execution_count": 8,
   "id": "0ce5fe00",
   "metadata": {
    "colab": {
     "base_uri": "https://localhost:8080/",
     "height": 330
    },
    "executionInfo": {
     "elapsed": 362,
     "status": "ok",
     "timestamp": 1641128225647,
     "user": {
      "displayName": "Gert den Neijsel",
      "photoUrl": "https://lh3.googleusercontent.com/a-/AOh14Ghe-WXTht56mulzKKQawtMtRp0WsAC72twEb2ymDbc=s64",
      "userId": "10111611199700103859"
     },
     "user_tz": -60
    },
    "id": "a2a0e105",
    "outputId": "f7cd76cd-f150-43a5-e77e-8e8f92a4b111"
   },
   "outputs": [
    {
     "data": {
      "image/png": "[encoded data removed]",
      "text/plain": [
       "<Figure size 432x288 with 1 Axes>"
      ]
     },
     "metadata": {},
     "output_type": "display_data"
    }
   ],
   "source": [
    "if use_trained_model == False:\n",
    "    import matplotlib.image  as mpimg\n",
    "    import matplotlib.pyplot as plt\n",
    "\n",
    "    epochs=range(len(losses)) # Get number of epochs\n",
    "\n",
    "    plt.plot(epochs, losses, 'b')\n",
    "    plt.title('Gensim Word2Vec Training loss')\n",
    "    plt.xlabel(\"Epochs\")\n",
    "    plt.ylabel(\"Loss\")\n",
    "    plt.legend([\"Losses\"])\n",
    "    plt.savefig(\"gensim_word2vec_training_loss.png\", format=\"png\")\n",
    "    plt.show()"
   ]
  },
  {
   "cell_type": "markdown",
   "id": "f95de027",
   "metadata": {
    "id": "mPe8Bzz_PFJU"
   },
   "source": [
    "### Embedding lookup and analysis\n",
    "Save the wordvectors to analyze the obtained embeddings in the Embedding Projector"
   ]
  },
  {
   "cell_type": "code",
   "execution_count": 9,
   "id": "b15316aa",
   "metadata": {
    "executionInfo": {
     "elapsed": 13,
     "status": "ok",
     "timestamp": 1641128225648,
     "user": {
      "displayName": "Gert den Neijsel",
      "photoUrl": "https://lh3.googleusercontent.com/a-/AOh14Ghe-WXTht56mulzKKQawtMtRp0WsAC72twEb2ymDbc=s64",
      "userId": "10111611199700103859"
     },
     "user_tz": -60
    },
    "id": "X9IM8tFbPBKQ"
   },
   "outputs": [],
   "source": [
    "# Store just the words + their trained embeddings.\n",
    "word_vectors = model.wv\n",
    "# The model can be stored/loaded via its save() and load() methods, or stored/loaded in a format compatible with the original word2vec implementation via save_word2vec_format() and load_word2vec_format().\n",
    "word_vectors.save_word2vec_format(\"word2vec.wordvectors\", fvocab=\"word2vec.vocab\")"
   ]
  },
  {
   "cell_type": "markdown",
   "id": "e2f6342a",
   "metadata": {
    "id": "3sCdaDl2TOv8"
   },
   "source": [
    "Run the cell below to download the `word2vec.wordvectors`."
   ]
  },
  {
   "cell_type": "code",
   "execution_count": 10,
   "id": "52231f30",
   "metadata": {
    "colab": {
     "base_uri": "https://localhost:8080/",
     "height": 17
    },
    "executionInfo": {
     "elapsed": 11,
     "status": "ok",
     "timestamp": 1641128225648,
     "user": {
      "displayName": "Gert den Neijsel",
      "photoUrl": "https://lh3.googleusercontent.com/a-/AOh14Ghe-WXTht56mulzKKQawtMtRp0WsAC72twEb2ymDbc=s64",
      "userId": "10111611199700103859"
     },
     "user_tz": -60
    },
    "id": "18FJpQ-1THjf",
    "outputId": "cecbfe17-73eb-4279-ee3c-b77c4d488688"
   },
   "outputs": [],
   "source": [
    "try:\n",
    "    from google.colab import files\n",
    "    files.download('word2vec.wordvectors')\n",
    "    files.download('word2vec.vocab')\n",
    "except Exception:\n",
    "    pass"
   ]
  },
  {
   "cell_type": "markdown",
   "id": "05a82e46",
   "metadata": {
    "id": "eOL-ttQyTagP"
   },
   "source": [
    "On your PC, from the command prompt type `python -m gensim.scripts.word2vec2tensor -i word2vec.wordvectors -o .\\`<br>to convert the wordvectors to the `_tensor.tsv` and `_metadata.tsv` files which can be read by the [Embedding Projector](https://projector.tensorflow.org/). "
   ]
  },
  {
   "cell_type": "markdown",
   "id": "abd16439",
   "metadata": {
    "id": "24e07acb"
   },
   "source": [
    "### Just testing some Word2Vec distance/similarity functions"
   ]
  },
  {
   "cell_type": "code",
   "execution_count": 11,
   "id": "4cfbdee4",
   "metadata": {
    "colab": {
     "base_uri": "https://localhost:8080/"
    },
    "executionInfo": {
     "elapsed": 8,
     "status": "ok",
     "timestamp": 1641128225649,
     "user": {
      "displayName": "Gert den Neijsel",
      "photoUrl": "https://lh3.googleusercontent.com/a-/AOh14Ghe-WXTht56mulzKKQawtMtRp0WsAC72twEb2ymDbc=s64",
      "userId": "10111611199700103859"
     },
     "user_tz": -60
    },
    "id": "6b143ff2",
    "outputId": "b6c9f2fa-3f0c-43f0-ee34-57182f2b4e52"
   },
   "outputs": [
    {
     "name": "stdout",
     "output_type": "stream",
     "text": [
      "Number of words in internal Word2Vec vocabulary: 191\n",
      "\n",
      "[-1.9142601e-01 -1.1913723e-01  2.1970883e-01  3.2118848e-01\n",
      "  5.0254667e-01  1.1049557e-01  1.4130351e-01 -1.1237276e-01\n",
      " -1.6775322e-01 -4.7262006e-02 -2.9707313e-01 -9.9806137e-02\n",
      " -3.0136034e-01  1.3773541e-04  5.1249910e-02 -2.7696106e-01\n",
      "  5.1867221e-02 -4.2282358e-01 -5.1517049e-03 -1.4189599e-01]\n",
      "\n",
      "0.8708573\n",
      "\n",
      "0.12914270162582397\n",
      "\n",
      "[0.24409819 0.66511613]\n",
      "\n",
      "[(0.81697124, 'system51warningdisk'), (0.8169712, 'system137errorntfs')]\n",
      "\n"
     ]
    }
   ],
   "source": [
    "print(f\"Number of words in internal Word2Vec vocabulary: {len(model.wv)}\\n\")\n",
    "print(model.wv.get_vector('system137errorntfs', norm=True))\n",
    "print()\n",
    "print(model.wv.similarity('system136warningntfs','system137errorntfs'))\n",
    "print()\n",
    "print(model.wv.distance('system136warningntfs','system137errorntfs'))\n",
    "print()\n",
    "print(model.wv.distances('system137errorntfs', other_words=([\"system26informationapplicationpopup\",\"system51warningdisk\"])))\n",
    "print()\n",
    "print(model.wv.rank_by_centrality(['system51warningdisk','system137errorntfs'], use_norm=True))\n",
    "print()"
   ]
  },
  {
   "cell_type": "markdown",
   "id": "8b73968b",
   "metadata": {
    "id": "56fcb75e"
   },
   "source": [
    "## Calculate `cosine_similarity` for each event\n",
    "And add these as a a column to the dataset."
   ]
  },
  {
   "cell_type": "code",
   "execution_count": 12,
   "id": "fe4b8068",
   "metadata": {
    "executionInfo": {
     "elapsed": 4620,
     "status": "ok",
     "timestamp": 1641128230264,
     "user": {
      "displayName": "Gert den Neijsel",
      "photoUrl": "https://lh3.googleusercontent.com/a-/AOh14Ghe-WXTht56mulzKKQawtMtRp0WsAC72twEb2ymDbc=s64",
      "userId": "10111611199700103859"
     },
     "user_tz": -60
    },
    "id": "64a406e1"
   },
   "outputs": [],
   "source": [
    "num_events = len(df.axes[0])\n",
    "# add empty columns\n",
    "cos_sim = []\n",
    "for idx, row in df.iterrows():\n",
    "    current_event = row['Event']\n",
    "    if idx == 0:\n",
    "        cos_sim.append(float(1))\n",
    "        previous_event = current_event\n",
    "    if idx > 0:\n",
    "        if idx < num_events + 1:\n",
    "            cs = model.wv.similarity(current_event, previous_event)\n",
    "            cos_sim.append(cs)\n",
    "            previous_event = current_event\n",
    "\n",
    "df['cos_sim'] = cos_sim\n",
    "\n",
    "# Change order of columns by name, so we can display it orderly\n",
    "df = df[['TimeCreated', 'EventRecordID', 'Event', 'cos_sim', 'Message']]\n",
    "df.head()\n",
    "\n",
    "# saving the dataframe\n",
    "df.to_csv('System-Events-similarity-Gensim.csv')"
   ]
  },
  {
   "cell_type": "markdown",
   "id": "8bd89ea7",
   "metadata": {
    "id": "cc27d256"
   },
   "source": [
    "## Plot all anomalies\n",
    "The lower the line spikes, the more unique it is."
   ]
  },
  {
   "cell_type": "code",
   "execution_count": 13,
   "id": "08b74b79",
   "metadata": {
    "colab": {
     "base_uri": "https://localhost:8080/",
     "height": 275
    },
    "executionInfo": {
     "elapsed": 13711,
     "status": "ok",
     "timestamp": 1641128243966,
     "user": {
      "displayName": "Gert den Neijsel",
      "photoUrl": "https://lh3.googleusercontent.com/a-/AOh14Ghe-WXTht56mulzKKQawtMtRp0WsAC72twEb2ymDbc=s64",
      "userId": "10111611199700103859"
     },
     "user_tz": -60
    },
    "id": "8e5d5da3",
    "outputId": "8186bf50-30ac-40e1-c070-7810730297ee"
   },
   "outputs": [
    {
     "data": {
      "image/png": "[encoded data removed]",
      "text/plain": [
       "<Figure size 3600x360 with 1 Axes>"
      ]
     },
     "metadata": {},
     "output_type": "display_data"
    }
   ],
   "source": [
    "import matplotlib.pyplot as plt\n",
    "import matplotlib.dates as mdates\n",
    "\n",
    "fig, ax = plt.subplots(1, figsize=(50, 5))\n",
    "x = df['TimeCreated']\n",
    "y = df['cos_sim']\n",
    "line, = ax.plot(x, y)\n",
    "# Major ticks every month, minor ticks every day,\n",
    "ax.xaxis.set_major_locator(mdates.MonthLocator())\n",
    "ax.xaxis.set_minor_locator(mdates.DayLocator())\n",
    "ax.grid(True, which='both', axis='both')\n",
    "# Text in the x axis will be displayed in 'YYYY-mm-dd' format.\n",
    "ax.xaxis.set_major_formatter(mdates.DateFormatter('%Y-%b-%d'))\n",
    "ax.xaxis.set_minor_formatter(mdates.DateFormatter('%d'))\n",
    "# Rotates and right-aligns the x labels so they don't crowd each other.\n",
    "for label in ax.get_xticklabels(which='major'):\n",
    "    label.set(rotation=90, horizontalalignment='right')\n",
    "for label in ax.get_xticklabels(which='minor'):\n",
    "    label.set(rotation=90, horizontalalignment='right')\n",
    "plt.xlabel(\"Date\")\n",
    "plt.ylabel(\"Cosine Similarity\")\n",
    "plt.savefig(\"cos_sim_gensim.png\", format=\"png\")\n",
    "plt.show()"
   ]
  },
  {
   "cell_type": "markdown",
   "id": "48f231aa",
   "metadata": {
    "id": "zswe4W7mbJiR"
   },
   "source": [
    "## Show some statistics"
   ]
  },
  {
   "cell_type": "code",
   "execution_count": 14,
   "id": "e9661d5f",
   "metadata": {
    "colab": {
     "base_uri": "https://localhost:8080/"
    },
    "executionInfo": {
     "elapsed": 27,
     "status": "ok",
     "timestamp": 1641128243967,
     "user": {
      "displayName": "Gert den Neijsel",
      "photoUrl": "https://lh3.googleusercontent.com/a-/AOh14Ghe-WXTht56mulzKKQawtMtRp0WsAC72twEb2ymDbc=s64",
      "userId": "10111611199700103859"
     },
     "user_tz": -60
    },
    "id": "apqEOaWhbK1h",
    "outputId": "b922b8b1-35b4-49ae-e1c9-18da000b2133"
   },
   "outputs": [
    {
     "name": "stdout",
     "output_type": "stream",
     "text": [
      "count    37593.000000\n",
      "mean         0.594285\n",
      "std          0.349165\n",
      "min         -0.638193\n",
      "25%          0.347295\n",
      "50%          0.571602\n",
      "75%          1.000000\n",
      "max          1.000000\n",
      "Name: cos_sim, dtype: float64\n"
     ]
    }
   ],
   "source": [
    "print(df['cos_sim'].describe())"
   ]
  },
  {
   "cell_type": "markdown",
   "id": "cd268c0e",
   "metadata": {
    "id": "ae637e55"
   },
   "source": [
    "## Show Top 10 of all anomalies"
   ]
  },
  {
   "cell_type": "code",
   "execution_count": 15,
   "id": "96f4788b",
   "metadata": {
    "colab": {
     "base_uri": "https://localhost:8080/",
     "height": 397
    },
    "executionInfo": {
     "elapsed": 22,
     "status": "ok",
     "timestamp": 1641128243967,
     "user": {
      "displayName": "Gert den Neijsel",
      "photoUrl": "https://lh3.googleusercontent.com/a-/AOh14Ghe-WXTht56mulzKKQawtMtRp0WsAC72twEb2ymDbc=s64",
      "userId": "10111611199700103859"
     },
     "user_tz": -60
    },
    "id": "049bdafe",
    "outputId": "40f80b22-ba5c-4fdc-c4bd-142f0fa774f2"
   },
   "outputs": [
    {
     "name": "stdout",
     "output_type": "stream",
     "text": [
      "Top 10 of all 'anomalies':\n",
      "\n"
     ]
    },
    {
     "data": {
      "text/html": [
       "<div>\n",
       "<style scoped>\n",
       "    .dataframe tbody tr th:only-of-type {\n",
       "        vertical-align: middle;\n",
       "    }\n",
       "\n",
       "    .dataframe tbody tr th {\n",
       "        vertical-align: top;\n",
       "    }\n",
       "\n",
       "    .dataframe thead th {\n",
       "        text-align: right;\n",
       "    }\n",
       "</style>\n",
       "<table border=\"1\" class=\"dataframe\">\n",
       "  <thead>\n",
       "    <tr style=\"text-align: right;\">\n",
       "      <th></th>\n",
       "      <th>TimeCreated</th>\n",
       "      <th>EventRecordID</th>\n",
       "      <th>Event</th>\n",
       "      <th>cos_sim</th>\n",
       "      <th>Message</th>\n",
       "    </tr>\n",
       "  </thead>\n",
       "  <tbody>\n",
       "    <tr>\n",
       "      <th>24039</th>\n",
       "      <td>2021-06-14 07:59:45.512246+00:00</td>\n",
       "      <td>13554</td>\n",
       "      <td>system4warningmeix64</td>\n",
       "      <td>-0.638193</td>\n",
       "      <td>The Intel(R) Management Engine Interface is being disabled.</td>\n",
       "    </tr>\n",
       "    <tr>\n",
       "      <th>24038</th>\n",
       "      <td>2021-06-14 07:59:45.615966+00:00</td>\n",
       "      <td>13555</td>\n",
       "      <td>system2informationmeix64</td>\n",
       "      <td>-0.617404</td>\n",
       "      <td>Intel(R) Management Engine Interface driver has started successfully.</td>\n",
       "    </tr>\n",
       "    <tr>\n",
       "      <th>13127</th>\n",
       "      <td>2021-09-09 07:42:08.032689+00:00</td>\n",
       "      <td>24466</td>\n",
       "      <td>system6informationmicrosoftwindowsfiltermanager</td>\n",
       "      <td>-0.536768</td>\n",
       "      <td>File System Filter 'bindflt' (10.0, ‎2001‎-‎07‎-‎17T04:21:27.000000000Z) has successfully loaded and registered with Filter Manager.</td>\n",
       "    </tr>\n",
       "    <tr>\n",
       "      <th>37133</th>\n",
       "      <td>2021-03-12 21:35:01.688522+00:00</td>\n",
       "      <td>460</td>\n",
       "      <td>system6informationmicrosoftwindowsfiltermanager</td>\n",
       "      <td>-0.536768</td>\n",
       "      <td>File System Filter 'WdFilter' (10.0, ‎2096‎-‎03‎-‎31T00:06:20.000000000Z) has successfully loaded and registered with Filter Manager.</td>\n",
       "    </tr>\n",
       "    <tr>\n",
       "      <th>37232</th>\n",
       "      <td>2021-03-12 21:32:08.092537+00:00</td>\n",
       "      <td>361</td>\n",
       "      <td>system6informationmicrosoftwindowsfiltermanager</td>\n",
       "      <td>-0.536768</td>\n",
       "      <td>File System Filter 'bindflt' (10.0, ‎1986‎-‎11‎-‎02T03:57:03.000000000Z) has successfully loaded and registered with Filter Manager.</td>\n",
       "    </tr>\n",
       "    <tr>\n",
       "      <th>1829</th>\n",
       "      <td>2021-11-27 15:54:53.044093+00:00</td>\n",
       "      <td>35764</td>\n",
       "      <td>system10002warningmicrosoftwindowswlanautoconfig</td>\n",
       "      <td>-0.516232</td>\n",
       "      <td>WLAN Extensibility Module has stopped.\\r\\n\\r\\nModule Path: C:\\WINDOWS\\system32\\IntelIHVRouter08.dll\\r\\n</td>\n",
       "    </tr>\n",
       "    <tr>\n",
       "      <th>9248</th>\n",
       "      <td>2021-10-03 15:15:42.250925+00:00</td>\n",
       "      <td>28345</td>\n",
       "      <td>system10002warningmicrosoftwindowswlanautoconfig</td>\n",
       "      <td>-0.516232</td>\n",
       "      <td>WLAN Extensibility Module has stopped.\\r\\n\\r\\nModule Path: C:\\WINDOWS\\system32\\IntelIHVRouter08.dll\\r\\n</td>\n",
       "    </tr>\n",
       "    <tr>\n",
       "      <th>11689</th>\n",
       "      <td>2021-09-16 07:33:14.397578+00:00</td>\n",
       "      <td>25904</td>\n",
       "      <td>system10002warningmicrosoftwindowswlanautoconfig</td>\n",
       "      <td>-0.516232</td>\n",
       "      <td>WLAN Extensibility Module has stopped.\\r\\n\\r\\nModule Path: C:\\WINDOWS\\system32\\IntelIHVRouter08.dll\\r\\n</td>\n",
       "    </tr>\n",
       "    <tr>\n",
       "      <th>20160</th>\n",
       "      <td>2021-07-10 13:45:33.268784+00:00</td>\n",
       "      <td>17433</td>\n",
       "      <td>system10002warningmicrosoftwindowswlanautoconfig</td>\n",
       "      <td>-0.516232</td>\n",
       "      <td>WLAN Extensibility Module has stopped.\\r\\n\\r\\nModule Path: C:\\WINDOWS\\system32\\IntelIHVRouter08.dll\\r\\n</td>\n",
       "    </tr>\n",
       "    <tr>\n",
       "      <th>22273</th>\n",
       "      <td>2021-06-27 15:38:09.678158+00:00</td>\n",
       "      <td>15320</td>\n",
       "      <td>system10002warningmicrosoftwindowswlanautoconfig</td>\n",
       "      <td>-0.516232</td>\n",
       "      <td>WLAN Extensibility Module has stopped.\\r\\n\\r\\nModule Path: C:\\WINDOWS\\system32\\IntelIHVRouter08.dll\\r\\n</td>\n",
       "    </tr>\n",
       "  </tbody>\n",
       "</table>\n",
       "</div>"
      ],
      "text/plain": [
       "                           TimeCreated  EventRecordID                                             Event   cos_sim  \\\n",
       "24039 2021-06-14 07:59:45.512246+00:00          13554                              system4warningmeix64 -0.638193   \n",
       "24038 2021-06-14 07:59:45.615966+00:00          13555                          system2informationmeix64 -0.617404   \n",
       "13127 2021-09-09 07:42:08.032689+00:00          24466   system6informationmicrosoftwindowsfiltermanager -0.536768   \n",
       "37133 2021-03-12 21:35:01.688522+00:00            460   system6informationmicrosoftwindowsfiltermanager -0.536768   \n",
       "37232 2021-03-12 21:32:08.092537+00:00            361   system6informationmicrosoftwindowsfiltermanager -0.536768   \n",
       "1829  2021-11-27 15:54:53.044093+00:00          35764  system10002warningmicrosoftwindowswlanautoconfig -0.516232   \n",
       "9248  2021-10-03 15:15:42.250925+00:00          28345  system10002warningmicrosoftwindowswlanautoconfig -0.516232   \n",
       "11689 2021-09-16 07:33:14.397578+00:00          25904  system10002warningmicrosoftwindowswlanautoconfig -0.516232   \n",
       "20160 2021-07-10 13:45:33.268784+00:00          17433  system10002warningmicrosoftwindowswlanautoconfig -0.516232   \n",
       "22273 2021-06-27 15:38:09.678158+00:00          15320  system10002warningmicrosoftwindowswlanautoconfig -0.516232   \n",
       "\n",
       "                                                                                                                                     Message  \n",
       "24039                                                                            The Intel(R) Management Engine Interface is being disabled.  \n",
       "24038                                                                  Intel(R) Management Engine Interface driver has started successfully.  \n",
       "13127   File System Filter 'bindflt' (10.0, ‎2001‎-‎07‎-‎17T04:21:27.000000000Z) has successfully loaded and registered with Filter Manager.  \n",
       "37133  File System Filter 'WdFilter' (10.0, ‎2096‎-‎03‎-‎31T00:06:20.000000000Z) has successfully loaded and registered with Filter Manager.  \n",
       "37232   File System Filter 'bindflt' (10.0, ‎1986‎-‎11‎-‎02T03:57:03.000000000Z) has successfully loaded and registered with Filter Manager.  \n",
       "1829                                 WLAN Extensibility Module has stopped.\\r\\n\\r\\nModule Path: C:\\WINDOWS\\system32\\IntelIHVRouter08.dll\\r\\n  \n",
       "9248                                 WLAN Extensibility Module has stopped.\\r\\n\\r\\nModule Path: C:\\WINDOWS\\system32\\IntelIHVRouter08.dll\\r\\n  \n",
       "11689                                WLAN Extensibility Module has stopped.\\r\\n\\r\\nModule Path: C:\\WINDOWS\\system32\\IntelIHVRouter08.dll\\r\\n  \n",
       "20160                                WLAN Extensibility Module has stopped.\\r\\n\\r\\nModule Path: C:\\WINDOWS\\system32\\IntelIHVRouter08.dll\\r\\n  \n",
       "22273                                WLAN Extensibility Module has stopped.\\r\\n\\r\\nModule Path: C:\\WINDOWS\\system32\\IntelIHVRouter08.dll\\r\\n  "
      ]
     },
     "execution_count": 15,
     "metadata": {},
     "output_type": "execute_result"
    }
   ],
   "source": [
    "# Pandas display settings\n",
    "pd.set_option('display.max_columns', None) # Set it to None to display all columns in the dataframe\n",
    "pd.set_option('display.width',200)\n",
    "pd.set_option('display.max_colwidth', None)\n",
    "\n",
    "print(\"Top 10 of all 'anomalies':\\n\")\n",
    "df.nsmallest(n=10, columns=['cos_sim'])"
   ]
  },
  {
   "cell_type": "markdown",
   "id": "fa9c30d4",
   "metadata": {
    "id": "95db18b6"
   },
   "source": [
    "As you can see above, those anomalies are probably not always what you expected. We are not interested in 'Information' events. \n",
    "<br> Now lets take a look at some more interesting events.\n",
    "## Show Top 10 of 'critical' anomalies"
   ]
  },
  {
   "cell_type": "code",
   "execution_count": 16,
   "id": "81f1a675",
   "metadata": {
    "colab": {
     "base_uri": "https://localhost:8080/",
     "height": 397
    },
    "executionInfo": {
     "elapsed": 20,
     "status": "ok",
     "timestamp": 1641128243967,
     "user": {
      "displayName": "Gert den Neijsel",
      "photoUrl": "https://lh3.googleusercontent.com/a-/AOh14Ghe-WXTht56mulzKKQawtMtRp0WsAC72twEb2ymDbc=s64",
      "userId": "10111611199700103859"
     },
     "user_tz": -60
    },
    "id": "6ddc86d6",
    "outputId": "19cc7c87-8f9c-4245-e850-39a924274808"
   },
   "outputs": [
    {
     "name": "stdout",
     "output_type": "stream",
     "text": [
      "Top 10 of 'critical' anomalies from a total of 14 'critical' events:\n",
      "\n"
     ]
    },
    {
     "data": {
      "text/html": [
       "<div>\n",
       "<style scoped>\n",
       "    .dataframe tbody tr th:only-of-type {\n",
       "        vertical-align: middle;\n",
       "    }\n",
       "\n",
       "    .dataframe tbody tr th {\n",
       "        vertical-align: top;\n",
       "    }\n",
       "\n",
       "    .dataframe thead th {\n",
       "        text-align: right;\n",
       "    }\n",
       "</style>\n",
       "<table border=\"1\" class=\"dataframe\">\n",
       "  <thead>\n",
       "    <tr style=\"text-align: right;\">\n",
       "      <th></th>\n",
       "      <th>TimeCreated</th>\n",
       "      <th>EventRecordID</th>\n",
       "      <th>Event</th>\n",
       "      <th>cos_sim</th>\n",
       "      <th>Message</th>\n",
       "    </tr>\n",
       "  </thead>\n",
       "  <tbody>\n",
       "    <tr>\n",
       "      <th>570</th>\n",
       "      <td>2021-11-30 11:19:04.976339+00:00</td>\n",
       "      <td>37023</td>\n",
       "      <td>system41criticalmicrosoftwindowskernelpower</td>\n",
       "      <td>0.35586</td>\n",
       "      <td>The system has rebooted without cleanly shutting down first. This error could be caused if the system stopped responding, crashed, or lost power unexpectedly.</td>\n",
       "    </tr>\n",
       "    <tr>\n",
       "      <th>9440</th>\n",
       "      <td>2021-10-01 18:28:17.428702+00:00</td>\n",
       "      <td>28153</td>\n",
       "      <td>system41criticalmicrosoftwindowskernelpower</td>\n",
       "      <td>0.35586</td>\n",
       "      <td>The system has rebooted without cleanly shutting down first. This error could be caused if the system stopped responding, crashed, or lost power unexpectedly.</td>\n",
       "    </tr>\n",
       "    <tr>\n",
       "      <th>14500</th>\n",
       "      <td>2021-08-31 15:15:12.123075+00:00</td>\n",
       "      <td>23093</td>\n",
       "      <td>system41criticalmicrosoftwindowskernelpower</td>\n",
       "      <td>0.35586</td>\n",
       "      <td>The system has rebooted without cleanly shutting down first. This error could be caused if the system stopped responding, crashed, or lost power unexpectedly.</td>\n",
       "    </tr>\n",
       "    <tr>\n",
       "      <th>26725</th>\n",
       "      <td>2021-05-28 16:46:49.554694+00:00</td>\n",
       "      <td>10868</td>\n",
       "      <td>system41criticalmicrosoftwindowskernelpower</td>\n",
       "      <td>0.35586</td>\n",
       "      <td>The system has rebooted without cleanly shutting down first. This error could be caused if the system stopped responding, crashed, or lost power unexpectedly.</td>\n",
       "    </tr>\n",
       "    <tr>\n",
       "      <th>27941</th>\n",
       "      <td>2021-05-23 18:34:47.785323+00:00</td>\n",
       "      <td>9652</td>\n",
       "      <td>system41criticalmicrosoftwindowskernelpower</td>\n",
       "      <td>0.35586</td>\n",
       "      <td>The system has rebooted without cleanly shutting down first. This error could be caused if the system stopped responding, crashed, or lost power unexpectedly.</td>\n",
       "    </tr>\n",
       "    <tr>\n",
       "      <th>30925</th>\n",
       "      <td>2021-04-26 13:11:40.205236+00:00</td>\n",
       "      <td>6668</td>\n",
       "      <td>system41criticalmicrosoftwindowskernelpower</td>\n",
       "      <td>0.35586</td>\n",
       "      <td>The system has rebooted without cleanly shutting down first. This error could be caused if the system stopped responding, crashed, or lost power unexpectedly.</td>\n",
       "    </tr>\n",
       "    <tr>\n",
       "      <th>31140</th>\n",
       "      <td>2021-04-25 12:11:55.396258+00:00</td>\n",
       "      <td>6453</td>\n",
       "      <td>system41criticalmicrosoftwindowskernelpower</td>\n",
       "      <td>0.35586</td>\n",
       "      <td>The system has rebooted without cleanly shutting down first. This error could be caused if the system stopped responding, crashed, or lost power unexpectedly.</td>\n",
       "    </tr>\n",
       "    <tr>\n",
       "      <th>31401</th>\n",
       "      <td>2021-04-23 06:53:59.632369+00:00</td>\n",
       "      <td>6192</td>\n",
       "      <td>system41criticalmicrosoftwindowskernelpower</td>\n",
       "      <td>0.35586</td>\n",
       "      <td>The system has rebooted without cleanly shutting down first. This error could be caused if the system stopped responding, crashed, or lost power unexpectedly.</td>\n",
       "    </tr>\n",
       "    <tr>\n",
       "      <th>31674</th>\n",
       "      <td>2021-04-21 07:02:53.221205+00:00</td>\n",
       "      <td>5919</td>\n",
       "      <td>system41criticalmicrosoftwindowskernelpower</td>\n",
       "      <td>0.35586</td>\n",
       "      <td>The system has rebooted without cleanly shutting down first. This error could be caused if the system stopped responding, crashed, or lost power unexpectedly.</td>\n",
       "    </tr>\n",
       "    <tr>\n",
       "      <th>31759</th>\n",
       "      <td>2021-04-21 07:00:39.765228+00:00</td>\n",
       "      <td>5834</td>\n",
       "      <td>system41criticalmicrosoftwindowskernelpower</td>\n",
       "      <td>0.35586</td>\n",
       "      <td>The system has rebooted without cleanly shutting down first. This error could be caused if the system stopped responding, crashed, or lost power unexpectedly.</td>\n",
       "    </tr>\n",
       "  </tbody>\n",
       "</table>\n",
       "</div>"
      ],
      "text/plain": [
       "                           TimeCreated  EventRecordID                                        Event  cos_sim  \\\n",
       "570   2021-11-30 11:19:04.976339+00:00          37023  system41criticalmicrosoftwindowskernelpower  0.35586   \n",
       "9440  2021-10-01 18:28:17.428702+00:00          28153  system41criticalmicrosoftwindowskernelpower  0.35586   \n",
       "14500 2021-08-31 15:15:12.123075+00:00          23093  system41criticalmicrosoftwindowskernelpower  0.35586   \n",
       "26725 2021-05-28 16:46:49.554694+00:00          10868  system41criticalmicrosoftwindowskernelpower  0.35586   \n",
       "27941 2021-05-23 18:34:47.785323+00:00           9652  system41criticalmicrosoftwindowskernelpower  0.35586   \n",
       "30925 2021-04-26 13:11:40.205236+00:00           6668  system41criticalmicrosoftwindowskernelpower  0.35586   \n",
       "31140 2021-04-25 12:11:55.396258+00:00           6453  system41criticalmicrosoftwindowskernelpower  0.35586   \n",
       "31401 2021-04-23 06:53:59.632369+00:00           6192  system41criticalmicrosoftwindowskernelpower  0.35586   \n",
       "31674 2021-04-21 07:02:53.221205+00:00           5919  system41criticalmicrosoftwindowskernelpower  0.35586   \n",
       "31759 2021-04-21 07:00:39.765228+00:00           5834  system41criticalmicrosoftwindowskernelpower  0.35586   \n",
       "\n",
       "                                                                                                                                                              Message  \n",
       "570    The system has rebooted without cleanly shutting down first. This error could be caused if the system stopped responding, crashed, or lost power unexpectedly.  \n",
       "9440   The system has rebooted without cleanly shutting down first. This error could be caused if the system stopped responding, crashed, or lost power unexpectedly.  \n",
       "14500  The system has rebooted without cleanly shutting down first. This error could be caused if the system stopped responding, crashed, or lost power unexpectedly.  \n",
       "26725  The system has rebooted without cleanly shutting down first. This error could be caused if the system stopped responding, crashed, or lost power unexpectedly.  \n",
       "27941  The system has rebooted without cleanly shutting down first. This error could be caused if the system stopped responding, crashed, or lost power unexpectedly.  \n",
       "30925  The system has rebooted without cleanly shutting down first. This error could be caused if the system stopped responding, crashed, or lost power unexpectedly.  \n",
       "31140  The system has rebooted without cleanly shutting down first. This error could be caused if the system stopped responding, crashed, or lost power unexpectedly.  \n",
       "31401  The system has rebooted without cleanly shutting down first. This error could be caused if the system stopped responding, crashed, or lost power unexpectedly.  \n",
       "31674  The system has rebooted without cleanly shutting down first. This error could be caused if the system stopped responding, crashed, or lost power unexpectedly.  \n",
       "31759  The system has rebooted without cleanly shutting down first. This error could be caused if the system stopped responding, crashed, or lost power unexpectedly.  "
      ]
     },
     "execution_count": 16,
     "metadata": {},
     "output_type": "execute_result"
    }
   ],
   "source": [
    "dfcritical = df[df['Event'].str.contains('critical')]\n",
    "print(f\"Top 10 of 'critical' anomalies from a total of {len(dfcritical)} 'critical' events:\\n\")\n",
    "dfcritical.nsmallest(n=10, columns=['cos_sim'])"
   ]
  },
  {
   "cell_type": "markdown",
   "id": "22855755",
   "metadata": {
    "id": "08a417ca"
   },
   "source": [
    "## Show Top 10 of 'error' anomalies"
   ]
  },
  {
   "cell_type": "code",
   "execution_count": 17,
   "id": "c93df58b",
   "metadata": {
    "colab": {
     "base_uri": "https://localhost:8080/",
     "height": 1000
    },
    "executionInfo": {
     "elapsed": 19,
     "status": "ok",
     "timestamp": 1641128243968,
     "user": {
      "displayName": "Gert den Neijsel",
      "photoUrl": "https://lh3.googleusercontent.com/a-/AOh14Ghe-WXTht56mulzKKQawtMtRp0WsAC72twEb2ymDbc=s64",
      "userId": "10111611199700103859"
     },
     "user_tz": -60
    },
    "id": "f1154b12",
    "outputId": "7e461991-c023-4662-b77d-02172c4db79f"
   },
   "outputs": [
    {
     "name": "stdout",
     "output_type": "stream",
     "text": [
      "Top 10 of 'error' anomalies from a total of 1054 'error' events:\n",
      "\n"
     ]
    },
    {
     "data": {
      "text/html": [
       "<div>\n",
       "<style scoped>\n",
       "    .dataframe tbody tr th:only-of-type {\n",
       "        vertical-align: middle;\n",
       "    }\n",
       "\n",
       "    .dataframe tbody tr th {\n",
       "        vertical-align: top;\n",
       "    }\n",
       "\n",
       "    .dataframe thead th {\n",
       "        text-align: right;\n",
       "    }\n",
       "</style>\n",
       "<table border=\"1\" class=\"dataframe\">\n",
       "  <thead>\n",
       "    <tr style=\"text-align: right;\">\n",
       "      <th></th>\n",
       "      <th>TimeCreated</th>\n",
       "      <th>EventRecordID</th>\n",
       "      <th>Event</th>\n",
       "      <th>cos_sim</th>\n",
       "      <th>Message</th>\n",
       "    </tr>\n",
       "  </thead>\n",
       "  <tbody>\n",
       "    <tr>\n",
       "      <th>14430</th>\n",
       "      <td>2021-08-31 15:15:40.517659+00:00</td>\n",
       "      <td>23163</td>\n",
       "      <td>system1001errormicrosoftwindowswersystemerrorreporting</td>\n",
       "      <td>-0.184838</td>\n",
       "      <td>The computer has rebooted from a bugcheck.  The bugcheck was: 0x00000109 (0xa3a004e23def3663, 0x0000000000000000, 0x1049d96c353a27eb, 0x0000000000000101). A dump was saved in: C:\\WINDOWS\\MEMORY.DMP. Report Id: 188d660c-6628-4f32-be56-781624281ae2.</td>\n",
       "    </tr>\n",
       "    <tr>\n",
       "      <th>26665</th>\n",
       "      <td>2021-05-28 16:47:09.837706+00:00</td>\n",
       "      <td>10928</td>\n",
       "      <td>system1001errormicrosoftwindowswersystemerrorreporting</td>\n",
       "      <td>-0.184838</td>\n",
       "      <td>The computer has rebooted from a bugcheck.  The bugcheck was: 0x0000001a (0x0000000000061948, 0x0000000001008000, 0x0000000000000001, 0x0000000001008000). A dump was saved in: C:\\WINDOWS\\MEMORY.DMP. Report Id: 983ac434-d271-4a0e-9de0-6eaf64583e30.</td>\n",
       "    </tr>\n",
       "    <tr>\n",
       "      <th>27873</th>\n",
       "      <td>2021-05-23 18:35:15.357416+00:00</td>\n",
       "      <td>9720</td>\n",
       "      <td>system1001errormicrosoftwindowswersystemerrorreporting</td>\n",
       "      <td>-0.184838</td>\n",
       "      <td>The computer has rebooted from a bugcheck.  The bugcheck was: 0x0000001a (0x0000000000061948, 0x0000000001008000, 0x0000000000000001, 0x0000000001008000). A dump was saved in: C:\\WINDOWS\\MEMORY.DMP. Report Id: d8b55560-809f-4550-aba8-25b45a3106aa.</td>\n",
       "    </tr>\n",
       "    <tr>\n",
       "      <th>30868</th>\n",
       "      <td>2021-04-26 13:12:01.443939+00:00</td>\n",
       "      <td>6725</td>\n",
       "      <td>system1001errormicrosoftwindowswersystemerrorreporting</td>\n",
       "      <td>-0.184838</td>\n",
       "      <td>The computer has rebooted from a bugcheck.  The bugcheck was: 0x0000003b (0x00000000c0000005, 0xfffff8041d896d93, 0xfffff601f75b6af0, 0x0000000000000000). A dump was saved in: C:\\WINDOWS\\MEMORY.DMP. Report Id: b380d75b-57ae-4626-a341-c543ad9e6c79.</td>\n",
       "    </tr>\n",
       "    <tr>\n",
       "      <th>29477</th>\n",
       "      <td>2021-05-09 14:49:37.884761+00:00</td>\n",
       "      <td>8116</td>\n",
       "      <td>system10010errormicrosoftwindowsdistributedcom</td>\n",
       "      <td>-0.182824</td>\n",
       "      <td>The server Microsoft.SkypeApp_15.68.96.0_x86__kzf8qxf38zg5c!App.AppXtwmqn4em5r5dpafgj4t4yyxgjfe0hr50.mca did not register with DCOM within the required timeout.</td>\n",
       "    </tr>\n",
       "    <tr>\n",
       "      <th>32096</th>\n",
       "      <td>2021-04-18 12:13:42.183632+00:00</td>\n",
       "      <td>5497</td>\n",
       "      <td>system10010errormicrosoftwindowsdistributedcom</td>\n",
       "      <td>-0.182824</td>\n",
       "      <td>The server Microsoft.SkypeApp_15.68.96.0_x86__kzf8qxf38zg5c!App.AppXtwmqn4em5r5dpafgj4t4yyxgjfe0hr50.mca did not register with DCOM within the required timeout.</td>\n",
       "    </tr>\n",
       "    <tr>\n",
       "      <th>32221</th>\n",
       "      <td>2021-04-17 07:38:17.117611+00:00</td>\n",
       "      <td>5372</td>\n",
       "      <td>system10010errormicrosoftwindowsdistributedcom</td>\n",
       "      <td>-0.182824</td>\n",
       "      <td>The server Microsoft.SkypeApp_15.68.96.0_x86__kzf8qxf38zg5c!App.AppXtwmqn4em5r5dpafgj4t4yyxgjfe0hr50.mca did not register with DCOM within the required timeout.</td>\n",
       "    </tr>\n",
       "    <tr>\n",
       "      <th>32239</th>\n",
       "      <td>2021-04-16 19:21:22.771181+00:00</td>\n",
       "      <td>5354</td>\n",
       "      <td>system10010errormicrosoftwindowsdistributedcom</td>\n",
       "      <td>-0.182824</td>\n",
       "      <td>The server Microsoft.SkypeApp_15.68.96.0_x86__kzf8qxf38zg5c!App.AppXtwmqn4em5r5dpafgj4t4yyxgjfe0hr50.mca did not register with DCOM within the required timeout.</td>\n",
       "    </tr>\n",
       "    <tr>\n",
       "      <th>33633</th>\n",
       "      <td>2021-04-09 06:54:45.396437+00:00</td>\n",
       "      <td>3960</td>\n",
       "      <td>system10010errormicrosoftwindowsdistributedcom</td>\n",
       "      <td>-0.182824</td>\n",
       "      <td>The server Microsoft.SkypeApp_15.68.96.0_x86__kzf8qxf38zg5c!App.AppXtwmqn4em5r5dpafgj4t4yyxgjfe0hr50.mca did not register with DCOM within the required timeout.</td>\n",
       "    </tr>\n",
       "    <tr>\n",
       "      <th>35621</th>\n",
       "      <td>2021-03-27 13:29:05.829182+00:00</td>\n",
       "      <td>1972</td>\n",
       "      <td>system10010errormicrosoftwindowsdistributedcom</td>\n",
       "      <td>-0.182824</td>\n",
       "      <td>The server Microsoft.SkypeApp_15.68.96.0_x86__kzf8qxf38zg5c!App.AppXtwmqn4em5r5dpafgj4t4yyxgjfe0hr50.mca did not register with DCOM within the required timeout.</td>\n",
       "    </tr>\n",
       "  </tbody>\n",
       "</table>\n",
       "</div>"
      ],
      "text/plain": [
       "                           TimeCreated  EventRecordID                                                   Event   cos_sim  \\\n",
       "14430 2021-08-31 15:15:40.517659+00:00          23163  system1001errormicrosoftwindowswersystemerrorreporting -0.184838   \n",
       "26665 2021-05-28 16:47:09.837706+00:00          10928  system1001errormicrosoftwindowswersystemerrorreporting -0.184838   \n",
       "27873 2021-05-23 18:35:15.357416+00:00           9720  system1001errormicrosoftwindowswersystemerrorreporting -0.184838   \n",
       "30868 2021-04-26 13:12:01.443939+00:00           6725  system1001errormicrosoftwindowswersystemerrorreporting -0.184838   \n",
       "29477 2021-05-09 14:49:37.884761+00:00           8116          system10010errormicrosoftwindowsdistributedcom -0.182824   \n",
       "32096 2021-04-18 12:13:42.183632+00:00           5497          system10010errormicrosoftwindowsdistributedcom -0.182824   \n",
       "32221 2021-04-17 07:38:17.117611+00:00           5372          system10010errormicrosoftwindowsdistributedcom -0.182824   \n",
       "32239 2021-04-16 19:21:22.771181+00:00           5354          system10010errormicrosoftwindowsdistributedcom -0.182824   \n",
       "33633 2021-04-09 06:54:45.396437+00:00           3960          system10010errormicrosoftwindowsdistributedcom -0.182824   \n",
       "35621 2021-03-27 13:29:05.829182+00:00           1972          system10010errormicrosoftwindowsdistributedcom -0.182824   \n",
       "\n",
       "                                                                                                                                                                                                                                                       Message  \n",
       "14430  The computer has rebooted from a bugcheck.  The bugcheck was: 0x00000109 (0xa3a004e23def3663, 0x0000000000000000, 0x1049d96c353a27eb, 0x0000000000000101). A dump was saved in: C:\\WINDOWS\\MEMORY.DMP. Report Id: 188d660c-6628-4f32-be56-781624281ae2.  \n",
       "26665  The computer has rebooted from a bugcheck.  The bugcheck was: 0x0000001a (0x0000000000061948, 0x0000000001008000, 0x0000000000000001, 0x0000000001008000). A dump was saved in: C:\\WINDOWS\\MEMORY.DMP. Report Id: 983ac434-d271-4a0e-9de0-6eaf64583e30.  \n",
       "27873  The computer has rebooted from a bugcheck.  The bugcheck was: 0x0000001a (0x0000000000061948, 0x0000000001008000, 0x0000000000000001, 0x0000000001008000). A dump was saved in: C:\\WINDOWS\\MEMORY.DMP. Report Id: d8b55560-809f-4550-aba8-25b45a3106aa.  \n",
       "30868  The computer has rebooted from a bugcheck.  The bugcheck was: 0x0000003b (0x00000000c0000005, 0xfffff8041d896d93, 0xfffff601f75b6af0, 0x0000000000000000). A dump was saved in: C:\\WINDOWS\\MEMORY.DMP. Report Id: b380d75b-57ae-4626-a341-c543ad9e6c79.  \n",
       "29477                                                                                         The server Microsoft.SkypeApp_15.68.96.0_x86__kzf8qxf38zg5c!App.AppXtwmqn4em5r5dpafgj4t4yyxgjfe0hr50.mca did not register with DCOM within the required timeout.  \n",
       "32096                                                                                         The server Microsoft.SkypeApp_15.68.96.0_x86__kzf8qxf38zg5c!App.AppXtwmqn4em5r5dpafgj4t4yyxgjfe0hr50.mca did not register with DCOM within the required timeout.  \n",
       "32221                                                                                         The server Microsoft.SkypeApp_15.68.96.0_x86__kzf8qxf38zg5c!App.AppXtwmqn4em5r5dpafgj4t4yyxgjfe0hr50.mca did not register with DCOM within the required timeout.  \n",
       "32239                                                                                         The server Microsoft.SkypeApp_15.68.96.0_x86__kzf8qxf38zg5c!App.AppXtwmqn4em5r5dpafgj4t4yyxgjfe0hr50.mca did not register with DCOM within the required timeout.  \n",
       "33633                                                                                         The server Microsoft.SkypeApp_15.68.96.0_x86__kzf8qxf38zg5c!App.AppXtwmqn4em5r5dpafgj4t4yyxgjfe0hr50.mca did not register with DCOM within the required timeout.  \n",
       "35621                                                                                         The server Microsoft.SkypeApp_15.68.96.0_x86__kzf8qxf38zg5c!App.AppXtwmqn4em5r5dpafgj4t4yyxgjfe0hr50.mca did not register with DCOM within the required timeout.  "
      ]
     },
     "execution_count": 17,
     "metadata": {},
     "output_type": "execute_result"
    }
   ],
   "source": [
    "dferror = df[df['Event'].str.contains('error')]\n",
    "print(f\"Top 10 of 'error' anomalies from a total of {len(dferror)} 'error' events:\\n\")\n",
    "dferror.nsmallest(n=10, columns=['cos_sim'])"
   ]
  },
  {
   "cell_type": "code",
   "execution_count": null,
   "id": "5d27ac67",
   "metadata": {
    "executionInfo": {
     "elapsed": 17,
     "status": "ok",
     "timestamp": 1641128243968,
     "user": {
      "displayName": "Gert den Neijsel",
      "photoUrl": "https://lh3.googleusercontent.com/a-/AOh14Ghe-WXTht56mulzKKQawtMtRp0WsAC72twEb2ymDbc=s64",
      "userId": "10111611199700103859"
     },
     "user_tz": -60
    },
    "id": "0780b97e"
   },
   "outputs": [],
   "source": []
  }
 ],
 "metadata": {
  "colab": {
   "collapsed_sections": [],
   "name": "Kopie van Kopie van windows_eventlog_anomaly_detection_with_gensim_word2vec.ipynb",
   "provenance": [
    {
     "file_id": "https://github.com/Grrtzm/word2vec/blob/main/windows_eventlog_anomaly_detection_with_gensim_word2vec.ipynb",
     "timestamp": 1641128154440
    },
    {
     "file_id": "15x7KfzaiT1dGlGF3K4ENbEWCkq6A5Vpg",
     "timestamp": 1640986802176
    },
    {
     "file_id": "1eSCoFlKv1ldbr994K2_5XqB7iWZCsK2W",
     "timestamp": 1640982100035
    },
    {
     "file_id": "https://github.com/Grrtzm/word2vec/blob/main/windows_eventlog_anomaly_detection_with_gensim_word2vec.ipynb",
     "timestamp": 1640962750149
    },
    {
     "file_id": "https://github.com/Grrtzm/word2vec/blob/main/windows_eventlog_anomaly_detection_with_gensim_word2vec.ipynb",
     "timestamp": 1640875818516
    }
   ]
  },
  "kernelspec": {
   "display_name": "Python 3 (Spyder)",
   "language": "python3",
   "name": "python3"
  },
  "language_info": {
   "codemirror_mode": {
    "name": "ipython",
    "version": 3
   },
   "file_extension": ".py",
   "mimetype": "text/x-python",
   "name": "python",
   "nbconvert_exporter": "python",
   "pygments_lexer": "ipython3",
   "version": "3.8.12"
  }
 },
 "nbformat": 4,
 "nbformat_minor": 5
}
