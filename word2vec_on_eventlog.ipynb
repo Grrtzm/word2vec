{
 "cells": [
  {
   "cell_type": "markdown",
   "metadata": {
    "id": "AOpGoE2T-YXS"
   },
   "source": [
    "<table class=\"tfo-notebook-buttons\" align=\"left\">\n",
    "  <td>\n",
    "    <a target=\"_blank\" href=\"https://www.tensorflow.org/tutorials/text/word2vec\">\n",
    "    <img src=\"https://www.tensorflow.org/images/tf_logo_32px.png\" />\n",
    "    View original Word2Vec tutorial on TensorFlow.org</a>\n",
    "  </td>\n",
    "  <td>\n",
    "    <a target=\"_blank\" href=\"https://colab.research.google.com/github/Grrtzm/word2vec/blob/main/word2vec_on_eventlog.ipynb\">\n",
    "    <img src=\"https://www.tensorflow.org/images/colab_logo_32px.png\" />\n",
    "    Run this notebook in Google Colab</a>\n",
    "  </td>\n",
    "  <td>\n",
    "    <a target=\"_blank\" href=\"https://github.com/Grrtzm/word2vec/blob/main/word2vec_on_eventlog.ipynb\">\n",
    "    <img src=\"https://www.tensorflow.org/images/GitHub-Mark-32px.png\" />\n",
    "    View source on GitHub</a>\n",
    "  </td>\n",
    "  <td>\n",
    "    <a href=\"https://storage.googleapis.com/tensorflow_docs/docs/site/en/tutorials/text/word2vec.ipynb\"><img src=\"https://www.tensorflow.org/images/download_logo_32px.png\" />Download original Word2Vec tutorial notebook</a>\n",
    "  </td>\n",
    "</table>"
   ]
  },
  {
   "cell_type": "raw",
   "metadata": {
    "id": "haJUNjSB60Kh"
   },
   "source": [
    "# Word2Vec\n",
    "This is the first (and main) part of a project that intents to use Word2Vec for anomaly detection in Windows (10) event logs.<br>\n",
    "It uses a dataset which i created on my own pc; it consists of events derived from the Application, System and Security logs.<br>\n",
    "The data was read using Powershell and Get-WinEvent. You can find the Powershell script and the python script for parsing in my github repository.<br>"
   ]
  },
  {
   "cell_type": "code",
   "execution_count": null,
   "metadata": {
    "id": "mk4-Hpe1CH16"
   },
   "outputs": [],
   "source": [
    "## Setup"
   ]
  },
  {
   "cell_type": "code",
   "execution_count": 12,
   "metadata": {
    "execution": {
     "iopub.execute_input": "2021-06-16T18:46:17.742757Z",
     "iopub.status.busy": "2021-06-16T18:46:17.742120Z",
     "iopub.status.idle": "2021-06-16T18:46:19.141796Z",
     "shell.execute_reply": "2021-06-16T18:46:19.141168Z"
    },
    "id": "RutaI-Tpev3T"
   },
   "outputs": [],
   "source": [
    "import os\n",
    "os.environ['TF_CPP_MIN_LOG_LEVEL'] = '3'    # https://stackoverflow.com/questions/35911252/disable-tensorflow-debugging-information\n",
    "import time\n",
    "\n",
    "import io\n",
    "import re\n",
    "import string\n",
    "import tensorflow as tf\n",
    "import tqdm\n",
    "import sys    # tbv sys.exit()\n",
    "\n",
    "tf.get_logger().setLevel('INFO')\n",
    "\n",
    "from tensorflow.keras import Model\n",
    "from tensorflow.keras.layers import Dot, Embedding, Flatten\n",
    "from tensorflow.keras.layers.experimental.preprocessing import TextVectorization\n",
    "\n",
    "SEED = 42\n",
    "AUTOTUNE = tf.data.AUTOTUNE\n",
    "\n",
    "# Set the number of negative samples per positive context.\n",
    "# Key point: num_ns (number of negative samples per positive context word) \n",
    "# between [5, 20] is shown to work best for smaller datasets, while num_ns between [2,5] suffices for larger datasets.\n",
    "num_ns = 5\n",
    "window_size = 10\n",
    "embedding_dim = 128 # Dimension of the dense embedding.\n",
    "vocab_size = 20000 # Grootte van het woordenboek. Deze mag best groot zijn. Standaard (uit demo): 4096\n",
    "sequence_length = 40 # 10 # Aantal woorden in een zin.\n",
    "epochs = 500 #10 # Number of training epochs for Word2Vec"
   ]
  },
  {
   "cell_type": "markdown",
   "metadata": {
    "id": "RW-g5buCHwh3"
   },
   "source": [
    "### Helper function to generate training data"
   ]
  },
  {
   "cell_type": "markdown",
   "metadata": {
    "id": "y8TfZIgoQrcP"
   },
   "source": [
    "Generates skip-gram pairs with negative sampling for a list of sequences (int-encoded sentences) \n",
    "based on window size, number of negative samples and vocabulary size."
   ]
  },
  {
   "cell_type": "code",
   "execution_count": 13,
   "metadata": {
    "execution": {
     "iopub.execute_input": "2021-06-16T18:46:19.157824Z",
     "iopub.status.busy": "2021-06-16T18:46:19.157263Z",
     "iopub.status.idle": "2021-06-16T18:46:19.159935Z",
     "shell.execute_reply": "2021-06-16T18:46:19.160284Z"
    },
    "id": "bsl7jBzV6_KK"
   },
   "outputs": [],
   "source": [
    "## Gert 2021024 LogEvent2Vec gebruikt CBOW model, hier worden skip-grams gebruikt (zie LogEvent2Vec pdf pagina 9, paragraaf 4.2.1) \n",
    "def generate_training_data(sequences, window_size, num_ns, vocab_size, seed):\n",
    "    # Elements of each training example are appended to these lists.\n",
    "    targets, contexts, labels = [], [], []\n",
    "\n",
    "    # Build the sampling table for vocab_size tokens.\n",
    "    sampling_table = tf.keras.preprocessing.sequence.make_sampling_table(vocab_size)    # Gert 20210806 Deze uitgezet omdat er geen overbodige woorden zijn in de vocabulaire\n",
    "\n",
    "    # Iterate over all sequences (sentences) in dataset.\n",
    "    for sequence in tqdm.tqdm(sequences):\n",
    "\n",
    "        # Generate positive skip-gram pairs for a sequence (sentence).\n",
    "        positive_skip_grams, _ = tf.keras.preprocessing.sequence.skipgrams(\n",
    "              sequence,\n",
    "              vocabulary_size=vocab_size,\n",
    "              sampling_table=sampling_table,       # Gert 20210806 Deze uitgezet omdat er geen overbodige woorden zijn in de vocabulaire\n",
    "              window_size=window_size,\n",
    "              negative_samples=0)\n",
    "\n",
    "        # Iterate over each positive skip-gram pair to produce training examples\n",
    "        # with positive context word and negative samples.\n",
    "        for target_word, context_word in positive_skip_grams:\n",
    "            context_class = tf.expand_dims(\n",
    "                tf.constant([context_word], dtype=\"int64\"), 1)\n",
    "            negative_sampling_candidates, _, _ = tf.random.log_uniform_candidate_sampler(\n",
    "                true_classes=context_class,\n",
    "                num_true=1,\n",
    "                num_sampled=num_ns,\n",
    "                unique=True,\n",
    "                range_max=vocab_size,\n",
    "                seed=SEED,\n",
    "                name=\"negative_sampling\")\n",
    "\n",
    "            # Build context and label vectors (for one target word)\n",
    "            negative_sampling_candidates = tf.expand_dims(\n",
    "                negative_sampling_candidates, 1)\n",
    "\n",
    "            context = tf.concat([context_class, negative_sampling_candidates], 0)\n",
    "            label = tf.constant([1] + [0]*num_ns, dtype=\"int64\")\n",
    "\n",
    "            # Append each element from the training example to global lists.\n",
    "            targets.append(target_word)\n",
    "            contexts.append(context)\n",
    "            labels.append(label)\n",
    "\n",
    "    return targets, contexts, labels"
   ]
  },
  {
   "cell_type": "markdown",
   "metadata": {},
   "source": [
    "### Prepare training data for Word2Vec"
   ]
  },
  {
   "cell_type": "code",
   "execution_count": 14,
   "metadata": {
    "execution": {
     "iopub.execute_input": "2021-06-16T18:46:19.164396Z",
     "iopub.status.busy": "2021-06-16T18:46:19.163862Z",
     "iopub.status.idle": "2021-06-16T18:46:19.166343Z",
     "shell.execute_reply": "2021-06-16T18:46:19.165860Z"
    },
    "id": "UdYv1HJUQ8XA"
   },
   "outputs": [
    {
     "name": "stderr",
     "output_type": "stream",
     "text": [
      "Downloading...\n",
      "From: https://drive.google.com/uc?id=1BtebwjRKsKNyD1fvmqNGnh-Bfd0Z9R99\n",
      "To: D:\\GitHub\\word2vec\\events.csv\n",
      "\n",
      "  0%|          | 0.00/2.01M [00:00<?, ?B/s]\n",
      " 78%|#######8  | 1.57M/2.01M [00:00<00:00, 13.7MB/s]\n",
      "100%|##########| 2.01M/2.01M [00:00<00:00, 16.4MB/s]\n"
     ]
    },
    {
     "name": "stdout",
     "output_type": "stream",
     "text": [
      "File containing log events: ./events.csv\n",
      "\n",
      "First 5 lines from the logfile:\n",
      "Line #1\n",
      "Securi_4624InformationMicrosoft-Windows-Security-Auditing Securi_4672InformationMicrosoft-Windows-Security-Auditing Securi_4624InformationMicrosoft-Windows-Security-Auditing Securi_4672InformationMicrosoft-Windows-Security-Auditing Securi_4624InformationMicrosoft-Windows-Security-Auditing Securi_4672InformationMicrosoft-Windows-Security-Auditing System_6InformationMicrosoft-Windows-FilterManager System_6013InformationEventLog System_6005InformationEventLog System_6009InformationEventLog System_6InformationMicrosoft-Windows-FilterManager Securi_4624InformationMicrosoft-Windows-Security-Auditing Securi_4672InformationMicrosoft-Windows-Security-Auditing System_6InformationMicrosoft-Windows-FilterManager System_1InformationMicrosoft-Windows-FilterManager System_6InformationMicrosoft-Windows-FilterManager Securi_4624InformationMicrosoft-Windows-Security-Auditing Securi_4672InformationMicrosoft-Windows-Security-Auditing System_6InformationMicrosoft-Windows-FilterManager System_6InformationMicrosoft-Windows-FilterManager Securi_4624InformationMicrosoft-Windows-Security-Auditing Securi_4672InformationMicrosoft-Windows-Security-Auditing Applic_5615InformationMicrosoft-Windows-WMI Securi_4624InformationMicrosoft-Windows-Security-Auditing Securi_4672InformationMicrosoft-Windows-Security-Auditing System_50036InformationMicrosoft-Windows-Dhcp-Client System_50103InformationMicrosoft-Windows-Dhcp-Client Securi_4624InformationMicrosoft-Windows-Security-Auditing Securi_4672InformationMicrosoft-Windows-Security-Auditing System_51046InformationMicrosoft-Windows-DHCPv6-Client Securi_4624InformationMicrosoft-Windows-Security-Auditing Securi_4672InformationMicrosoft-Windows-Security-Auditing Securi_4624InformationMicrosoft-Windows-Security-Auditing Securi_4672InformationMicrosoft-Windows-Security-Auditing Securi_4624InformationMicrosoft-Windows-Security-Auditing Securi_4672InformationMicrosoft-Windows-Security-Auditing Securi_4799InformationMicrosoft-Windows-Security-Auditing Securi_4799InformationMicrosoft-Windows-Security-Auditing Applic_4625InformationMicrosoft-Windows-EventSystem Applic_5617InformationMicrosoft-Windows-WMI\n",
      "\n",
      "Line #2\n",
      "Applic_4625InformationMicrosoft-Windows-EventSystem Applic_5617InformationMicrosoft-Windows-WMI Securi_4624InformationMicrosoft-Windows-Security-Auditing Securi_4672InformationMicrosoft-Windows-Security-Auditing Applic_0InformationHPAnalytics Applic_0InformationHPTouchpointAnalyticsService Securi_4799InformationMicrosoft-Windows-Security-Auditing Securi_4799InformationMicrosoft-Windows-Security-Auditing Securi_4624InformationMicrosoft-Windows-Security-Auditing Securi_4672InformationMicrosoft-Windows-Security-Auditing Applic_0igfxCUIService2.0.0.0 Securi_4624InformationMicrosoft-Windows-Security-Auditing Securi_4672InformationMicrosoft-Windows-Security-Auditing Securi_4624InformationMicrosoft-Windows-Security-Auditing Securi_4672InformationMicrosoft-Windows-Security-Auditing Applic_9027InformationDesktop-Window-Manager System_10InformationVMnetBridge System_1InformationVMnetuserif Securi_4624InformationMicrosoft-Windows-Security-Auditing Securi_4672InformationMicrosoft-Windows-Security-Auditing Securi_4624InformationMicrosoft-Windows-Security-Auditing Securi_4672InformationMicrosoft-Windows-Security-Auditing Securi_4624InformationMicrosoft-Windows-Security-Auditing Securi_4672InformationMicrosoft-Windows-Security-Auditing System_16InformationMicrosoft-Windows-Kernel-General Securi_4624InformationMicrosoft-Windows-Security-Auditing Securi_4672InformationMicrosoft-Windows-Security-Auditing Securi_4624InformationMicrosoft-Windows-Security-Auditing Securi_4672InformationMicrosoft-Windows-Security-Auditing Securi_4624InformationMicrosoft-Windows-Security-Auditing Securi_4672InformationMicrosoft-Windows-Security-Auditing Securi_4624InformationMicrosoft-Windows-Security-Auditing Securi_4672InformationMicrosoft-Windows-Security-Auditing Securi_5033InformationMicrosoft-Windows-Security-Auditing Securi_4738InformationMicrosoft-Windows-Security-Auditing Securi_4624InformationMicrosoft-Windows-Security-Auditing Securi_4672InformationMicrosoft-Windows-Security-Auditing Securi_4648InformationMicrosoft-Windows-Security-Auditing Securi_4624InformationMicrosoft-Windows-Security-Auditing Securi_4624InformationMicrosoft-Windows-Security-Auditing\n",
      "\n",
      "Line #3\n",
      "Securi_4624InformationMicrosoft-Windows-Security-Auditing Securi_4624InformationMicrosoft-Windows-Security-Auditing System_34vmx86 System_7001InformationMicrosoft-Windows-Winlogon Securi_4624InformationMicrosoft-Windows-Security-Auditing Securi_4672InformationMicrosoft-Windows-Security-Auditing Securi_4624InformationMicrosoft-Windows-Security-Auditing Securi_4672InformationMicrosoft-Windows-Security-Auditing Securi_4624InformationMicrosoft-Windows-Security-Auditing Securi_4672InformationMicrosoft-Windows-Security-Auditing Securi_4624InformationMicrosoft-Windows-Security-Auditing Securi_4672InformationMicrosoft-Windows-Security-Auditing Securi_4624InformationMicrosoft-Windows-Security-Auditing Securi_4672InformationMicrosoft-Windows-Security-Auditing System_4000InformationMicrosoft-Windows-WLAN-AutoConfig Securi_4624InformationMicrosoft-Windows-Security-Auditing Securi_4672InformationMicrosoft-Windows-Security-Auditing Securi_4624InformationMicrosoft-Windows-Security-Auditing Securi_4672InformationMicrosoft-Windows-Security-Auditing Applic_1iBtSiva Securi_4624InformationMicrosoft-Windows-Security-Auditing Securi_4672InformationMicrosoft-Windows-Security-Auditing System_12InformationMicrosoft-Windows-UserModePowerService Securi_4799InformationMicrosoft-Windows-Security-Auditing Securi_4799InformationMicrosoft-Windows-Security-Auditing System_12InformationMicrosoft-Windows-UserModePowerService System_12InformationMicrosoft-Windows-UserModePowerService Applic_0AdobeARMservice Applic_1040Informationnssm Applic_1000InformationVMware-NAT-Service Applic_0LanWlanWwanSwitchingServiceDSU Applic_0HotKeyServiceUWP Applic_0CxUtilSvc Applic_1000Informationvmauthd System_10001InformationMicrosoft-Windows-WLAN-AutoConfig Securi_4624InformationMicrosoft-Windows-Security-Auditing Securi_4672InformationMicrosoft-Windows-Security-Auditing Applic_1000InformationVMware-NAT-Service Applic_0HotKeyServiceUWP Securi_4624InformationMicrosoft-Windows-Security-Auditing\n",
      "\n",
      "Line #4\n",
      "Applic_0HotKeyServiceUWP Securi_4624InformationMicrosoft-Windows-Security-Auditing Securi_4799InformationMicrosoft-Windows-Security-Auditing Applic_0HotKeyServiceUWP Applic_3InformationNVWMI Applic_3InformationNVWMI Applic_0Informationigccservice Securi_5024InformationMicrosoft-Windows-Security-Auditing Securi_4624InformationMicrosoft-Windows-Security-Auditing Securi_4672InformationMicrosoft-Windows-Security-Auditing Applic_3InformationNVWMI Applic_3InformationNVWMI Applic_102InformationESENT Applic_3InformationNVWMI Applic_105InformationESENT Applic_326InformationESENT Applic_0igfxCUIService2.0.0.0 Applic_0igfxCUIService2.0.0.0 Applic_3InformationNVWMI Applic_3InformationNVWMI Securi_4799InformationMicrosoft-Windows-Security-Auditing Securi_4799InformationMicrosoft-Windows-Security-Auditing Applic_0igfxCUIService2.0.0.0 Applic_1003InformationMicrosoft-Windows-Search Securi_4624InformationMicrosoft-Windows-Security-Auditing Securi_4672InformationMicrosoft-Windows-Security-Auditing Applic_1008Informationnssm System_7026InformationService-Control-Manager System_18InformationTPM System_10016WarningMicrosoft-Windows-DistributedCOM System_10016WarningMicrosoft-Windows-DistributedCOM System_10016WarningMicrosoft-Windows-DistributedCOM System_10016WarningMicrosoft-Windows-DistributedCOM Securi_5058InformationMicrosoft-Windows-Security-Auditing Securi_5061InformationMicrosoft-Windows-Security-Auditing Securi_5059InformationMicrosoft-Windows-Security-Auditing Securi_5058InformationMicrosoft-Windows-Security-Auditing Securi_5061InformationMicrosoft-Windows-Security-Auditing Securi_5059InformationMicrosoft-Windows-Security-Auditing Applic_0HotKeyServiceUWP\n",
      "\n",
      "Line #5\n",
      "Securi_5059InformationMicrosoft-Windows-Security-Auditing Applic_0HotKeyServiceUWP Securi_4798InformationMicrosoft-Windows-Security-Auditing Securi_4624InformationMicrosoft-Windows-Security-Auditing Securi_4672InformationMicrosoft-Windows-Security-Auditing Securi_4624InformationMicrosoft-Windows-Security-Auditing Securi_4672InformationMicrosoft-Windows-Security-Auditing Securi_4624InformationMicrosoft-Windows-Security-Auditing Securi_4672InformationMicrosoft-Windows-Security-Auditing System_7021InformationNetwtw08 Applic_0InformationXTUService Securi_5058InformationMicrosoft-Windows-Security-Auditing Securi_5061InformationMicrosoft-Windows-Security-Auditing Securi_5059InformationMicrosoft-Windows-Security-Auditing Securi_5058InformationMicrosoft-Windows-Security-Auditing Securi_5061InformationMicrosoft-Windows-Security-Auditing Securi_5059InformationMicrosoft-Windows-Security-Auditing Securi_4624InformationMicrosoft-Windows-Security-Auditing Securi_4672InformationMicrosoft-Windows-Security-Auditing System_1282InformationMicrosoft-Windows-TPM-WMI System_1025InformationMicrosoft-Windows-TPM-WMI Securi_5058InformationMicrosoft-Windows-Security-Auditing Securi_5061InformationMicrosoft-Windows-Security-Auditing Securi_5059InformationMicrosoft-Windows-Security-Auditing Securi_5059InformationMicrosoft-Windows-Security-Auditing Securi_4738InformationMicrosoft-Windows-Security-Auditing Securi_4648InformationMicrosoft-Windows-Security-Auditing Securi_4624InformationMicrosoft-Windows-Security-Auditing Securi_4624InformationMicrosoft-Windows-Security-Auditing Securi_4672InformationMicrosoft-Windows-Security-Auditing Securi_5059InformationMicrosoft-Windows-Security-Auditing Securi_5059InformationMicrosoft-Windows-Security-Auditing Applic_0HotKeyServiceUWP Applic_3InformationNVWMI Applic_3InformationNVWMI Securi_4738InformationMicrosoft-Windows-Security-Auditing Securi_4648InformationMicrosoft-Windows-Security-Auditing Securi_4624InformationMicrosoft-Windows-Security-Auditing Securi_4624InformationMicrosoft-Windows-Security-Auditing Securi_4672InformationMicrosoft-Windows-Security-Auditing\n",
      "\n",
      "\n",
      "Vocabulaire: ['', '[UNK]', 'securi5379informationmicrosoftwindowssecurityauditing', 'securi4799informationmicrosoftwindowssecurityauditing', 'securi4624informationmicrosoftwindowssecurityauditing', 'securi4672informationmicrosoftwindowssecurityauditing', 'securi5061informationmicrosoftwindowssecurityauditing', 'securi4907informationmicrosoftwindowssecurityauditing', 'applic3informationnvwmi', 'securi4798informationmicrosoftwindowssecurityauditing', 'system7040informationservicecontrolmanager', 'applic1informationselfserviceplugin', 'system16informationmicrosoftwindowskernelgeneral', 'securi5058informationmicrosoftwindowssecurityauditing', 'applic0hotkeyserviceuwp', 'securi5059informationmicrosoftwindowssecurityauditing', 'applic63informationoutlook', 'applic16394informationmicrosoftwindowssecurityspp', 'applic16384informationmicrosoftwindowssecurityspp', 'securi4634informationmicrosoftwindowssecurityauditing']\n",
      "\n",
      "Number of words in vocabulary (limit is 20000): 244\n",
      "Number of lines = 909\n",
      "\n",
      "5 examples from sequences:\n",
      "[  4   5   4   5   4   5  29  65 123 153  29   4   5  29 128  29   4   5\n",
      "  29  29   4   5 143   4   5 108 107   4   5 156   4   5   4   5   4   5\n",
      "   3   3 103 142] => ['securi4624informationmicrosoftwindowssecurityauditing', 'securi4672informationmicrosoftwindowssecurityauditing', 'securi4624informationmicrosoftwindowssecurityauditing', 'securi4672informationmicrosoftwindowssecurityauditing', 'securi4624informationmicrosoftwindowssecurityauditing', 'securi4672informationmicrosoftwindowssecurityauditing', 'system6informationmicrosoftwindowsfiltermanager', 'system6013informationeventlog', 'system6005informationeventlog', 'system6009informationeventlog', 'system6informationmicrosoftwindowsfiltermanager', 'securi4624informationmicrosoftwindowssecurityauditing', 'securi4672informationmicrosoftwindowssecurityauditing', 'system6informationmicrosoftwindowsfiltermanager', 'system1informationmicrosoftwindowsfiltermanager', 'system6informationmicrosoftwindowsfiltermanager', 'securi4624informationmicrosoftwindowssecurityauditing', 'securi4672informationmicrosoftwindowssecurityauditing', 'system6informationmicrosoftwindowsfiltermanager', 'system6informationmicrosoftwindowsfiltermanager', 'securi4624informationmicrosoftwindowssecurityauditing', 'securi4672informationmicrosoftwindowssecurityauditing', 'applic5615informationmicrosoftwindowswmi', 'securi4624informationmicrosoftwindowssecurityauditing', 'securi4672informationmicrosoftwindowssecurityauditing', 'system50036informationmicrosoftwindowsdhcpclient', 'system50103informationmicrosoftwindowsdhcpclient', 'securi4624informationmicrosoftwindowssecurityauditing', 'securi4672informationmicrosoftwindowssecurityauditing', 'system51046informationmicrosoftwindowsdhcpv6client', 'securi4624informationmicrosoftwindowssecurityauditing', 'securi4672informationmicrosoftwindowssecurityauditing', 'securi4624informationmicrosoftwindowssecurityauditing', 'securi4672informationmicrosoftwindowssecurityauditing', 'securi4624informationmicrosoftwindowssecurityauditing', 'securi4672informationmicrosoftwindowssecurityauditing', 'securi4799informationmicrosoftwindowssecurityauditing', 'securi4799informationmicrosoftwindowssecurityauditing', 'applic4625informationmicrosoftwindowseventsystem', 'applic5617informationmicrosoftwindowswmi']\n",
      "\n",
      "[103 142   4   5 118  79   3   3   4   5  47   4   5   4   5 200 166 184\n",
      "   4   5   4   5   4   5  12   4   5   4   5   4   5   4   5 136  28   4\n",
      "   5  24   4   4] => ['applic4625informationmicrosoftwindowseventsystem', 'applic5617informationmicrosoftwindowswmi', 'securi4624informationmicrosoftwindowssecurityauditing', 'securi4672informationmicrosoftwindowssecurityauditing', 'applic0informationhpanalytics', 'applic0informationhptouchpointanalyticsservice', 'securi4799informationmicrosoftwindowssecurityauditing', 'securi4799informationmicrosoftwindowssecurityauditing', 'securi4624informationmicrosoftwindowssecurityauditing', 'securi4672informationmicrosoftwindowssecurityauditing', 'applic0igfxcuiservice2000', 'securi4624informationmicrosoftwindowssecurityauditing', 'securi4672informationmicrosoftwindowssecurityauditing', 'securi4624informationmicrosoftwindowssecurityauditing', 'securi4672informationmicrosoftwindowssecurityauditing', 'applic9027informationdesktopwindowmanager', 'system10informationvmnetbridge', 'system1informationvmnetuserif', 'securi4624informationmicrosoftwindowssecurityauditing', 'securi4672informationmicrosoftwindowssecurityauditing', 'securi4624informationmicrosoftwindowssecurityauditing', 'securi4672informationmicrosoftwindowssecurityauditing', 'securi4624informationmicrosoftwindowssecurityauditing', 'securi4672informationmicrosoftwindowssecurityauditing', 'system16informationmicrosoftwindowskernelgeneral', 'securi4624informationmicrosoftwindowssecurityauditing', 'securi4672informationmicrosoftwindowssecurityauditing', 'securi4624informationmicrosoftwindowssecurityauditing', 'securi4672informationmicrosoftwindowssecurityauditing', 'securi4624informationmicrosoftwindowssecurityauditing', 'securi4672informationmicrosoftwindowssecurityauditing', 'securi4624informationmicrosoftwindowssecurityauditing', 'securi4672informationmicrosoftwindowssecurityauditing', 'securi5033informationmicrosoftwindowssecurityauditing', 'securi4738informationmicrosoftwindowssecurityauditing', 'securi4624informationmicrosoftwindowssecurityauditing', 'securi4672informationmicrosoftwindowssecurityauditing', 'securi4648informationmicrosoftwindowssecurityauditing', 'securi4624informationmicrosoftwindowssecurityauditing', 'securi4624informationmicrosoftwindowssecurityauditing']\n",
      "\n",
      "[  4   4 109 152   4   5   4   5   4   5   4   5   4   5 124   4   5   4\n",
      "   5  41   4   5  73   3   3  73  73 149  87  88 148  14 176 147 111   4\n",
      "   5  88  14   4] => ['securi4624informationmicrosoftwindowssecurityauditing', 'securi4624informationmicrosoftwindowssecurityauditing', 'system34vmx86', 'system7001informationmicrosoftwindowswinlogon', 'securi4624informationmicrosoftwindowssecurityauditing', 'securi4672informationmicrosoftwindowssecurityauditing', 'securi4624informationmicrosoftwindowssecurityauditing', 'securi4672informationmicrosoftwindowssecurityauditing', 'securi4624informationmicrosoftwindowssecurityauditing', 'securi4672informationmicrosoftwindowssecurityauditing', 'securi4624informationmicrosoftwindowssecurityauditing', 'securi4672informationmicrosoftwindowssecurityauditing', 'securi4624informationmicrosoftwindowssecurityauditing', 'securi4672informationmicrosoftwindowssecurityauditing', 'system4000informationmicrosoftwindowswlanautoconfig', 'securi4624informationmicrosoftwindowssecurityauditing', 'securi4672informationmicrosoftwindowssecurityauditing', 'securi4624informationmicrosoftwindowssecurityauditing', 'securi4672informationmicrosoftwindowssecurityauditing', 'applic1ibtsiva', 'securi4624informationmicrosoftwindowssecurityauditing', 'securi4672informationmicrosoftwindowssecurityauditing', 'system12informationmicrosoftwindowsusermodepowerservice', 'securi4799informationmicrosoftwindowssecurityauditing', 'securi4799informationmicrosoftwindowssecurityauditing', 'system12informationmicrosoftwindowsusermodepowerservice', 'system12informationmicrosoftwindowsusermodepowerservice', 'applic0adobearmservice', 'applic1040informationnssm', 'applic1000informationvmwarenatservice', 'applic0lanwlanwwanswitchingservicedsu', 'applic0hotkeyserviceuwp', 'applic0cxutilsvc', 'applic1000informationvmauthd', 'system10001informationmicrosoftwindowswlanautoconfig', 'securi4624informationmicrosoftwindowssecurityauditing', 'securi4672informationmicrosoftwindowssecurityauditing', 'applic1000informationvmwarenatservice', 'applic0hotkeyserviceuwp', 'securi4624informationmicrosoftwindowssecurityauditing']\n",
      "\n",
      "[ 14   4   3  14   8   8  93 137   4   5   8   8  82   8  84  78  47  47\n",
      "   8   8   3   3  47 105   4   5 116 120 129  20  20  20  20  13   6  15\n",
      "  13   6  15  14] => ['applic0hotkeyserviceuwp', 'securi4624informationmicrosoftwindowssecurityauditing', 'securi4799informationmicrosoftwindowssecurityauditing', 'applic0hotkeyserviceuwp', 'applic3informationnvwmi', 'applic3informationnvwmi', 'applic0informationigccservice', 'securi5024informationmicrosoftwindowssecurityauditing', 'securi4624informationmicrosoftwindowssecurityauditing', 'securi4672informationmicrosoftwindowssecurityauditing', 'applic3informationnvwmi', 'applic3informationnvwmi', 'applic102informationesent', 'applic3informationnvwmi', 'applic105informationesent', 'applic326informationesent', 'applic0igfxcuiservice2000', 'applic0igfxcuiservice2000', 'applic3informationnvwmi', 'applic3informationnvwmi', 'securi4799informationmicrosoftwindowssecurityauditing', 'securi4799informationmicrosoftwindowssecurityauditing', 'applic0igfxcuiservice2000', 'applic1003informationmicrosoftwindowssearch', 'securi4624informationmicrosoftwindowssecurityauditing', 'securi4672informationmicrosoftwindowssecurityauditing', 'applic1008informationnssm', 'system7026informationservicecontrolmanager', 'system18informationtpm', 'system10016warningmicrosoftwindowsdistributedcom', 'system10016warningmicrosoftwindowsdistributedcom', 'system10016warningmicrosoftwindowsdistributedcom', 'system10016warningmicrosoftwindowsdistributedcom', 'securi5058informationmicrosoftwindowssecurityauditing', 'securi5061informationmicrosoftwindowssecurityauditing', 'securi5059informationmicrosoftwindowssecurityauditing', 'securi5058informationmicrosoftwindowssecurityauditing', 'securi5061informationmicrosoftwindowssecurityauditing', 'securi5059informationmicrosoftwindowssecurityauditing', 'applic0hotkeyserviceuwp']\n",
      "\n",
      "[ 15  14   9   4   5   4   5   4   5  22  99  13   6  15  13   6  15   4\n",
      "   5 132 110  13   6  15  15  28  24   4   4   5  15  15  14   8   8  28\n",
      "  24   4   4   5] => ['securi5059informationmicrosoftwindowssecurityauditing', 'applic0hotkeyserviceuwp', 'securi4798informationmicrosoftwindowssecurityauditing', 'securi4624informationmicrosoftwindowssecurityauditing', 'securi4672informationmicrosoftwindowssecurityauditing', 'securi4624informationmicrosoftwindowssecurityauditing', 'securi4672informationmicrosoftwindowssecurityauditing', 'securi4624informationmicrosoftwindowssecurityauditing', 'securi4672informationmicrosoftwindowssecurityauditing', 'system7021informationnetwtw08', 'applic0informationxtuservice', 'securi5058informationmicrosoftwindowssecurityauditing', 'securi5061informationmicrosoftwindowssecurityauditing', 'securi5059informationmicrosoftwindowssecurityauditing', 'securi5058informationmicrosoftwindowssecurityauditing', 'securi5061informationmicrosoftwindowssecurityauditing', 'securi5059informationmicrosoftwindowssecurityauditing', 'securi4624informationmicrosoftwindowssecurityauditing', 'securi4672informationmicrosoftwindowssecurityauditing', 'system1282informationmicrosoftwindowstpmwmi', 'system1025informationmicrosoftwindowstpmwmi', 'securi5058informationmicrosoftwindowssecurityauditing', 'securi5061informationmicrosoftwindowssecurityauditing', 'securi5059informationmicrosoftwindowssecurityauditing', 'securi5059informationmicrosoftwindowssecurityauditing', 'securi4738informationmicrosoftwindowssecurityauditing', 'securi4648informationmicrosoftwindowssecurityauditing', 'securi4624informationmicrosoftwindowssecurityauditing', 'securi4624informationmicrosoftwindowssecurityauditing', 'securi4672informationmicrosoftwindowssecurityauditing', 'securi5059informationmicrosoftwindowssecurityauditing', 'securi5059informationmicrosoftwindowssecurityauditing', 'applic0hotkeyserviceuwp', 'applic3informationnvwmi', 'applic3informationnvwmi', 'securi4738informationmicrosoftwindowssecurityauditing', 'securi4648informationmicrosoftwindowssecurityauditing', 'securi4624informationmicrosoftwindowssecurityauditing', 'securi4624informationmicrosoftwindowssecurityauditing', 'securi4672informationmicrosoftwindowssecurityauditing']\n",
      "\n"
     ]
    }
   ],
   "source": [
    "# Download events.csv from my google drive\n",
    "!gdown --id 1BtebwjRKsKNyD1fvmqNGnh-Bfd0Z9R99\n",
    "\n",
    "path_to_file = \"./events.csv\"\n",
    "print(f\"File containing log events: {path_to_file}\")\n",
    "print()\n",
    "\n",
    "# Read text from the file and take a look at the first few lines.\n",
    "numlines = 5\n",
    "print(f\"First {numlines} lines from the logfile:\")\n",
    "count = 1\n",
    "with open(path_to_file) as f:\n",
    "    lines = f.read().splitlines()\n",
    "    for line in lines[:numlines]:\n",
    "        print(f\"Line #{count}\")\n",
    "        print(line)\n",
    "        print()\n",
    "        count = count + 1\n",
    "\n",
    "print()\n",
    "\n",
    "# Use the non empty lines to construct a tf.data.TextLineDataset object for next steps.\n",
    "text_ds = tf.data.TextLineDataset(path_to_file).filter(lambda x: tf.cast(tf.strings.length(x), bool))\n",
    "\n",
    "# Vectorize sentences from the corpus\n",
    "\n",
    "# Now, create a custom standardization function to lowercase the text and\n",
    "# remove punctuation.\n",
    "def custom_standardization(input_data):\n",
    "    lowercase = tf.strings.lower(input_data)\n",
    "    return tf.strings.regex_replace(lowercase,\n",
    "    '[%s]' % re.escape(string.punctuation), '')\n",
    "\n",
    "# Use the text vectorization layer to normalize, split, and map strings to\n",
    "# integers. Set output_sequence_length length to pad all samples to same length.\n",
    "vectorize_layer = TextVectorization(\n",
    "    standardize=custom_standardization,\n",
    "    max_tokens=vocab_size, # None\n",
    "    output_mode='int',\n",
    "    output_sequence_length=sequence_length)\n",
    "\n",
    "# Call adapt on the text dataset to create vocabulary.\n",
    "vectorize_layer.adapt(text_ds.batch(1024))\n",
    "print(\"Vocabulaire: \", end = \"\")\n",
    "\n",
    "# Save the created vocabulary for reference.\n",
    "inverse_vocab = vectorize_layer.get_vocabulary()\n",
    "#inverse_vocab.remove('[UNK]') # Ja, dit is dus symptoom bestrijding. Die [UNK] moet ik dus eigenlijk uit de vectorize_layer halen, maar dat lukt me niet.\n",
    "print(inverse_vocab[:20])\n",
    "print()\n",
    "\n",
    "print(f\"Number of words in vocabulary (limit is {vocab_size}): {len(vectorize_layer.get_vocabulary())-1}\")\n",
    "\n",
    "# Vectorize the data in text_ds.\n",
    "text_vector_ds = text_ds.batch(1024).prefetch(AUTOTUNE).map(vectorize_layer).unbatch()\n",
    "\n",
    "# Obtain number of sequences from the dataset\n",
    "sequences = list(text_vector_ds.as_numpy_iterator())\n",
    "print(\"Number of lines = \",end=\"\")\n",
    "print(len(sequences))\n",
    "print()\n",
    "\n",
    "# Take a look at few examples from sequences.\n",
    "print(\"5 examples from sequences:\")\n",
    "for seq in sequences[:5]:\n",
    "    print(f\"{seq} => {[inverse_vocab[i] for i in seq]}\")\n",
    "    print()\n",
    "time.sleep(0.1) # Nodig om tekst op de juiste plaats terecht te laten komen (i.v.m. multi-threading)\n"
   ]
  },
  {
   "cell_type": "markdown",
   "metadata": {},
   "source": [
    "### Generate training examples from sequences\n",
    "`sequences` is now a list of int encoded sentences."
   ]
  },
  {
   "cell_type": "code",
   "execution_count": 15,
   "metadata": {
    "execution": {
     "iopub.execute_input": "2021-06-16T18:46:19.169950Z",
     "iopub.status.busy": "2021-06-16T18:46:19.169420Z",
     "iopub.status.idle": "2021-06-16T18:46:19.171366Z",
     "shell.execute_reply": "2021-06-16T18:46:19.171737Z"
    },
    "id": "o9ULAJYtEvKl"
   },
   "outputs": [
    {
     "name": "stdout",
     "output_type": "stream",
     "text": [
      "Genererate training examples from sequences, using: window_size=10, num_ns=5, vocab_size=20000, seed=42\n"
     ]
    },
    {
     "name": "stderr",
     "output_type": "stream",
     "text": [
      "100%|██████████| 909/909 [00:02<00:00, 362.54it/s]\n"
     ]
    },
    {
     "name": "stdout",
     "output_type": "stream",
     "text": [
      "Number of training examples; targets:7509, contexts:7509, labels:7509\n"
     ]
    }
   ],
   "source": [
    "# Model and Training\n",
    "print(f\"Genererate training examples from sequences, using: window_size={window_size}, num_ns={num_ns}, vocab_size={vocab_size}, seed={SEED}\")\n",
    "time.sleep(1) # Nodig om tekst op de juiste plaats terecht te laten komen (i.v.m. multi-threading)\n",
    "targets, contexts, labels = generate_training_data(\n",
    "    sequences=sequences,\n",
    "    window_size=window_size,\n",
    "    num_ns=num_ns,\n",
    "    vocab_size=vocab_size,\n",
    "    seed=SEED)\n",
    "time.sleep(1) # Nodig om tekst op de juiste plaats terecht te laten komen (i.v.m. multi-threading)\n",
    "print(f\"Number of training examples; targets:{len(targets)}, contexts:{len(contexts)}, labels:{len(labels)}\")\n",
    "\n",
    "# Configure the dataset for performance\n",
    "#BATCH_SIZE = 1024 # Als deze te groot wordt, dan crasht het script.\n",
    "#BATCH_SIZE = 52 # Deze moet net zo groot zijn als het aantal targets/contexts/labels\n",
    "BATCH_SIZE = len(targets)\n",
    "BUFFER_SIZE = 10000\n",
    "dataset = tf.data.Dataset.from_tensor_slices(((targets, contexts), labels))\n",
    "dataset = dataset.shuffle(BUFFER_SIZE).batch(BATCH_SIZE, drop_remainder=True)\n",
    "\n",
    "# Add cache() and prefetch() to improve performance.\n",
    "dataset = dataset.cache().prefetch(buffer_size=AUTOTUNE)"
   ]
  },
  {
   "cell_type": "markdown",
   "metadata": {},
   "source": [
    "### Model and Training"
   ]
  },
  {
   "cell_type": "code",
   "execution_count": 16,
   "metadata": {
    "execution": {
     "iopub.execute_input": "2021-06-16T18:46:19.175260Z",
     "iopub.status.busy": "2021-06-16T18:46:19.174700Z",
     "iopub.status.idle": "2021-06-16T18:46:19.176579Z",
     "shell.execute_reply": "2021-06-16T18:46:19.176904Z"
    },
    "id": "CsB3-9uQQYyl"
   },
   "outputs": [
    {
     "name": "stdout",
     "output_type": "stream",
     "text": [
      "Trainen van Word2Vec:\n",
      "\n",
      "Reached 90% accuracy so interrupted training!\n",
      "\n",
      "Model: \"word2_vec_4\"\n",
      "_________________________________________________________________\n",
      "Layer (type)                 Output Shape              Param #   \n",
      "=================================================================\n",
      "w2v_embedding (Embedding)    multiple                  2560000   \n",
      "_________________________________________________________________\n",
      "embedding_4 (Embedding)      multiple                  2560000   \n",
      "_________________________________________________________________\n",
      "dot_4 (Dot)                  multiple                  0         \n",
      "_________________________________________________________________\n",
      "flatten_4 (Flatten)          multiple                  0         \n",
      "=================================================================\n",
      "Total params: 5,120,000\n",
      "Trainable params: 5,120,000\n",
      "Non-trainable params: 0\n",
      "_________________________________________________________________\n"
     ]
    }
   ],
   "source": [
    "previous_accuracy = 0\n",
    "class myCallback(tf.keras.callbacks.Callback):\n",
    "    def on_epoch_end(self, epoch, logs={}):\n",
    "        global previous_accuracy\n",
    "        if(logs.get('accuracy')>0.9):\n",
    "            print(\"\\nReached 90% accuracy so interrupted training!\")\n",
    "            self.model.stop_training = True\n",
    "        #if(logs.get('accuracy') < previous_accuracy):\n",
    "        #    print(\"\\nAccuracy decreased so cancelling training!\")\n",
    "        #    self.model.stop_training = True\n",
    "        previous_accuracy = logs.get('accuracy')\n",
    "\n",
    "callbacks = myCallback()\n",
    "\n",
    "class Word2Vec(Model):\n",
    "    def __init__(self, vocab_size, embedding_dim):\n",
    "        super(Word2Vec, self).__init__()\n",
    "        self.target_embedding = Embedding(vocab_size,\n",
    "                                      embedding_dim,\n",
    "                                      input_length=1,\n",
    "                                      name=\"w2v_embedding\")\n",
    "        self.context_embedding = Embedding(vocab_size,\n",
    "                                       embedding_dim,\n",
    "                                       input_length=num_ns+1)\n",
    "        self.dots = Dot(axes=(3, 2))\n",
    "        self.flatten = Flatten()\n",
    "\n",
    "    def call(self, pair):\n",
    "        target, context = pair\n",
    "        word_emb = self.target_embedding(target)\n",
    "        context_emb = self.context_embedding(context)\n",
    "        dots = self.dots([context_emb, word_emb])\n",
    "        \n",
    "        return self.flatten(dots)\n",
    "\n",
    "# Define loss function and compile model\n",
    "#embedding_dim = 128\n",
    "word2vec = Word2Vec(vocab_size, embedding_dim)\n",
    "word2vec.compile(optimizer='adam',\n",
    "                 loss=tf.keras.losses.CategoricalCrossentropy(from_logits=True),\n",
    "                 metrics=['accuracy'])\n",
    "\n",
    "# Train the model with dataset prepared above for some number of epochs.\n",
    "print(\"Trainen van Word2Vec:\")\n",
    "# word2vec.fit(dataset, epochs=epochs, callbacks=[tensorboard_callback])\n",
    "history = word2vec.fit(dataset, epochs=epochs, verbose=0, callbacks=[callbacks])  # verbose=0 means no output, verbose=1 shows logging\n",
    "print()\n",
    "word2vec.summary()\n",
    "\n",
    "# Embedding lookup and analysis\n",
    "weights = word2vec.get_layer('w2v_embedding').get_weights()[0]\n",
    "vocab = vectorize_layer.get_vocabulary()\n",
    "\n",
    "# Create and save the vectors and metadata file\n",
    "out_v = io.open('vectors.tsv', 'w', encoding='utf-8')\n",
    "out_m = io.open('metadata.tsv', 'w', encoding='utf-8')\n",
    "\n",
    "for index, word in enumerate(vocab):\n",
    "    if index < 1:\n",
    "        continue  # skip 0, it's padding\n",
    "    vec = weights[index]\n",
    "    out_v.write('\\t'.join([str(x) for x in vec]) + \"\\n\")\n",
    "    out_m.write(word + \"\\n\")\n",
    "out_v.close()\n",
    "out_m.close()\n",
    "\n",
    "# Download the vectors.tsv and metadata.tsv to analyze the obtained embeddings in the Embedding Projector."
   ]
  },
  {
   "cell_type": "code",
   "execution_count": 17,
   "metadata": {},
   "outputs": [
    {
     "ename": "NameError",
     "evalue": "name 'model' is not defined",
     "output_type": "error",
     "traceback": [
      "Traceback \u001b[1;36m(most recent call last)\u001b[0m:\n",
      "\u001b[1;36m  File \u001b[1;32m\"C:\\Users\\gneij\\AppData\\Local\\Temp/ipykernel_28928/3470139634.py\"\u001b[1;36m, line \u001b[1;32m1\u001b[1;36m, in \u001b[1;35m<module>\u001b[1;36m\u001b[0m\n\u001b[1;33m    model.summary()\u001b[0m\n",
      "\u001b[1;31mNameError\u001b[0m\u001b[1;31m:\u001b[0m name 'model' is not defined\n"
     ]
    }
   ],
   "source": [
    "# model.summary()"
   ]
  },
  {
   "cell_type": "code",
   "execution_count": null,
   "metadata": {},
   "outputs": [],
   "source": [
    "import matplotlib.image  as mpimg\n",
    "import matplotlib.pyplot as plt\n",
    "\n",
    "acc=history.history['accuracy']\n",
    "loss=history.history['loss']\n",
    "\n",
    "epochs=range(len(acc)) # Get number of epochs\n",
    "\n",
    "plt.plot(epochs, acc, 'b')\n",
    "plt.title('Word2Vec Training accuracy')\n",
    "plt.xlabel(\"Epochs\")\n",
    "plt.ylabel(\"Accuracy\")\n",
    "plt.legend([\"Accuracy\"])\n",
    "plt.figure()\n",
    "\n",
    "plt.plot(epochs, loss, 'b')\n",
    "plt.title('Word2Vec Training loss')\n",
    "plt.xlabel(\"Epochs\")\n",
    "plt.ylabel(\"Loss\")\n",
    "plt.legend([\"Loss\"])\n",
    "plt.figure()"
   ]
  },
  {
   "cell_type": "markdown",
   "metadata": {},
   "source": [
    "Download the `vectors.tsv` and `metadata.tsv` to analyze the obtained embeddings in the [Embedding Projector](https://projector.tensorflow.org/)."
   ]
  },
  {
   "cell_type": "code",
   "execution_count": null,
   "metadata": {},
   "outputs": [],
   "source": [
    "try:\n",
    "    from google.colab import files\n",
    "    files.download('vectors.tsv')\n",
    "    files.download('metadata.tsv')\n",
    "except Exception:\n",
    "    pass"
   ]
  }
 ],
 "metadata": {
  "colab": {
   "collapsed_sections": [],
   "name": "word2vec.ipynb",
   "toc_visible": true
  },
  "kernelspec": {
   "display_name": "Python 3 (Spyder)",
   "language": "python3",
   "name": "python3"
  },
  "language_info": {
   "codemirror_mode": {
    "name": "ipython",
    "version": 3
   },
   "file_extension": ".py",
   "mimetype": "text/x-python",
   "name": "python",
   "nbconvert_exporter": "python",
   "pygments_lexer": "ipython3",
   "version": "3.8.12"
  }
 },
 "nbformat": 4,
 "nbformat_minor": 4
}
